{
 "cells": [
  {
   "cell_type": "code",
   "execution_count": 277,
   "metadata": {},
   "outputs": [],
   "source": [
    "import requests\n",
    "import pandas as pd"
   ]
  },
  {
   "cell_type": "markdown",
   "metadata": {},
   "source": [
    "##### First Subreddit >>> https://www.reddit.com/r/Overwatch/"
   ]
  },
  {
   "cell_type": "code",
   "execution_count": 300,
   "metadata": {},
   "outputs": [],
   "source": [
    "# Example: https://api.pushshift.io/reddit/search/comment/?q=science&subreddit=askscience\n",
    "\n",
    "# Requested URL root:\n",
    "url = 'https://api.pushshift.io/reddit/search/submission'"
   ]
  },
  {
   "cell_type": "code",
   "execution_count": 301,
   "metadata": {},
   "outputs": [
    {
     "name": "stdout",
     "output_type": "stream",
     "text": [
      "Test URL >>> ('https://api.pushshift.io/reddit/search/submission', {'subreddit': 'Overwatch', 'size': 1000})\n",
      "Length >>> 1000\n",
      "Res-code >>> 200\n",
      "Last post UTC >>> 1587589490\n"
     ]
    }
   ],
   "source": [
    "# Set up params:\n",
    "params = {\n",
    "#     'q': 'overwatch',            # Helper Key\n",
    "    'subreddit': 'Overwatch',    # Sub-name\n",
    "    'size': 1000,\n",
    "#     'sort': 'asc'\n",
    "#     'before': 1587594716\n",
    "}\n",
    "\n",
    "# Print test URL:\n",
    "print(f'Test URL >>> {url, params}')\n",
    "\n",
    "# Pull parameters: \n",
    "res = requests.get(url, params)\n",
    "data = res.json()\n",
    "posts = data['data']\n",
    "print(f'Length >>> {len(posts)}')\n",
    "print(f'Res-code >>> {res.status_code}')\n",
    "\n",
    "# First pull last utc:\n",
    "last_post = posts[-1]['created_utc']\n",
    "print(f'Last post UTC >>> {last_post}')"
   ]
  },
  {
   "cell_type": "code",
   "execution_count": 302,
   "metadata": {},
   "outputs": [
    {
     "name": "stdout",
     "output_type": "stream",
     "text": [
      "Test URL >>> ('https://api.pushshift.io/reddit/search/submission', {'subreddit': 'Overwatch', 'before': '300d', 'size': 1000})\n",
      "Length >>> 1000\n",
      "Res-code >>> 200\n",
      "Last post UTC >>> 1561923069\n"
     ]
    }
   ],
   "source": [
    "# Second pull >>>\n",
    "\n",
    "# Set up params:\n",
    "params2 = {\n",
    "#     'q': 'overwatch',\n",
    "    'subreddit': 'Overwatch',\n",
    "    'before': '300d',\n",
    "    'size': 1000\n",
    "}\n",
    "\n",
    "# Print test URL:\n",
    "print(f'Test URL >>> {url, params2}')\n",
    "\n",
    "# Pull parameters: \n",
    "res2 = requests.get(url, params2)\n",
    "data2 = res2.json()\n",
    "posts2 = data2['data']\n",
    "print(f'Length >>> {len(posts2)}')\n",
    "print(f'Res-code >>> {res2.status_code}')\n",
    "\n",
    "# First pull last utc:\n",
    "last_post2 = posts2[0]['created_utc']\n",
    "print(f'Last post UTC >>> {last_post2}')"
   ]
  },
  {
   "cell_type": "code",
   "execution_count": 303,
   "metadata": {},
   "outputs": [
    {
     "data": {
      "text/plain": [
       "list"
      ]
     },
     "execution_count": 303,
     "metadata": {},
     "output_type": "execute_result"
    }
   ],
   "source": [
    "type(posts)"
   ]
  },
  {
   "cell_type": "code",
   "execution_count": 304,
   "metadata": {},
   "outputs": [
    {
     "name": "stdout",
     "output_type": "stream",
     "text": [
      "Shape >>> (2000, 3)\n",
      "Duplicates >>> 52\n"
     ]
    },
    {
     "data": {
      "text/html": [
       "<div>\n",
       "<style scoped>\n",
       "    .dataframe tbody tr th:only-of-type {\n",
       "        vertical-align: middle;\n",
       "    }\n",
       "\n",
       "    .dataframe tbody tr th {\n",
       "        vertical-align: top;\n",
       "    }\n",
       "\n",
       "    .dataframe thead th {\n",
       "        text-align: right;\n",
       "    }\n",
       "</style>\n",
       "<table border=\"1\" class=\"dataframe\">\n",
       "  <thead>\n",
       "    <tr style=\"text-align: right;\">\n",
       "      <th></th>\n",
       "      <th>subreddit</th>\n",
       "      <th>selftext</th>\n",
       "      <th>title</th>\n",
       "    </tr>\n",
       "  </thead>\n",
       "  <tbody>\n",
       "    <tr>\n",
       "      <th>0</th>\n",
       "      <td>Overwatch</td>\n",
       "      <td>I heard they were reworking the communication ...</td>\n",
       "      <td>A new communication option</td>\n",
       "    </tr>\n",
       "    <tr>\n",
       "      <th>1</th>\n",
       "      <td>Overwatch</td>\n",
       "      <td>[removed]</td>\n",
       "      <td>Friends to play</td>\n",
       "    </tr>\n",
       "    <tr>\n",
       "      <th>2</th>\n",
       "      <td>Overwatch</td>\n",
       "      <td>Many Ow guides says that Hero ____ is a off Ta...</td>\n",
       "      <td>What does off, on Tank/Healer mean?</td>\n",
       "    </tr>\n",
       "    <tr>\n",
       "      <th>3</th>\n",
       "      <td>Overwatch</td>\n",
       "      <td>So, I just did my placement matches. I peaked ...</td>\n",
       "      <td>I just loss 150 SR over 1 match. What's going on?</td>\n",
       "    </tr>\n",
       "    <tr>\n",
       "      <th>4</th>\n",
       "      <td>Overwatch</td>\n",
       "      <td></td>\n",
       "      <td>I wanna be a better/ bigger streamer. But over...</td>\n",
       "    </tr>\n",
       "  </tbody>\n",
       "</table>\n",
       "</div>"
      ],
      "text/plain": [
       "   subreddit                                           selftext  \\\n",
       "0  Overwatch  I heard they were reworking the communication ...   \n",
       "1  Overwatch                                          [removed]   \n",
       "2  Overwatch  Many Ow guides says that Hero ____ is a off Ta...   \n",
       "3  Overwatch  So, I just did my placement matches. I peaked ...   \n",
       "4  Overwatch                                                      \n",
       "\n",
       "                                               title  \n",
       "0                         A new communication option  \n",
       "1                                    Friends to play  \n",
       "2                What does off, on Tank/Healer mean?  \n",
       "3  I just loss 150 SR over 1 match. What's going on?  \n",
       "4  I wanna be a better/ bigger streamer. But over...  "
      ]
     },
     "execution_count": 304,
     "metadata": {},
     "output_type": "execute_result"
    }
   ],
   "source": [
    "df = pd.DataFrame(posts + posts2)\n",
    "df = df[['subreddit', 'selftext', 'title']]\n",
    "\n",
    "print(f'Shape >>> {df.shape}')\n",
    "print(f'Duplicates >>> {df.duplicated().sum()}')\n",
    "\n",
    "df.head()"
   ]
  },
  {
   "cell_type": "code",
   "execution_count": 293,
   "metadata": {},
   "outputs": [],
   "source": [
    "# Export data >>>\n",
    "df.to_csv('./datasets/overwatch_raw.csv')"
   ]
  },
  {
   "cell_type": "markdown",
   "metadata": {},
   "source": [
    "##### Second Subreddit >>> https://www.reddit.com/r/leagueoflegends/"
   ]
  },
  {
   "cell_type": "code",
   "execution_count": 294,
   "metadata": {},
   "outputs": [
    {
     "name": "stdout",
     "output_type": "stream",
     "text": [
      "Test URL >>> ('https://api.pushshift.io/reddit/search/submission', {'subreddit': 'leagueoflegends', 'size': 1000})\n",
      "Length >>> 1000\n",
      "Res-code >>> 200\n",
      "Last post UTC >>> 1587587349\n"
     ]
    }
   ],
   "source": [
    "# Set up params:\n",
    "params3 = {\n",
    "#     'q': 'league',                    \n",
    "    'subreddit': 'leagueoflegends',   \n",
    "    'size': 1000\n",
    "}\n",
    "\n",
    "# Print test URL:\n",
    "print(f'Test URL >>> {url, params3}')\n",
    "\n",
    "# Pull parameters: \n",
    "res3 = requests.get(url, params3)\n",
    "data3 = res3.json()\n",
    "posts3 = data3['data']\n",
    "print(f'Length >>> {len(posts3)}')\n",
    "print(f'Res-code >>> {res3.status_code}')\n",
    "\n",
    "# First pull last utc:\n",
    "last_post3 = posts3[-1]['created_utc']\n",
    "print(f'Last post UTC >>> {last_post3}')"
   ]
  },
  {
   "cell_type": "code",
   "execution_count": 295,
   "metadata": {},
   "outputs": [
    {
     "name": "stdout",
     "output_type": "stream",
     "text": [
      "Test URL >>> ('https://api.pushshift.io/reddit/search/submission', {'subreddit': 'leagueoflegends', 'before': '300d', 'size': 1000})\n",
      "Length >>> 1000\n",
      "Res-code >>> 200\n",
      "Last post UTC >>> 1561744387\n"
     ]
    }
   ],
   "source": [
    "# Second pull >>>\n",
    "\n",
    "# Set up params:\n",
    "params4 = {\n",
    "#     'q': 'league',\n",
    "    'subreddit': 'leagueoflegends',\n",
    "    'before': '300d',\n",
    "    'size': 1000\n",
    "}\n",
    "\n",
    "# Print test URL:\n",
    "print(f'Test URL >>> {url, params4}')\n",
    "\n",
    "# Pull parameters: \n",
    "res4 = requests.get(url, params4)\n",
    "data4 = res4.json()\n",
    "posts4 = data4['data']\n",
    "print(f'Length >>> {len(posts4)}')\n",
    "print(f'Res-code >>> {res4.status_code}')\n",
    "\n",
    "# First pull last utc:\n",
    "last_post4 = posts4[0]['created_utc']\n",
    "print(f'Last post UTC >>> {last_post4}')"
   ]
  },
  {
   "cell_type": "code",
   "execution_count": 296,
   "metadata": {},
   "outputs": [
    {
     "name": "stdout",
     "output_type": "stream",
     "text": [
      "Shape >>> (2000, 3)\n",
      "Duplicates >>> 51\n"
     ]
    },
    {
     "data": {
      "text/html": [
       "<div>\n",
       "<style scoped>\n",
       "    .dataframe tbody tr th:only-of-type {\n",
       "        vertical-align: middle;\n",
       "    }\n",
       "\n",
       "    .dataframe tbody tr th {\n",
       "        vertical-align: top;\n",
       "    }\n",
       "\n",
       "    .dataframe thead th {\n",
       "        text-align: right;\n",
       "    }\n",
       "</style>\n",
       "<table border=\"1\" class=\"dataframe\">\n",
       "  <thead>\n",
       "    <tr style=\"text-align: right;\">\n",
       "      <th></th>\n",
       "      <th>subreddit</th>\n",
       "      <th>selftext</th>\n",
       "      <th>title</th>\n",
       "    </tr>\n",
       "  </thead>\n",
       "  <tbody>\n",
       "    <tr>\n",
       "      <th>0</th>\n",
       "      <td>leagueoflegends</td>\n",
       "      <td>I'm playing on my smurf in Plat1-D4 elo and gu...</td>\n",
       "      <td>We need harder punishment for ruining a game</td>\n",
       "    </tr>\n",
       "    <tr>\n",
       "      <th>1</th>\n",
       "      <td>leagueoflegends</td>\n",
       "      <td>Hello Guys,  \\nI made the mistake of typing in...</td>\n",
       "      <td>Is this reportable?</td>\n",
       "    </tr>\n",
       "    <tr>\n",
       "      <th>2</th>\n",
       "      <td>leagueoflegends</td>\n",
       "      <td></td>\n",
       "      <td>Caps with insane Equalizer</td>\n",
       "    </tr>\n",
       "    <tr>\n",
       "      <th>3</th>\n",
       "      <td>leagueoflegends</td>\n",
       "      <td>One really nice, and I would imagine easy feat...</td>\n",
       "      <td>A nice feature on client (beside a working one...</td>\n",
       "    </tr>\n",
       "    <tr>\n",
       "      <th>4</th>\n",
       "      <td>leagueoflegends</td>\n",
       "      <td>Hello,  \\nI've been chat restricted twice for ...</td>\n",
       "      <td>Why do you get chat restricted when you tell t...</td>\n",
       "    </tr>\n",
       "  </tbody>\n",
       "</table>\n",
       "</div>"
      ],
      "text/plain": [
       "         subreddit                                           selftext  \\\n",
       "0  leagueoflegends  I'm playing on my smurf in Plat1-D4 elo and gu...   \n",
       "1  leagueoflegends  Hello Guys,  \\nI made the mistake of typing in...   \n",
       "2  leagueoflegends                                                      \n",
       "3  leagueoflegends  One really nice, and I would imagine easy feat...   \n",
       "4  leagueoflegends  Hello,  \\nI've been chat restricted twice for ...   \n",
       "\n",
       "                                               title  \n",
       "0       We need harder punishment for ruining a game  \n",
       "1                                Is this reportable?  \n",
       "2                         Caps with insane Equalizer  \n",
       "3  A nice feature on client (beside a working one...  \n",
       "4  Why do you get chat restricted when you tell t...  "
      ]
     },
     "execution_count": 296,
     "metadata": {},
     "output_type": "execute_result"
    }
   ],
   "source": [
    "df2 = pd.DataFrame(posts3 + posts4)\n",
    "df2 = df2[['subreddit', 'selftext', 'title']]\n",
    "\n",
    "print(f'Shape >>> {df2.shape}')\n",
    "print(f'Duplicates >>> {df2.duplicated().sum()}')\n",
    "\n",
    "df2.head()"
   ]
  },
  {
   "cell_type": "code",
   "execution_count": 297,
   "metadata": {},
   "outputs": [],
   "source": [
    "# Export data >>>\n",
    "df2.to_csv('./datasets/leagueoflegends_raw.csv')"
   ]
  }
 ],
 "metadata": {
  "kernelspec": {
   "display_name": "Python 3",
   "language": "python",
   "name": "python3"
  },
  "language_info": {
   "codemirror_mode": {
    "name": "ipython",
    "version": 3
   },
   "file_extension": ".py",
   "mimetype": "text/x-python",
   "name": "python",
   "nbconvert_exporter": "python",
   "pygments_lexer": "ipython3",
   "version": "3.7.6"
  }
 },
 "nbformat": 4,
 "nbformat_minor": 4
}
