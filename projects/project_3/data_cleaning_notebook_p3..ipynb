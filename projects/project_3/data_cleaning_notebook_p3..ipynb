{
 "cells": [
  {
   "cell_type": "code",
   "execution_count": 20,
   "metadata": {},
   "outputs": [],
   "source": [
    "import pandas as pd\n",
    "import numpy as np\n",
    "import matplotlib.pyplot as plt\n",
    "from sklearn.linear_model import LogisticRegression\n",
    "from nltk.tokenize import RegexpTokenizer\n",
    "import nltk\n",
    "from nltk.stem import WordNetLemmatizer\n",
    "from bs4 import BeautifulSoup"
   ]
  },
  {
   "cell_type": "markdown",
   "metadata": {},
   "source": [
    "### Dataset 1: overwatch"
   ]
  },
  {
   "cell_type": "code",
   "execution_count": 30,
   "metadata": {},
   "outputs": [
    {
     "name": "stdout",
     "output_type": "stream",
     "text": [
      "To remove >>> 272\n",
      "Shape >>> (2000, 4)\n",
      "Duplicates >>> 45\n"
     ]
    }
   ],
   "source": [
    "# Read in dataset 1 >>>\n",
    "\n",
    "dataset1_csv = './datasets/overwatch_raw.csv'\n",
    "dataset1 = pd.read_csv(dataset1_csv)\n",
    "dataset1.drop(columns=['Unnamed: 0'], inplace=True)\n",
    "\n",
    "# Dataframe >>>\n",
    "df_1 = pd.DataFrame(dataset1)\n",
    "\n",
    "# Add constants >>>\n",
    "df_1 = df_1[['subreddit', 'selftext', 'title']]\n",
    "df_1['target'] = 1\n",
    "\n",
    "# test >>>\n",
    "ttt = df_1.loc[(df_1['selftext'] == '[removed]') | (df_1['selftext'] == '[deleted]')]\n",
    "print(f'To remove >>> {len(ttt)}')\n",
    "\n",
    "# Report >>>\n",
    "print(f'Shape >>> {df_1.shape}')\n",
    "print(f'Duplicates >>> {df_1.duplicated().sum()}')"
   ]
  },
  {
   "cell_type": "code",
   "execution_count": 31,
   "metadata": {},
   "outputs": [
    {
     "name": "stdout",
     "output_type": "stream",
     "text": [
      "Overwatch\n",
      "To remove >>> 0\n",
      "Shape >>> (2000, 3)\n",
      "Duplicates >>> 52\n"
     ]
    }
   ],
   "source": [
    "# Clean dataset 1 >>>\n",
    "print(df_1['subreddit'][0])\n",
    "\n",
    "# Remove [removed] & [deleted] >>>\n",
    "df_1['selftext'] = df_1['selftext'].replace('[removed]', '')\n",
    "df_1['selftext'] = df_1['selftext'].replace('[deleted]', '')\n",
    "df_1['selftext'] = df_1['selftext'].fillna('')\n",
    "\n",
    "# test >>>\n",
    "ttt = df_1.loc[(df_1['selftext'] == '[removed]') | (df_1['selftext'] == '[deleted]')]\n",
    "print(f'To remove >>> {len(ttt)}')\n",
    "\n",
    "# Combine columns >>>\n",
    "df_1['text'] = df_1['selftext'].astype(str) + df_1['title'].astype(str)\n",
    "df_1 = df_1[['subreddit', 'text', 'target']]    \n",
    "\n",
    "# Report >>>\n",
    "print(f'Shape >>> {df_1.shape}')\n",
    "print(f'Duplicates >>> {df_1.duplicated().sum()}')"
   ]
  },
  {
   "cell_type": "markdown",
   "metadata": {},
   "source": [
    "### Dataset 2: league of legends"
   ]
  },
  {
   "cell_type": "code",
   "execution_count": 32,
   "metadata": {},
   "outputs": [
    {
     "name": "stdout",
     "output_type": "stream",
     "text": [
      "To remove >>> 407\n",
      "Shape >>> (2000, 4)\n",
      "Duplicates >>> 51\n"
     ]
    }
   ],
   "source": [
    "## Read in dataset 2 >>>\n",
    "\n",
    "# To remove >>> \n",
    "dataset2_csv = './datasets/leagueoflegends_raw.csv'\n",
    "dataset2 = pd.read_csv(dataset2_csv)\n",
    "dataset2.drop(columns=['Unnamed: 0'], inplace=True)\n",
    "\n",
    "# Dataframe >>>\n",
    "df_2 = pd.DataFrame(dataset2)\n",
    "\n",
    "# Add constants >>>\n",
    "df_2 = df_2[['subreddit', 'selftext', 'title']]\n",
    "df_2['target'] = 0\n",
    "\n",
    "# test >>>\n",
    "ttt = df_2.loc[(df_2['selftext'] == '[removed]') | (df_2['selftext'] == '[deleted]')]\n",
    "print(f'To remove >>> {len(ttt)}')\n",
    "\n",
    "# Report >>>\n",
    "print(f'Shape >>> {df_2.shape}')\n",
    "print(f'Duplicates >>> {df_2.duplicated().sum()}')"
   ]
  },
  {
   "cell_type": "code",
   "execution_count": 33,
   "metadata": {},
   "outputs": [
    {
     "name": "stdout",
     "output_type": "stream",
     "text": [
      "leagueoflegends\n",
      "To remove >>> 0\n",
      "Shape >>> (2000, 3)\n",
      "Duplicates >>> 82\n"
     ]
    }
   ],
   "source": [
    "# Clean dataset 2 >>>\n",
    "print(df_2['subreddit'][0])\n",
    "\n",
    "# To remove >>>\n",
    "df_2['selftext'] = df_2['selftext'].replace('[removed]', '')\n",
    "df_2['selftext'] = df_2['selftext'].replace('[deleted]', '')\n",
    "df_2['selftext'] = df_2['selftext'].fillna('')\n",
    "\n",
    "# test >>>\n",
    "ttt = df_2.loc[(df_2['selftext'] == '[removed]') | (df_2['selftext'] == '[deleted]')]\n",
    "print(f'To remove >>> {len(ttt)}')\n",
    "\n",
    "# Combine columns >>>\n",
    "df_2['text'] = df_2['selftext'].astype(str) + df_2['title'].astype(str)\n",
    "df_2 = df_2[['subreddit', 'text', 'target']]    \n",
    "\n",
    "# Report >>>\n",
    "print(f'Shape >>> {df_2.shape}')\n",
    "print(f'Duplicates >>> {df_2.duplicated().sum()}')"
   ]
  },
  {
   "cell_type": "code",
   "execution_count": 34,
   "metadata": {},
   "outputs": [],
   "source": [
    "# combine Dataframes >>>\n",
    "\n",
    "df_final =[df_1, df_2]\n",
    "final = pd.concat(df_final,axis=0,ignore_index=True)"
   ]
  },
  {
   "cell_type": "code",
   "execution_count": 35,
   "metadata": {
    "scrolled": true
   },
   "outputs": [
    {
     "data": {
      "text/html": [
       "<div>\n",
       "<style scoped>\n",
       "    .dataframe tbody tr th:only-of-type {\n",
       "        vertical-align: middle;\n",
       "    }\n",
       "\n",
       "    .dataframe tbody tr th {\n",
       "        vertical-align: top;\n",
       "    }\n",
       "\n",
       "    .dataframe thead th {\n",
       "        text-align: right;\n",
       "    }\n",
       "</style>\n",
       "<table border=\"1\" class=\"dataframe\">\n",
       "  <thead>\n",
       "    <tr style=\"text-align: right;\">\n",
       "      <th></th>\n",
       "      <th>subreddit</th>\n",
       "      <th>text</th>\n",
       "      <th>target</th>\n",
       "    </tr>\n",
       "  </thead>\n",
       "  <tbody>\n",
       "    <tr>\n",
       "      <th>0</th>\n",
       "      <td>Overwatch</td>\n",
       "      <td>Solo queue is bad for my mental health...</td>\n",
       "      <td>1</td>\n",
       "    </tr>\n",
       "    <tr>\n",
       "      <th>1</th>\n",
       "      <td>Overwatch</td>\n",
       "      <td>I’ve always wondered about Sym’s arm and have ...</td>\n",
       "      <td>1</td>\n",
       "    </tr>\n",
       "    <tr>\n",
       "      <th>2</th>\n",
       "      <td>Overwatch</td>\n",
       "      <td>my 14 yo. sister in law painted this, and i th...</td>\n",
       "      <td>1</td>\n",
       "    </tr>\n",
       "    <tr>\n",
       "      <th>3</th>\n",
       "      <td>Overwatch</td>\n",
       "      <td>my 14 yo. sister in law painted this picture, ...</td>\n",
       "      <td>1</td>\n",
       "    </tr>\n",
       "    <tr>\n",
       "      <th>4</th>\n",
       "      <td>Overwatch</td>\n",
       "      <td>that is allMy replays list is completely red</td>\n",
       "      <td>1</td>\n",
       "    </tr>\n",
       "  </tbody>\n",
       "</table>\n",
       "</div>"
      ],
      "text/plain": [
       "   subreddit                                               text  target\n",
       "0  Overwatch          Solo queue is bad for my mental health...       1\n",
       "1  Overwatch  I’ve always wondered about Sym’s arm and have ...       1\n",
       "2  Overwatch  my 14 yo. sister in law painted this, and i th...       1\n",
       "3  Overwatch  my 14 yo. sister in law painted this picture, ...       1\n",
       "4  Overwatch       that is allMy replays list is completely red       1"
      ]
     },
     "execution_count": 35,
     "metadata": {},
     "output_type": "execute_result"
    }
   ],
   "source": [
    "final.head() "
   ]
  },
  {
   "cell_type": "code",
   "execution_count": 36,
   "metadata": {},
   "outputs": [
    {
     "data": {
      "text/html": [
       "<div>\n",
       "<style scoped>\n",
       "    .dataframe tbody tr th:only-of-type {\n",
       "        vertical-align: middle;\n",
       "    }\n",
       "\n",
       "    .dataframe tbody tr th {\n",
       "        vertical-align: top;\n",
       "    }\n",
       "\n",
       "    .dataframe thead th {\n",
       "        text-align: right;\n",
       "    }\n",
       "</style>\n",
       "<table border=\"1\" class=\"dataframe\">\n",
       "  <thead>\n",
       "    <tr style=\"text-align: right;\">\n",
       "      <th></th>\n",
       "      <th>subreddit</th>\n",
       "      <th>text</th>\n",
       "      <th>target</th>\n",
       "    </tr>\n",
       "  </thead>\n",
       "  <tbody>\n",
       "    <tr>\n",
       "      <th>3995</th>\n",
       "      <td>leagueoflegends</td>\n",
       "      <td>Game started and everyone had an invisible cha...</td>\n",
       "      <td>0</td>\n",
       "    </tr>\n",
       "    <tr>\n",
       "      <th>3996</th>\n",
       "      <td>leagueoflegends</td>\n",
       "      <td>So I have to win 2 of 3 games to be promoted. ...</td>\n",
       "      <td>0</td>\n",
       "    </tr>\n",
       "    <tr>\n",
       "      <th>3997</th>\n",
       "      <td>leagueoflegends</td>\n",
       "      <td>I broke hail of blades</td>\n",
       "      <td>0</td>\n",
       "    </tr>\n",
       "    <tr>\n",
       "      <th>3998</th>\n",
       "      <td>leagueoflegends</td>\n",
       "      <td>I was thinking of what champs in LoL best repr...</td>\n",
       "      <td>0</td>\n",
       "    </tr>\n",
       "    <tr>\n",
       "      <th>3999</th>\n",
       "      <td>leagueoflegends</td>\n",
       "      <td>Steve' secret message revealed?</td>\n",
       "      <td>0</td>\n",
       "    </tr>\n",
       "  </tbody>\n",
       "</table>\n",
       "</div>"
      ],
      "text/plain": [
       "            subreddit                                               text  \\\n",
       "3995  leagueoflegends  Game started and everyone had an invisible cha...   \n",
       "3996  leagueoflegends  So I have to win 2 of 3 games to be promoted. ...   \n",
       "3997  leagueoflegends                             I broke hail of blades   \n",
       "3998  leagueoflegends  I was thinking of what champs in LoL best repr...   \n",
       "3999  leagueoflegends                    Steve' secret message revealed?   \n",
       "\n",
       "      target  \n",
       "3995       0  \n",
       "3996       0  \n",
       "3997       0  \n",
       "3998       0  \n",
       "3999       0  "
      ]
     },
     "execution_count": 36,
     "metadata": {},
     "output_type": "execute_result"
    }
   ],
   "source": [
    "final.tail()"
   ]
  },
  {
   "cell_type": "code",
   "execution_count": 37,
   "metadata": {},
   "outputs": [
    {
     "data": {
      "text/plain": [
       "(4000, 3)"
      ]
     },
     "execution_count": 37,
     "metadata": {},
     "output_type": "execute_result"
    }
   ],
   "source": [
    "final.shape"
   ]
  },
  {
   "cell_type": "code",
   "execution_count": 38,
   "metadata": {},
   "outputs": [],
   "source": [
    "final.to_csv('./datasets/final_clean.csv')"
   ]
  },
  {
   "cell_type": "code",
   "execution_count": 39,
   "metadata": {},
   "outputs": [],
   "source": [
    "# remove duplicates"
   ]
  }
 ],
 "metadata": {
  "kernelspec": {
   "display_name": "Python 3",
   "language": "python",
   "name": "python3"
  },
  "language_info": {
   "codemirror_mode": {
    "name": "ipython",
    "version": 3
   },
   "file_extension": ".py",
   "mimetype": "text/x-python",
   "name": "python",
   "nbconvert_exporter": "python",
   "pygments_lexer": "ipython3",
   "version": "3.7.6"
  }
 },
 "nbformat": 4,
 "nbformat_minor": 4
}
