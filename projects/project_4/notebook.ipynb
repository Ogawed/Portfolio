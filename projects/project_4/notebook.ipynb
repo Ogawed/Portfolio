{
 "cells": [
  {
   "cell_type": "code",
   "execution_count": 130,
   "metadata": {},
   "outputs": [],
   "source": [
    "import pandas as pd\n",
    "import numpy as np\n",
    "import matplotlib.pyplot as plt\n",
    "import seaborn as sns\n",
    "from sklearn.model_selection import train_test_split, GridSearchCV\n",
    "from sklearn.pipeline import Pipeline\n",
    "from sklearn.linear_model import LogisticRegression\n",
    "from sklearn.linear_model import LinearRegression \n",
    "from sklearn.metrics import r2_score\n",
    "from sklearn.neighbors import KNeighborsClassifier\n",
    "from sklearn.preprocessing import StandardScaler\n",
    "from sklearn.model_selection import cross_val_score\n",
    "from sklearn.metrics import confusion_matrix\n"
   ]
  },
  {
   "cell_type": "code",
   "execution_count": 131,
   "metadata": {},
   "outputs": [],
   "source": [
    "df = pd.read_csv('high_diamond_ranked_10min.csv')"
   ]
  },
  {
   "cell_type": "code",
   "execution_count": 132,
   "metadata": {},
   "outputs": [],
   "source": [
    "# Scoring features >>>\n",
    "\n",
    "# df['blue_engi_score'] = df['redTotalExperience']"
   ]
  },
  {
   "cell_type": "code",
   "execution_count": 287,
   "metadata": {},
   "outputs": [
    {
     "data": {
      "text/plain": [
       "Index(['gameId', 'blueWins', 'blueWardsPlaced', 'blueWardsDestroyed',\n",
       "       'blueFirstBlood', 'blueKills', 'blueDeaths', 'blueAssists',\n",
       "       'blueEliteMonsters', 'blueDragons', 'blueHeralds',\n",
       "       'blueTowersDestroyed', 'blueTotalGold', 'blueAvgLevel',\n",
       "       'blueTotalExperience', 'blueTotalMinionsKilled',\n",
       "       'blueTotalJungleMinionsKilled', 'blueGoldDiff', 'blueExperienceDiff',\n",
       "       'blueCSPerMin', 'blueGoldPerMin', 'redWardsPlaced', 'redWardsDestroyed',\n",
       "       'redFirstBlood', 'redKills', 'redDeaths', 'redAssists',\n",
       "       'redEliteMonsters', 'redDragons', 'redHeralds', 'redTowersDestroyed',\n",
       "       'redTotalGold', 'redAvgLevel', 'redTotalExperience',\n",
       "       'redTotalMinionsKilled', 'redTotalJungleMinionsKilled', 'redGoldDiff',\n",
       "       'redExperienceDiff', 'redCSPerMin', 'redGoldPerMin', 'interaction'],\n",
       "      dtype='object')"
      ]
     },
     "execution_count": 287,
     "metadata": {},
     "output_type": "execute_result"
    }
   ],
   "source": [
    "df.columns"
   ]
  },
  {
   "cell_type": "code",
   "execution_count": 134,
   "metadata": {},
   "outputs": [
    {
     "data": {
      "text/html": [
       "<div>\n",
       "<style scoped>\n",
       "    .dataframe tbody tr th:only-of-type {\n",
       "        vertical-align: middle;\n",
       "    }\n",
       "\n",
       "    .dataframe tbody tr th {\n",
       "        vertical-align: top;\n",
       "    }\n",
       "\n",
       "    .dataframe thead th {\n",
       "        text-align: right;\n",
       "    }\n",
       "</style>\n",
       "<table border=\"1\" class=\"dataframe\">\n",
       "  <thead>\n",
       "    <tr style=\"text-align: right;\">\n",
       "      <th></th>\n",
       "      <th>gameId</th>\n",
       "      <th>blueWins</th>\n",
       "      <th>blueWardsPlaced</th>\n",
       "      <th>blueWardsDestroyed</th>\n",
       "      <th>blueFirstBlood</th>\n",
       "      <th>blueKills</th>\n",
       "      <th>blueDeaths</th>\n",
       "      <th>blueAssists</th>\n",
       "      <th>blueEliteMonsters</th>\n",
       "      <th>blueDragons</th>\n",
       "      <th>...</th>\n",
       "      <th>redTowersDestroyed</th>\n",
       "      <th>redTotalGold</th>\n",
       "      <th>redAvgLevel</th>\n",
       "      <th>redTotalExperience</th>\n",
       "      <th>redTotalMinionsKilled</th>\n",
       "      <th>redTotalJungleMinionsKilled</th>\n",
       "      <th>redGoldDiff</th>\n",
       "      <th>redExperienceDiff</th>\n",
       "      <th>redCSPerMin</th>\n",
       "      <th>redGoldPerMin</th>\n",
       "    </tr>\n",
       "  </thead>\n",
       "  <tbody>\n",
       "    <tr>\n",
       "      <th>0</th>\n",
       "      <td>4519157822</td>\n",
       "      <td>0</td>\n",
       "      <td>28</td>\n",
       "      <td>2</td>\n",
       "      <td>1</td>\n",
       "      <td>9</td>\n",
       "      <td>6</td>\n",
       "      <td>11</td>\n",
       "      <td>0</td>\n",
       "      <td>0</td>\n",
       "      <td>...</td>\n",
       "      <td>0</td>\n",
       "      <td>16567</td>\n",
       "      <td>6.8</td>\n",
       "      <td>17047</td>\n",
       "      <td>197</td>\n",
       "      <td>55</td>\n",
       "      <td>-643</td>\n",
       "      <td>8</td>\n",
       "      <td>19.7</td>\n",
       "      <td>1656.7</td>\n",
       "    </tr>\n",
       "    <tr>\n",
       "      <th>1</th>\n",
       "      <td>4523371949</td>\n",
       "      <td>0</td>\n",
       "      <td>12</td>\n",
       "      <td>1</td>\n",
       "      <td>0</td>\n",
       "      <td>5</td>\n",
       "      <td>5</td>\n",
       "      <td>5</td>\n",
       "      <td>0</td>\n",
       "      <td>0</td>\n",
       "      <td>...</td>\n",
       "      <td>1</td>\n",
       "      <td>17620</td>\n",
       "      <td>6.8</td>\n",
       "      <td>17438</td>\n",
       "      <td>240</td>\n",
       "      <td>52</td>\n",
       "      <td>2908</td>\n",
       "      <td>1173</td>\n",
       "      <td>24.0</td>\n",
       "      <td>1762.0</td>\n",
       "    </tr>\n",
       "    <tr>\n",
       "      <th>2</th>\n",
       "      <td>4521474530</td>\n",
       "      <td>0</td>\n",
       "      <td>15</td>\n",
       "      <td>0</td>\n",
       "      <td>0</td>\n",
       "      <td>7</td>\n",
       "      <td>11</td>\n",
       "      <td>4</td>\n",
       "      <td>1</td>\n",
       "      <td>1</td>\n",
       "      <td>...</td>\n",
       "      <td>0</td>\n",
       "      <td>17285</td>\n",
       "      <td>6.8</td>\n",
       "      <td>17254</td>\n",
       "      <td>203</td>\n",
       "      <td>28</td>\n",
       "      <td>1172</td>\n",
       "      <td>1033</td>\n",
       "      <td>20.3</td>\n",
       "      <td>1728.5</td>\n",
       "    </tr>\n",
       "    <tr>\n",
       "      <th>3</th>\n",
       "      <td>4524384067</td>\n",
       "      <td>0</td>\n",
       "      <td>43</td>\n",
       "      <td>1</td>\n",
       "      <td>0</td>\n",
       "      <td>4</td>\n",
       "      <td>5</td>\n",
       "      <td>5</td>\n",
       "      <td>1</td>\n",
       "      <td>0</td>\n",
       "      <td>...</td>\n",
       "      <td>0</td>\n",
       "      <td>16478</td>\n",
       "      <td>7.0</td>\n",
       "      <td>17961</td>\n",
       "      <td>235</td>\n",
       "      <td>47</td>\n",
       "      <td>1321</td>\n",
       "      <td>7</td>\n",
       "      <td>23.5</td>\n",
       "      <td>1647.8</td>\n",
       "    </tr>\n",
       "    <tr>\n",
       "      <th>4</th>\n",
       "      <td>4436033771</td>\n",
       "      <td>0</td>\n",
       "      <td>75</td>\n",
       "      <td>4</td>\n",
       "      <td>0</td>\n",
       "      <td>6</td>\n",
       "      <td>6</td>\n",
       "      <td>6</td>\n",
       "      <td>0</td>\n",
       "      <td>0</td>\n",
       "      <td>...</td>\n",
       "      <td>0</td>\n",
       "      <td>17404</td>\n",
       "      <td>7.0</td>\n",
       "      <td>18313</td>\n",
       "      <td>225</td>\n",
       "      <td>67</td>\n",
       "      <td>1004</td>\n",
       "      <td>-230</td>\n",
       "      <td>22.5</td>\n",
       "      <td>1740.4</td>\n",
       "    </tr>\n",
       "  </tbody>\n",
       "</table>\n",
       "<p>5 rows × 40 columns</p>\n",
       "</div>"
      ],
      "text/plain": [
       "       gameId  blueWins  blueWardsPlaced  blueWardsDestroyed  blueFirstBlood  \\\n",
       "0  4519157822         0               28                   2               1   \n",
       "1  4523371949         0               12                   1               0   \n",
       "2  4521474530         0               15                   0               0   \n",
       "3  4524384067         0               43                   1               0   \n",
       "4  4436033771         0               75                   4               0   \n",
       "\n",
       "   blueKills  blueDeaths  blueAssists  blueEliteMonsters  blueDragons  ...  \\\n",
       "0          9           6           11                  0            0  ...   \n",
       "1          5           5            5                  0            0  ...   \n",
       "2          7          11            4                  1            1  ...   \n",
       "3          4           5            5                  1            0  ...   \n",
       "4          6           6            6                  0            0  ...   \n",
       "\n",
       "   redTowersDestroyed  redTotalGold  redAvgLevel  redTotalExperience  \\\n",
       "0                   0         16567          6.8               17047   \n",
       "1                   1         17620          6.8               17438   \n",
       "2                   0         17285          6.8               17254   \n",
       "3                   0         16478          7.0               17961   \n",
       "4                   0         17404          7.0               18313   \n",
       "\n",
       "   redTotalMinionsKilled  redTotalJungleMinionsKilled  redGoldDiff  \\\n",
       "0                    197                           55         -643   \n",
       "1                    240                           52         2908   \n",
       "2                    203                           28         1172   \n",
       "3                    235                           47         1321   \n",
       "4                    225                           67         1004   \n",
       "\n",
       "   redExperienceDiff  redCSPerMin  redGoldPerMin  \n",
       "0                  8         19.7         1656.7  \n",
       "1               1173         24.0         1762.0  \n",
       "2               1033         20.3         1728.5  \n",
       "3                  7         23.5         1647.8  \n",
       "4               -230         22.5         1740.4  \n",
       "\n",
       "[5 rows x 40 columns]"
      ]
     },
     "execution_count": 134,
     "metadata": {},
     "output_type": "execute_result"
    }
   ],
   "source": [
    "df.head()"
   ]
  },
  {
   "cell_type": "code",
   "execution_count": 305,
   "metadata": {
    "scrolled": true
   },
   "outputs": [
    {
     "data": {
      "text/html": [
       "<div>\n",
       "<style scoped>\n",
       "    .dataframe tbody tr th:only-of-type {\n",
       "        vertical-align: middle;\n",
       "    }\n",
       "\n",
       "    .dataframe tbody tr th {\n",
       "        vertical-align: top;\n",
       "    }\n",
       "\n",
       "    .dataframe thead th {\n",
       "        text-align: right;\n",
       "    }\n",
       "</style>\n",
       "<table border=\"1\" class=\"dataframe\">\n",
       "  <thead>\n",
       "    <tr style=\"text-align: right;\">\n",
       "      <th></th>\n",
       "      <th>count</th>\n",
       "      <th>mean</th>\n",
       "      <th>std</th>\n",
       "      <th>min</th>\n",
       "      <th>25%</th>\n",
       "      <th>50%</th>\n",
       "      <th>75%</th>\n",
       "      <th>max</th>\n",
       "    </tr>\n",
       "  </thead>\n",
       "  <tbody>\n",
       "    <tr>\n",
       "      <th>gameId</th>\n",
       "      <td>9879.0</td>\n",
       "      <td>4.500084e+09</td>\n",
       "      <td>2.757328e+07</td>\n",
       "      <td>4.295358e+09</td>\n",
       "      <td>4.483301e+09</td>\n",
       "      <td>4.510920e+09</td>\n",
       "      <td>4.521733e+09</td>\n",
       "      <td>4.527991e+09</td>\n",
       "    </tr>\n",
       "    <tr>\n",
       "      <th>blueWins</th>\n",
       "      <td>9879.0</td>\n",
       "      <td>4.990384e-01</td>\n",
       "      <td>5.000244e-01</td>\n",
       "      <td>0.000000e+00</td>\n",
       "      <td>0.000000e+00</td>\n",
       "      <td>0.000000e+00</td>\n",
       "      <td>1.000000e+00</td>\n",
       "      <td>1.000000e+00</td>\n",
       "    </tr>\n",
       "    <tr>\n",
       "      <th>blueWardsPlaced</th>\n",
       "      <td>9879.0</td>\n",
       "      <td>2.228829e+01</td>\n",
       "      <td>1.801918e+01</td>\n",
       "      <td>5.000000e+00</td>\n",
       "      <td>1.400000e+01</td>\n",
       "      <td>1.600000e+01</td>\n",
       "      <td>2.000000e+01</td>\n",
       "      <td>2.500000e+02</td>\n",
       "    </tr>\n",
       "    <tr>\n",
       "      <th>blueWardsDestroyed</th>\n",
       "      <td>9879.0</td>\n",
       "      <td>2.824881e+00</td>\n",
       "      <td>2.174998e+00</td>\n",
       "      <td>0.000000e+00</td>\n",
       "      <td>1.000000e+00</td>\n",
       "      <td>3.000000e+00</td>\n",
       "      <td>4.000000e+00</td>\n",
       "      <td>2.700000e+01</td>\n",
       "    </tr>\n",
       "    <tr>\n",
       "      <th>blueFirstBlood</th>\n",
       "      <td>9879.0</td>\n",
       "      <td>5.048082e-01</td>\n",
       "      <td>5.000022e-01</td>\n",
       "      <td>0.000000e+00</td>\n",
       "      <td>0.000000e+00</td>\n",
       "      <td>1.000000e+00</td>\n",
       "      <td>1.000000e+00</td>\n",
       "      <td>1.000000e+00</td>\n",
       "    </tr>\n",
       "    <tr>\n",
       "      <th>blueKills</th>\n",
       "      <td>9879.0</td>\n",
       "      <td>6.183925e+00</td>\n",
       "      <td>3.011028e+00</td>\n",
       "      <td>0.000000e+00</td>\n",
       "      <td>4.000000e+00</td>\n",
       "      <td>6.000000e+00</td>\n",
       "      <td>8.000000e+00</td>\n",
       "      <td>2.200000e+01</td>\n",
       "    </tr>\n",
       "    <tr>\n",
       "      <th>blueDeaths</th>\n",
       "      <td>9879.0</td>\n",
       "      <td>6.137666e+00</td>\n",
       "      <td>2.933818e+00</td>\n",
       "      <td>0.000000e+00</td>\n",
       "      <td>4.000000e+00</td>\n",
       "      <td>6.000000e+00</td>\n",
       "      <td>8.000000e+00</td>\n",
       "      <td>2.200000e+01</td>\n",
       "    </tr>\n",
       "    <tr>\n",
       "      <th>blueAssists</th>\n",
       "      <td>9879.0</td>\n",
       "      <td>6.645106e+00</td>\n",
       "      <td>4.064520e+00</td>\n",
       "      <td>0.000000e+00</td>\n",
       "      <td>4.000000e+00</td>\n",
       "      <td>6.000000e+00</td>\n",
       "      <td>9.000000e+00</td>\n",
       "      <td>2.900000e+01</td>\n",
       "    </tr>\n",
       "    <tr>\n",
       "      <th>blueEliteMonsters</th>\n",
       "      <td>9879.0</td>\n",
       "      <td>5.499544e-01</td>\n",
       "      <td>6.255265e-01</td>\n",
       "      <td>0.000000e+00</td>\n",
       "      <td>0.000000e+00</td>\n",
       "      <td>0.000000e+00</td>\n",
       "      <td>1.000000e+00</td>\n",
       "      <td>2.000000e+00</td>\n",
       "    </tr>\n",
       "    <tr>\n",
       "      <th>blueDragons</th>\n",
       "      <td>9879.0</td>\n",
       "      <td>3.619800e-01</td>\n",
       "      <td>4.805974e-01</td>\n",
       "      <td>0.000000e+00</td>\n",
       "      <td>0.000000e+00</td>\n",
       "      <td>0.000000e+00</td>\n",
       "      <td>1.000000e+00</td>\n",
       "      <td>1.000000e+00</td>\n",
       "    </tr>\n",
       "    <tr>\n",
       "      <th>blueHeralds</th>\n",
       "      <td>9879.0</td>\n",
       "      <td>1.879745e-01</td>\n",
       "      <td>3.907116e-01</td>\n",
       "      <td>0.000000e+00</td>\n",
       "      <td>0.000000e+00</td>\n",
       "      <td>0.000000e+00</td>\n",
       "      <td>0.000000e+00</td>\n",
       "      <td>1.000000e+00</td>\n",
       "    </tr>\n",
       "    <tr>\n",
       "      <th>blueTowersDestroyed</th>\n",
       "      <td>9879.0</td>\n",
       "      <td>5.142221e-02</td>\n",
       "      <td>2.443692e-01</td>\n",
       "      <td>0.000000e+00</td>\n",
       "      <td>0.000000e+00</td>\n",
       "      <td>0.000000e+00</td>\n",
       "      <td>0.000000e+00</td>\n",
       "      <td>4.000000e+00</td>\n",
       "    </tr>\n",
       "    <tr>\n",
       "      <th>blueTotalGold</th>\n",
       "      <td>9879.0</td>\n",
       "      <td>1.650346e+04</td>\n",
       "      <td>1.535447e+03</td>\n",
       "      <td>1.073000e+04</td>\n",
       "      <td>1.541550e+04</td>\n",
       "      <td>1.639800e+04</td>\n",
       "      <td>1.745900e+04</td>\n",
       "      <td>2.370100e+04</td>\n",
       "    </tr>\n",
       "    <tr>\n",
       "      <th>blueAvgLevel</th>\n",
       "      <td>9879.0</td>\n",
       "      <td>6.916004e+00</td>\n",
       "      <td>3.051458e-01</td>\n",
       "      <td>4.600000e+00</td>\n",
       "      <td>6.800000e+00</td>\n",
       "      <td>7.000000e+00</td>\n",
       "      <td>7.200000e+00</td>\n",
       "      <td>8.000000e+00</td>\n",
       "    </tr>\n",
       "    <tr>\n",
       "      <th>blueTotalExperience</th>\n",
       "      <td>9879.0</td>\n",
       "      <td>1.792811e+04</td>\n",
       "      <td>1.200524e+03</td>\n",
       "      <td>1.009800e+04</td>\n",
       "      <td>1.716800e+04</td>\n",
       "      <td>1.795100e+04</td>\n",
       "      <td>1.872400e+04</td>\n",
       "      <td>2.222400e+04</td>\n",
       "    </tr>\n",
       "    <tr>\n",
       "      <th>blueTotalMinionsKilled</th>\n",
       "      <td>9879.0</td>\n",
       "      <td>2.166996e+02</td>\n",
       "      <td>2.185844e+01</td>\n",
       "      <td>9.000000e+01</td>\n",
       "      <td>2.020000e+02</td>\n",
       "      <td>2.180000e+02</td>\n",
       "      <td>2.320000e+02</td>\n",
       "      <td>2.830000e+02</td>\n",
       "    </tr>\n",
       "    <tr>\n",
       "      <th>blueTotalJungleMinionsKilled</th>\n",
       "      <td>9879.0</td>\n",
       "      <td>5.050967e+01</td>\n",
       "      <td>9.898282e+00</td>\n",
       "      <td>0.000000e+00</td>\n",
       "      <td>4.400000e+01</td>\n",
       "      <td>5.000000e+01</td>\n",
       "      <td>5.600000e+01</td>\n",
       "      <td>9.200000e+01</td>\n",
       "    </tr>\n",
       "    <tr>\n",
       "      <th>blueGoldDiff</th>\n",
       "      <td>9879.0</td>\n",
       "      <td>1.441411e+01</td>\n",
       "      <td>2.453349e+03</td>\n",
       "      <td>-1.083000e+04</td>\n",
       "      <td>-1.585500e+03</td>\n",
       "      <td>1.400000e+01</td>\n",
       "      <td>1.596000e+03</td>\n",
       "      <td>1.146700e+04</td>\n",
       "    </tr>\n",
       "    <tr>\n",
       "      <th>blueExperienceDiff</th>\n",
       "      <td>9879.0</td>\n",
       "      <td>-3.362031e+01</td>\n",
       "      <td>1.920370e+03</td>\n",
       "      <td>-9.333000e+03</td>\n",
       "      <td>-1.290500e+03</td>\n",
       "      <td>-2.800000e+01</td>\n",
       "      <td>1.212000e+03</td>\n",
       "      <td>8.348000e+03</td>\n",
       "    </tr>\n",
       "    <tr>\n",
       "      <th>blueCSPerMin</th>\n",
       "      <td>9879.0</td>\n",
       "      <td>2.166996e+01</td>\n",
       "      <td>2.185844e+00</td>\n",
       "      <td>9.000000e+00</td>\n",
       "      <td>2.020000e+01</td>\n",
       "      <td>2.180000e+01</td>\n",
       "      <td>2.320000e+01</td>\n",
       "      <td>2.830000e+01</td>\n",
       "    </tr>\n",
       "    <tr>\n",
       "      <th>blueGoldPerMin</th>\n",
       "      <td>9879.0</td>\n",
       "      <td>1.650346e+03</td>\n",
       "      <td>1.535447e+02</td>\n",
       "      <td>1.073000e+03</td>\n",
       "      <td>1.541550e+03</td>\n",
       "      <td>1.639800e+03</td>\n",
       "      <td>1.745900e+03</td>\n",
       "      <td>2.370100e+03</td>\n",
       "    </tr>\n",
       "    <tr>\n",
       "      <th>redWardsPlaced</th>\n",
       "      <td>9879.0</td>\n",
       "      <td>2.236795e+01</td>\n",
       "      <td>1.845743e+01</td>\n",
       "      <td>6.000000e+00</td>\n",
       "      <td>1.400000e+01</td>\n",
       "      <td>1.600000e+01</td>\n",
       "      <td>2.000000e+01</td>\n",
       "      <td>2.760000e+02</td>\n",
       "    </tr>\n",
       "    <tr>\n",
       "      <th>redWardsDestroyed</th>\n",
       "      <td>9879.0</td>\n",
       "      <td>2.723150e+00</td>\n",
       "      <td>2.138356e+00</td>\n",
       "      <td>0.000000e+00</td>\n",
       "      <td>1.000000e+00</td>\n",
       "      <td>2.000000e+00</td>\n",
       "      <td>4.000000e+00</td>\n",
       "      <td>2.400000e+01</td>\n",
       "    </tr>\n",
       "    <tr>\n",
       "      <th>redFirstBlood</th>\n",
       "      <td>9879.0</td>\n",
       "      <td>4.951918e-01</td>\n",
       "      <td>5.000022e-01</td>\n",
       "      <td>0.000000e+00</td>\n",
       "      <td>0.000000e+00</td>\n",
       "      <td>0.000000e+00</td>\n",
       "      <td>1.000000e+00</td>\n",
       "      <td>1.000000e+00</td>\n",
       "    </tr>\n",
       "    <tr>\n",
       "      <th>redKills</th>\n",
       "      <td>9879.0</td>\n",
       "      <td>6.137666e+00</td>\n",
       "      <td>2.933818e+00</td>\n",
       "      <td>0.000000e+00</td>\n",
       "      <td>4.000000e+00</td>\n",
       "      <td>6.000000e+00</td>\n",
       "      <td>8.000000e+00</td>\n",
       "      <td>2.200000e+01</td>\n",
       "    </tr>\n",
       "    <tr>\n",
       "      <th>redDeaths</th>\n",
       "      <td>9879.0</td>\n",
       "      <td>6.183925e+00</td>\n",
       "      <td>3.011028e+00</td>\n",
       "      <td>0.000000e+00</td>\n",
       "      <td>4.000000e+00</td>\n",
       "      <td>6.000000e+00</td>\n",
       "      <td>8.000000e+00</td>\n",
       "      <td>2.200000e+01</td>\n",
       "    </tr>\n",
       "    <tr>\n",
       "      <th>redAssists</th>\n",
       "      <td>9879.0</td>\n",
       "      <td>6.662112e+00</td>\n",
       "      <td>4.060612e+00</td>\n",
       "      <td>0.000000e+00</td>\n",
       "      <td>4.000000e+00</td>\n",
       "      <td>6.000000e+00</td>\n",
       "      <td>9.000000e+00</td>\n",
       "      <td>2.800000e+01</td>\n",
       "    </tr>\n",
       "    <tr>\n",
       "      <th>redEliteMonsters</th>\n",
       "      <td>9879.0</td>\n",
       "      <td>5.731349e-01</td>\n",
       "      <td>6.264816e-01</td>\n",
       "      <td>0.000000e+00</td>\n",
       "      <td>0.000000e+00</td>\n",
       "      <td>0.000000e+00</td>\n",
       "      <td>1.000000e+00</td>\n",
       "      <td>2.000000e+00</td>\n",
       "    </tr>\n",
       "    <tr>\n",
       "      <th>redDragons</th>\n",
       "      <td>9879.0</td>\n",
       "      <td>4.130985e-01</td>\n",
       "      <td>4.924151e-01</td>\n",
       "      <td>0.000000e+00</td>\n",
       "      <td>0.000000e+00</td>\n",
       "      <td>0.000000e+00</td>\n",
       "      <td>1.000000e+00</td>\n",
       "      <td>1.000000e+00</td>\n",
       "    </tr>\n",
       "    <tr>\n",
       "      <th>redHeralds</th>\n",
       "      <td>9879.0</td>\n",
       "      <td>1.600364e-01</td>\n",
       "      <td>3.666584e-01</td>\n",
       "      <td>0.000000e+00</td>\n",
       "      <td>0.000000e+00</td>\n",
       "      <td>0.000000e+00</td>\n",
       "      <td>0.000000e+00</td>\n",
       "      <td>1.000000e+00</td>\n",
       "    </tr>\n",
       "    <tr>\n",
       "      <th>redTowersDestroyed</th>\n",
       "      <td>9879.0</td>\n",
       "      <td>4.302055e-02</td>\n",
       "      <td>2.168999e-01</td>\n",
       "      <td>0.000000e+00</td>\n",
       "      <td>0.000000e+00</td>\n",
       "      <td>0.000000e+00</td>\n",
       "      <td>0.000000e+00</td>\n",
       "      <td>2.000000e+00</td>\n",
       "    </tr>\n",
       "    <tr>\n",
       "      <th>redTotalGold</th>\n",
       "      <td>9879.0</td>\n",
       "      <td>1.648904e+04</td>\n",
       "      <td>1.490888e+03</td>\n",
       "      <td>1.121200e+04</td>\n",
       "      <td>1.542750e+04</td>\n",
       "      <td>1.637800e+04</td>\n",
       "      <td>1.741850e+04</td>\n",
       "      <td>2.273200e+04</td>\n",
       "    </tr>\n",
       "    <tr>\n",
       "      <th>redAvgLevel</th>\n",
       "      <td>9879.0</td>\n",
       "      <td>6.925316e+00</td>\n",
       "      <td>3.053114e-01</td>\n",
       "      <td>4.800000e+00</td>\n",
       "      <td>6.800000e+00</td>\n",
       "      <td>7.000000e+00</td>\n",
       "      <td>7.200000e+00</td>\n",
       "      <td>8.200000e+00</td>\n",
       "    </tr>\n",
       "    <tr>\n",
       "      <th>redTotalExperience</th>\n",
       "      <td>9879.0</td>\n",
       "      <td>1.796173e+04</td>\n",
       "      <td>1.198584e+03</td>\n",
       "      <td>1.046500e+04</td>\n",
       "      <td>1.720950e+04</td>\n",
       "      <td>1.797400e+04</td>\n",
       "      <td>1.876450e+04</td>\n",
       "      <td>2.226900e+04</td>\n",
       "    </tr>\n",
       "    <tr>\n",
       "      <th>redTotalMinionsKilled</th>\n",
       "      <td>9879.0</td>\n",
       "      <td>2.173492e+02</td>\n",
       "      <td>2.191167e+01</td>\n",
       "      <td>1.070000e+02</td>\n",
       "      <td>2.030000e+02</td>\n",
       "      <td>2.180000e+02</td>\n",
       "      <td>2.330000e+02</td>\n",
       "      <td>2.890000e+02</td>\n",
       "    </tr>\n",
       "    <tr>\n",
       "      <th>redTotalJungleMinionsKilled</th>\n",
       "      <td>9879.0</td>\n",
       "      <td>5.131309e+01</td>\n",
       "      <td>1.002788e+01</td>\n",
       "      <td>4.000000e+00</td>\n",
       "      <td>4.400000e+01</td>\n",
       "      <td>5.100000e+01</td>\n",
       "      <td>5.700000e+01</td>\n",
       "      <td>9.200000e+01</td>\n",
       "    </tr>\n",
       "    <tr>\n",
       "      <th>redGoldDiff</th>\n",
       "      <td>9879.0</td>\n",
       "      <td>-1.441411e+01</td>\n",
       "      <td>2.453349e+03</td>\n",
       "      <td>-1.146700e+04</td>\n",
       "      <td>-1.596000e+03</td>\n",
       "      <td>-1.400000e+01</td>\n",
       "      <td>1.585500e+03</td>\n",
       "      <td>1.083000e+04</td>\n",
       "    </tr>\n",
       "    <tr>\n",
       "      <th>redExperienceDiff</th>\n",
       "      <td>9879.0</td>\n",
       "      <td>3.362031e+01</td>\n",
       "      <td>1.920370e+03</td>\n",
       "      <td>-8.348000e+03</td>\n",
       "      <td>-1.212000e+03</td>\n",
       "      <td>2.800000e+01</td>\n",
       "      <td>1.290500e+03</td>\n",
       "      <td>9.333000e+03</td>\n",
       "    </tr>\n",
       "    <tr>\n",
       "      <th>redCSPerMin</th>\n",
       "      <td>9879.0</td>\n",
       "      <td>2.173492e+01</td>\n",
       "      <td>2.191167e+00</td>\n",
       "      <td>1.070000e+01</td>\n",
       "      <td>2.030000e+01</td>\n",
       "      <td>2.180000e+01</td>\n",
       "      <td>2.330000e+01</td>\n",
       "      <td>2.890000e+01</td>\n",
       "    </tr>\n",
       "    <tr>\n",
       "      <th>redGoldPerMin</th>\n",
       "      <td>9879.0</td>\n",
       "      <td>1.648904e+03</td>\n",
       "      <td>1.490888e+02</td>\n",
       "      <td>1.121200e+03</td>\n",
       "      <td>1.542750e+03</td>\n",
       "      <td>1.637800e+03</td>\n",
       "      <td>1.741850e+03</td>\n",
       "      <td>2.273200e+03</td>\n",
       "    </tr>\n",
       "    <tr>\n",
       "      <th>interaction</th>\n",
       "      <td>9879.0</td>\n",
       "      <td>1.032909e+00</td>\n",
       "      <td>2.632121e-01</td>\n",
       "      <td>2.852086e-01</td>\n",
       "      <td>8.512962e-01</td>\n",
       "      <td>1.002120e+00</td>\n",
       "      <td>1.174737e+00</td>\n",
       "      <td>3.741537e+00</td>\n",
       "    </tr>\n",
       "  </tbody>\n",
       "</table>\n",
       "</div>"
      ],
      "text/plain": [
       "                               count          mean           std  \\\n",
       "gameId                        9879.0  4.500084e+09  2.757328e+07   \n",
       "blueWins                      9879.0  4.990384e-01  5.000244e-01   \n",
       "blueWardsPlaced               9879.0  2.228829e+01  1.801918e+01   \n",
       "blueWardsDestroyed            9879.0  2.824881e+00  2.174998e+00   \n",
       "blueFirstBlood                9879.0  5.048082e-01  5.000022e-01   \n",
       "blueKills                     9879.0  6.183925e+00  3.011028e+00   \n",
       "blueDeaths                    9879.0  6.137666e+00  2.933818e+00   \n",
       "blueAssists                   9879.0  6.645106e+00  4.064520e+00   \n",
       "blueEliteMonsters             9879.0  5.499544e-01  6.255265e-01   \n",
       "blueDragons                   9879.0  3.619800e-01  4.805974e-01   \n",
       "blueHeralds                   9879.0  1.879745e-01  3.907116e-01   \n",
       "blueTowersDestroyed           9879.0  5.142221e-02  2.443692e-01   \n",
       "blueTotalGold                 9879.0  1.650346e+04  1.535447e+03   \n",
       "blueAvgLevel                  9879.0  6.916004e+00  3.051458e-01   \n",
       "blueTotalExperience           9879.0  1.792811e+04  1.200524e+03   \n",
       "blueTotalMinionsKilled        9879.0  2.166996e+02  2.185844e+01   \n",
       "blueTotalJungleMinionsKilled  9879.0  5.050967e+01  9.898282e+00   \n",
       "blueGoldDiff                  9879.0  1.441411e+01  2.453349e+03   \n",
       "blueExperienceDiff            9879.0 -3.362031e+01  1.920370e+03   \n",
       "blueCSPerMin                  9879.0  2.166996e+01  2.185844e+00   \n",
       "blueGoldPerMin                9879.0  1.650346e+03  1.535447e+02   \n",
       "redWardsPlaced                9879.0  2.236795e+01  1.845743e+01   \n",
       "redWardsDestroyed             9879.0  2.723150e+00  2.138356e+00   \n",
       "redFirstBlood                 9879.0  4.951918e-01  5.000022e-01   \n",
       "redKills                      9879.0  6.137666e+00  2.933818e+00   \n",
       "redDeaths                     9879.0  6.183925e+00  3.011028e+00   \n",
       "redAssists                    9879.0  6.662112e+00  4.060612e+00   \n",
       "redEliteMonsters              9879.0  5.731349e-01  6.264816e-01   \n",
       "redDragons                    9879.0  4.130985e-01  4.924151e-01   \n",
       "redHeralds                    9879.0  1.600364e-01  3.666584e-01   \n",
       "redTowersDestroyed            9879.0  4.302055e-02  2.168999e-01   \n",
       "redTotalGold                  9879.0  1.648904e+04  1.490888e+03   \n",
       "redAvgLevel                   9879.0  6.925316e+00  3.053114e-01   \n",
       "redTotalExperience            9879.0  1.796173e+04  1.198584e+03   \n",
       "redTotalMinionsKilled         9879.0  2.173492e+02  2.191167e+01   \n",
       "redTotalJungleMinionsKilled   9879.0  5.131309e+01  1.002788e+01   \n",
       "redGoldDiff                   9879.0 -1.441411e+01  2.453349e+03   \n",
       "redExperienceDiff             9879.0  3.362031e+01  1.920370e+03   \n",
       "redCSPerMin                   9879.0  2.173492e+01  2.191167e+00   \n",
       "redGoldPerMin                 9879.0  1.648904e+03  1.490888e+02   \n",
       "interaction                   9879.0  1.032909e+00  2.632121e-01   \n",
       "\n",
       "                                       min           25%           50%  \\\n",
       "gameId                        4.295358e+09  4.483301e+09  4.510920e+09   \n",
       "blueWins                      0.000000e+00  0.000000e+00  0.000000e+00   \n",
       "blueWardsPlaced               5.000000e+00  1.400000e+01  1.600000e+01   \n",
       "blueWardsDestroyed            0.000000e+00  1.000000e+00  3.000000e+00   \n",
       "blueFirstBlood                0.000000e+00  0.000000e+00  1.000000e+00   \n",
       "blueKills                     0.000000e+00  4.000000e+00  6.000000e+00   \n",
       "blueDeaths                    0.000000e+00  4.000000e+00  6.000000e+00   \n",
       "blueAssists                   0.000000e+00  4.000000e+00  6.000000e+00   \n",
       "blueEliteMonsters             0.000000e+00  0.000000e+00  0.000000e+00   \n",
       "blueDragons                   0.000000e+00  0.000000e+00  0.000000e+00   \n",
       "blueHeralds                   0.000000e+00  0.000000e+00  0.000000e+00   \n",
       "blueTowersDestroyed           0.000000e+00  0.000000e+00  0.000000e+00   \n",
       "blueTotalGold                 1.073000e+04  1.541550e+04  1.639800e+04   \n",
       "blueAvgLevel                  4.600000e+00  6.800000e+00  7.000000e+00   \n",
       "blueTotalExperience           1.009800e+04  1.716800e+04  1.795100e+04   \n",
       "blueTotalMinionsKilled        9.000000e+01  2.020000e+02  2.180000e+02   \n",
       "blueTotalJungleMinionsKilled  0.000000e+00  4.400000e+01  5.000000e+01   \n",
       "blueGoldDiff                 -1.083000e+04 -1.585500e+03  1.400000e+01   \n",
       "blueExperienceDiff           -9.333000e+03 -1.290500e+03 -2.800000e+01   \n",
       "blueCSPerMin                  9.000000e+00  2.020000e+01  2.180000e+01   \n",
       "blueGoldPerMin                1.073000e+03  1.541550e+03  1.639800e+03   \n",
       "redWardsPlaced                6.000000e+00  1.400000e+01  1.600000e+01   \n",
       "redWardsDestroyed             0.000000e+00  1.000000e+00  2.000000e+00   \n",
       "redFirstBlood                 0.000000e+00  0.000000e+00  0.000000e+00   \n",
       "redKills                      0.000000e+00  4.000000e+00  6.000000e+00   \n",
       "redDeaths                     0.000000e+00  4.000000e+00  6.000000e+00   \n",
       "redAssists                    0.000000e+00  4.000000e+00  6.000000e+00   \n",
       "redEliteMonsters              0.000000e+00  0.000000e+00  0.000000e+00   \n",
       "redDragons                    0.000000e+00  0.000000e+00  0.000000e+00   \n",
       "redHeralds                    0.000000e+00  0.000000e+00  0.000000e+00   \n",
       "redTowersDestroyed            0.000000e+00  0.000000e+00  0.000000e+00   \n",
       "redTotalGold                  1.121200e+04  1.542750e+04  1.637800e+04   \n",
       "redAvgLevel                   4.800000e+00  6.800000e+00  7.000000e+00   \n",
       "redTotalExperience            1.046500e+04  1.720950e+04  1.797400e+04   \n",
       "redTotalMinionsKilled         1.070000e+02  2.030000e+02  2.180000e+02   \n",
       "redTotalJungleMinionsKilled   4.000000e+00  4.400000e+01  5.100000e+01   \n",
       "redGoldDiff                  -1.146700e+04 -1.596000e+03 -1.400000e+01   \n",
       "redExperienceDiff            -8.348000e+03 -1.212000e+03  2.800000e+01   \n",
       "redCSPerMin                   1.070000e+01  2.030000e+01  2.180000e+01   \n",
       "redGoldPerMin                 1.121200e+03  1.542750e+03  1.637800e+03   \n",
       "interaction                   2.852086e-01  8.512962e-01  1.002120e+00   \n",
       "\n",
       "                                       75%           max  \n",
       "gameId                        4.521733e+09  4.527991e+09  \n",
       "blueWins                      1.000000e+00  1.000000e+00  \n",
       "blueWardsPlaced               2.000000e+01  2.500000e+02  \n",
       "blueWardsDestroyed            4.000000e+00  2.700000e+01  \n",
       "blueFirstBlood                1.000000e+00  1.000000e+00  \n",
       "blueKills                     8.000000e+00  2.200000e+01  \n",
       "blueDeaths                    8.000000e+00  2.200000e+01  \n",
       "blueAssists                   9.000000e+00  2.900000e+01  \n",
       "blueEliteMonsters             1.000000e+00  2.000000e+00  \n",
       "blueDragons                   1.000000e+00  1.000000e+00  \n",
       "blueHeralds                   0.000000e+00  1.000000e+00  \n",
       "blueTowersDestroyed           0.000000e+00  4.000000e+00  \n",
       "blueTotalGold                 1.745900e+04  2.370100e+04  \n",
       "blueAvgLevel                  7.200000e+00  8.000000e+00  \n",
       "blueTotalExperience           1.872400e+04  2.222400e+04  \n",
       "blueTotalMinionsKilled        2.320000e+02  2.830000e+02  \n",
       "blueTotalJungleMinionsKilled  5.600000e+01  9.200000e+01  \n",
       "blueGoldDiff                  1.596000e+03  1.146700e+04  \n",
       "blueExperienceDiff            1.212000e+03  8.348000e+03  \n",
       "blueCSPerMin                  2.320000e+01  2.830000e+01  \n",
       "blueGoldPerMin                1.745900e+03  2.370100e+03  \n",
       "redWardsPlaced                2.000000e+01  2.760000e+02  \n",
       "redWardsDestroyed             4.000000e+00  2.400000e+01  \n",
       "redFirstBlood                 1.000000e+00  1.000000e+00  \n",
       "redKills                      8.000000e+00  2.200000e+01  \n",
       "redDeaths                     8.000000e+00  2.200000e+01  \n",
       "redAssists                    9.000000e+00  2.800000e+01  \n",
       "redEliteMonsters              1.000000e+00  2.000000e+00  \n",
       "redDragons                    1.000000e+00  1.000000e+00  \n",
       "redHeralds                    0.000000e+00  1.000000e+00  \n",
       "redTowersDestroyed            0.000000e+00  2.000000e+00  \n",
       "redTotalGold                  1.741850e+04  2.273200e+04  \n",
       "redAvgLevel                   7.200000e+00  8.200000e+00  \n",
       "redTotalExperience            1.876450e+04  2.226900e+04  \n",
       "redTotalMinionsKilled         2.330000e+02  2.890000e+02  \n",
       "redTotalJungleMinionsKilled   5.700000e+01  9.200000e+01  \n",
       "redGoldDiff                   1.585500e+03  1.083000e+04  \n",
       "redExperienceDiff             1.290500e+03  9.333000e+03  \n",
       "redCSPerMin                   2.330000e+01  2.890000e+01  \n",
       "redGoldPerMin                 1.741850e+03  2.273200e+03  \n",
       "interaction                   1.174737e+00  3.741537e+00  "
      ]
     },
     "execution_count": 305,
     "metadata": {},
     "output_type": "execute_result"
    }
   ],
   "source": [
    "df.describe().T"
   ]
  },
  {
   "cell_type": "code",
   "execution_count": 144,
   "metadata": {},
   "outputs": [
    {
     "name": "stderr",
     "output_type": "stream",
     "text": [
      "C:\\Users\\Coalescence\\anaconda3\\lib\\site-packages\\ipykernel_launcher.py:2: FutureWarning: Indexing with multiple keys (implicitly converted to a tuple of keys) will be deprecated, use a list instead.\n",
      "  \n"
     ]
    },
    {
     "data": {
      "text/html": [
       "<div>\n",
       "<style scoped>\n",
       "    .dataframe tbody tr th:only-of-type {\n",
       "        vertical-align: middle;\n",
       "    }\n",
       "\n",
       "    .dataframe tbody tr th {\n",
       "        vertical-align: top;\n",
       "    }\n",
       "\n",
       "    .dataframe thead th {\n",
       "        text-align: right;\n",
       "    }\n",
       "</style>\n",
       "<table border=\"1\" class=\"dataframe\">\n",
       "  <thead>\n",
       "    <tr style=\"text-align: right;\">\n",
       "      <th>blueWins</th>\n",
       "      <th>0</th>\n",
       "      <th>1</th>\n",
       "    </tr>\n",
       "  </thead>\n",
       "  <tbody>\n",
       "    <tr>\n",
       "      <th>redTotalExperience</th>\n",
       "      <td>18425.37058</td>\n",
       "      <td>17496.303448</td>\n",
       "    </tr>\n",
       "    <tr>\n",
       "      <th>blueTotalExperience</th>\n",
       "      <td>17453.47161</td>\n",
       "      <td>18404.577890</td>\n",
       "    </tr>\n",
       "  </tbody>\n",
       "</table>\n",
       "</div>"
      ],
      "text/plain": [
       "blueWins                       0             1\n",
       "redTotalExperience   18425.37058  17496.303448\n",
       "blueTotalExperience  17453.47161  18404.577890"
      ]
     },
     "execution_count": 144,
     "metadata": {},
     "output_type": "execute_result"
    }
   ],
   "source": [
    "df.groupby('blueWins')[\n",
    "    'redTotalExperience',\n",
    "    'blueTotalExperience'].mean().T"
   ]
  },
  {
   "cell_type": "code",
   "execution_count": 318,
   "metadata": {},
   "outputs": [
    {
     "name": "stdout",
     "output_type": "stream",
     "text": [
      "(9879, 5)\n",
      "(9879,)\n"
     ]
    }
   ],
   "source": [
    "df['interaction'] = (df['redTotalGold'] * df['redTotalExperience']) / (df['blueTotalGold'] * df['blueTotalExperience'])\n",
    "\n",
    "\n",
    "X = df[['interaction', 'redTotalGold', 'redTotalExperience', 'blueTotalGold', 'blueTotalExperience']]  \n",
    "y = df['blueWins'] \n",
    "\n",
    "\n",
    "print(X.shape)\n",
    "print(y.shape)\n",
    "\n",
    "# Conduct a train/test split.\n",
    "X_train, X_test, y_train, y_test = train_test_split(X,\n",
    "                                                    y,\n",
    "                                                    test_size = 0.25,\n",
    "                                                    random_state = 42)\n",
    "\n",
    "# Instantiate model as lr.\n",
    "lr = LogisticRegression(solver= 'lbfgs')"
   ]
  },
  {
   "cell_type": "code",
   "execution_count": 307,
   "metadata": {},
   "outputs": [
    {
     "data": {
      "text/plain": [
       "LogisticRegression(C=1.0, class_weight=None, dual=False, fit_intercept=True,\n",
       "                   intercept_scaling=1, l1_ratio=None, max_iter=100,\n",
       "                   multi_class='auto', n_jobs=None, penalty='l2',\n",
       "                   random_state=None, solver='lbfgs', tol=0.0001, verbose=0,\n",
       "                   warm_start=False)"
      ]
     },
     "execution_count": 307,
     "metadata": {},
     "output_type": "execute_result"
    }
   ],
   "source": [
    "# Fit model.\n",
    "lr.fit(X_train, y_train)"
   ]
  },
  {
   "cell_type": "code",
   "execution_count": 308,
   "metadata": {},
   "outputs": [
    {
     "data": {
      "text/plain": [
       "array([[ 8.49507648e-08,  4.30460622e-04,  2.29777878e-04,\n",
       "        -4.32346837e-04, -2.27582280e-04]])"
      ]
     },
     "execution_count": 308,
     "metadata": {},
     "output_type": "execute_result"
    }
   ],
   "source": [
    "# View coefficients.\n",
    "lr.coef_"
   ]
  },
  {
   "cell_type": "code",
   "execution_count": 309,
   "metadata": {},
   "outputs": [
    {
     "data": {
      "text/plain": [
       "array([[1.00000008, 1.00043055, 1.0002298 , 0.99956775, 0.99977244]])"
      ]
     },
     "execution_count": 309,
     "metadata": {},
     "output_type": "execute_result"
    }
   ],
   "source": [
    "np.exp(lr.coef_)"
   ]
  },
  {
   "cell_type": "code",
   "execution_count": 310,
   "metadata": {},
   "outputs": [
    {
     "data": {
      "text/plain": [
       "array([[884, 350],\n",
       "       [338, 898]], dtype=int64)"
      ]
     },
     "execution_count": 310,
     "metadata": {},
     "output_type": "execute_result"
    }
   ],
   "source": [
    "# Generate predictions.\n",
    "preds = lr.predict(X_test)\n",
    "\n",
    "confusion_matrix(y_test,\n",
    "                 preds)"
   ]
  },
  {
   "cell_type": "code",
   "execution_count": 311,
   "metadata": {},
   "outputs": [],
   "source": [
    "tn, fp, fn, tp = confusion_matrix(y_test, # True values.\n",
    "                                  preds).ravel()"
   ]
  },
  {
   "cell_type": "code",
   "execution_count": 312,
   "metadata": {},
   "outputs": [
    {
     "name": "stdout",
     "output_type": "stream",
     "text": [
      "Specificity: 0.7164\n"
     ]
    }
   ],
   "source": [
    "spec = tn / (tn + fp)\n",
    "print(f'Specificity: {round(spec,4)}')"
   ]
  },
  {
   "cell_type": "code",
   "execution_count": 313,
   "metadata": {},
   "outputs": [
    {
     "name": "stdout",
     "output_type": "stream",
     "text": [
      "Sensitivity: 0.7265\n"
     ]
    }
   ],
   "source": [
    "sens = tp / (tp + fn)\n",
    "print(f'Sensitivity: {round(sens,4)}')"
   ]
  },
  {
   "cell_type": "code",
   "execution_count": 314,
   "metadata": {},
   "outputs": [
    {
     "data": {
      "text/plain": [
       "array([[0.07166158, 0.92833842],\n",
       "       [0.75448963, 0.24551037],\n",
       "       [0.59563838, 0.40436162],\n",
       "       [0.69579554, 0.30420446],\n",
       "       [0.13152189, 0.86847811]])"
      ]
     },
     "execution_count": 314,
     "metadata": {},
     "output_type": "execute_result"
    }
   ],
   "source": [
    "lr.predict_proba(X_test.head())"
   ]
  },
  {
   "cell_type": "code",
   "execution_count": 315,
   "metadata": {},
   "outputs": [],
   "source": [
    "pred_proba = [i[1] for i in lr.predict_proba(X_test)]\n",
    "\n",
    "pred_df = pd.DataFrame({'true_values': y_test,\n",
    "                        'pred_probs':pred_proba})"
   ]
  },
  {
   "cell_type": "code",
   "execution_count": 316,
   "metadata": {
    "scrolled": true
   },
   "outputs": [
    {
     "data": {
      "text/html": [
       "<div>\n",
       "<style scoped>\n",
       "    .dataframe tbody tr th:only-of-type {\n",
       "        vertical-align: middle;\n",
       "    }\n",
       "\n",
       "    .dataframe tbody tr th {\n",
       "        vertical-align: top;\n",
       "    }\n",
       "\n",
       "    .dataframe thead th {\n",
       "        text-align: right;\n",
       "    }\n",
       "</style>\n",
       "<table border=\"1\" class=\"dataframe\">\n",
       "  <thead>\n",
       "    <tr style=\"text-align: right;\">\n",
       "      <th></th>\n",
       "      <th>true_values</th>\n",
       "      <th>pred_probs</th>\n",
       "    </tr>\n",
       "  </thead>\n",
       "  <tbody>\n",
       "    <tr>\n",
       "      <th>4818</th>\n",
       "      <td>1</td>\n",
       "      <td>0.928338</td>\n",
       "    </tr>\n",
       "    <tr>\n",
       "      <th>952</th>\n",
       "      <td>0</td>\n",
       "      <td>0.245510</td>\n",
       "    </tr>\n",
       "    <tr>\n",
       "      <th>9023</th>\n",
       "      <td>0</td>\n",
       "      <td>0.404362</td>\n",
       "    </tr>\n",
       "    <tr>\n",
       "      <th>5212</th>\n",
       "      <td>0</td>\n",
       "      <td>0.304204</td>\n",
       "    </tr>\n",
       "    <tr>\n",
       "      <th>7244</th>\n",
       "      <td>1</td>\n",
       "      <td>0.868478</td>\n",
       "    </tr>\n",
       "  </tbody>\n",
       "</table>\n",
       "</div>"
      ],
      "text/plain": [
       "      true_values  pred_probs\n",
       "4818            1    0.928338\n",
       "952             0    0.245510\n",
       "9023            0    0.404362\n",
       "5212            0    0.304204\n",
       "7244            1    0.868478"
      ]
     },
     "execution_count": 316,
     "metadata": {},
     "output_type": "execute_result"
    }
   ],
   "source": [
    "pred_df.head()"
   ]
  },
  {
   "cell_type": "code",
   "execution_count": 317,
   "metadata": {},
   "outputs": [
    {
     "data": {
      "image/png": "[encoded data removed]",
      "text/plain": [
       "<Figure size 720x504 with 1 Axes>"
      ]
     },
     "metadata": {
      "needs_background": "light"
     },
     "output_type": "display_data"
    }
   ],
   "source": [
    "# Create figure.\n",
    "plt.figure(figsize = (10,7))\n",
    "\n",
    "# Create histogram of observations with 25 bins.\n",
    "plt.hist(pred_df['pred_probs'],\n",
    "         bins = 25)\n",
    "\n",
    "# Label axes.\n",
    "plt.title('Distribution of P(Outcome = 1)', fontsize=22)\n",
    "plt.ylabel('Frequency', fontsize=18)\n",
    "plt.xlabel('blue wins', fontsize=18);"
   ]
  },
  {
   "cell_type": "code",
   "execution_count": 300,
   "metadata": {},
   "outputs": [
    {
     "data": {
      "text/html": [
       "<div>\n",
       "<style scoped>\n",
       "    .dataframe tbody tr th:only-of-type {\n",
       "        vertical-align: middle;\n",
       "    }\n",
       "\n",
       "    .dataframe tbody tr th {\n",
       "        vertical-align: top;\n",
       "    }\n",
       "\n",
       "    .dataframe thead th {\n",
       "        text-align: right;\n",
       "    }\n",
       "</style>\n",
       "<table border=\"1\" class=\"dataframe\">\n",
       "  <thead>\n",
       "    <tr style=\"text-align: right;\">\n",
       "      <th></th>\n",
       "      <th>interaction</th>\n",
       "      <th>redTotalGold</th>\n",
       "      <th>redTotalExperience</th>\n",
       "      <th>blueTotalGold</th>\n",
       "      <th>blueTotalExperience</th>\n",
       "    </tr>\n",
       "  </thead>\n",
       "  <tbody>\n",
       "    <tr>\n",
       "      <th>0</th>\n",
       "      <td>0.963090</td>\n",
       "      <td>16567</td>\n",
       "      <td>17047</td>\n",
       "      <td>17210</td>\n",
       "      <td>17039</td>\n",
       "    </tr>\n",
       "    <tr>\n",
       "      <th>1</th>\n",
       "      <td>1.284035</td>\n",
       "      <td>17620</td>\n",
       "      <td>17438</td>\n",
       "      <td>14712</td>\n",
       "      <td>16265</td>\n",
       "    </tr>\n",
       "    <tr>\n",
       "      <th>2</th>\n",
       "      <td>1.141051</td>\n",
       "      <td>17285</td>\n",
       "      <td>17254</td>\n",
       "      <td>16113</td>\n",
       "      <td>16221</td>\n",
       "    </tr>\n",
       "    <tr>\n",
       "      <th>3</th>\n",
       "      <td>1.087578</td>\n",
       "      <td>16478</td>\n",
       "      <td>17961</td>\n",
       "      <td>15157</td>\n",
       "      <td>17954</td>\n",
       "    </tr>\n",
       "    <tr>\n",
       "      <th>4</th>\n",
       "      <td>1.048057</td>\n",
       "      <td>17404</td>\n",
       "      <td>18313</td>\n",
       "      <td>16400</td>\n",
       "      <td>18543</td>\n",
       "    </tr>\n",
       "  </tbody>\n",
       "</table>\n",
       "</div>"
      ],
      "text/plain": [
       "   interaction  redTotalGold  redTotalExperience  blueTotalGold  \\\n",
       "0     0.963090         16567               17047          17210   \n",
       "1     1.284035         17620               17438          14712   \n",
       "2     1.141051         17285               17254          16113   \n",
       "3     1.087578         16478               17961          15157   \n",
       "4     1.048057         17404               18313          16400   \n",
       "\n",
       "   blueTotalExperience  \n",
       "0                17039  \n",
       "1                16265  \n",
       "2                16221  \n",
       "3                17954  \n",
       "4                18543  "
      ]
     },
     "execution_count": 300,
     "metadata": {},
     "output_type": "execute_result"
    }
   ],
   "source": [
    "X.head()"
   ]
  },
  {
   "cell_type": "code",
   "execution_count": 268,
   "metadata": {},
   "outputs": [
    {
     "data": {
      "text/plain": [
       "0    0\n",
       "1    0\n",
       "2    0\n",
       "3    0\n",
       "4    0\n",
       "Name: blueWins, dtype: int64"
      ]
     },
     "execution_count": 268,
     "metadata": {},
     "output_type": "execute_result"
    }
   ],
   "source": [
    "y.head()"
   ]
  },
  {
   "cell_type": "code",
   "execution_count": 269,
   "metadata": {},
   "outputs": [],
   "source": [
    "model = LinearRegression()\n",
    "\n",
    "model.fit(X, y)\n",
    "\n",
    "y_preds = model.predict(X)"
   ]
  },
  {
   "cell_type": "code",
   "execution_count": 270,
   "metadata": {},
   "outputs": [
    {
     "data": {
      "text/plain": [
       "0.18335103533149003"
      ]
     },
     "execution_count": 270,
     "metadata": {},
     "output_type": "execute_result"
    }
   ],
   "source": [
    "def MSE(y_true, y_hat):\n",
    "    difference = y_true - y_hat\n",
    "    squared_difference = difference ** 2\n",
    "    mean_squared_difference = np.mean(squared_difference)\n",
    "    return mean_squared_difference\n",
    "\n",
    "MSE(y, y_preds)"
   ]
  },
  {
   "cell_type": "code",
   "execution_count": 271,
   "metadata": {},
   "outputs": [
    {
     "data": {
      "text/plain": [
       "0.3286877584840241"
      ]
     },
     "execution_count": 271,
     "metadata": {},
     "output_type": "execute_result"
    }
   ],
   "source": [
    "model.intercept_"
   ]
  },
  {
   "cell_type": "code",
   "execution_count": 272,
   "metadata": {},
   "outputs": [
    {
     "data": {
      "text/plain": [
       "array([ 9.64479209e-02, -8.16359977e-05, -4.49142304e-05,  7.96368989e-05,\n",
       "        5.07181922e-05])"
      ]
     },
     "execution_count": 272,
     "metadata": {},
     "output_type": "execute_result"
    }
   ],
   "source": [
    "model.coef_"
   ]
  },
  {
   "cell_type": "code",
   "execution_count": 273,
   "metadata": {},
   "outputs": [],
   "source": [
    "y_preds = model.predict(X)"
   ]
  },
  {
   "cell_type": "code",
   "execution_count": 274,
   "metadata": {},
   "outputs": [
    {
     "data": {
      "text/plain": [
       "0.18335103533149003"
      ]
     },
     "execution_count": 274,
     "metadata": {},
     "output_type": "execute_result"
    }
   ],
   "source": [
    "MSE(y, y_preds)"
   ]
  },
  {
   "cell_type": "code",
   "execution_count": 275,
   "metadata": {},
   "outputs": [
    {
     "data": {
      "image/png": "[encoded data removed]",
      "text/plain": [
       "<Figure size 864x648 with 1 Axes>"
      ]
     },
     "metadata": {
      "needs_background": "light"
     },
     "output_type": "display_data"
    }
   ],
   "source": [
    "# Plot the model\n",
    "plt.figure(figsize=(12,9))\n",
    "\n",
    "# Generate a scatterplot of predicted values versus actual values.\n",
    "plt.scatter(y_preds, y, color='skyblue')\n",
    "\n",
    "# Plot a line.\n",
    "plt.plot([0, np.max(y)],\n",
    "         [0, np.max(y)],\n",
    "         color = 'black')\n",
    "\n",
    "# Tweak title and axis labels.\n",
    "plt.xlabel('X', fontsize = 20)\n",
    "plt.ylabel(\"y\", fontsize = 20)\n",
    "plt.title('Predicted Values vs. Actual Values', fontsize = 24);"
   ]
  },
  {
   "cell_type": "code",
   "execution_count": 277,
   "metadata": {},
   "outputs": [
    {
     "name": "stdout",
     "output_type": "stream",
     "text": [
      "Intercept: 0.2513595075949492\n",
      "Coefficient: [ 1.20484340e-01 -8.35029304e-05 -4.31922911e-05  8.37451420e-05\n",
      "  4.97723008e-05]\n"
     ]
    }
   ],
   "source": [
    "X_train, X_test, y_train, y_test = train_test_split(X,  \n",
    "                                                   y,\n",
    "                                                   test_size = 0.33,   # set test size\n",
    "                                                   random_state = 42)\n",
    "\n",
    "# Instantiate a linear regression model.\n",
    "linmod = LinearRegression()    # add in lin regression model!\n",
    "\n",
    "# Fit our linear regression model to the training data.\n",
    "linmod.fit(X_train, y_train)\n",
    "\n",
    "# Print out intercept and coefficients.\n",
    "print(f'Intercept: {linmod.intercept_}')\n",
    "print(f'Coefficient: {linmod.coef_}')"
   ]
  },
  {
   "cell_type": "code",
   "execution_count": 278,
   "metadata": {},
   "outputs": [
    {
     "name": "stdout",
     "output_type": "stream",
     "text": [
      "Logistic Regression Intercept: [-4.89438451e-09]\n",
      "Logistic Regression Coefficient: [[-8.91247522e-08 -4.25232084e-04 -2.35757927e-04  4.32889776e-04\n",
      "   2.28181383e-04]]\n"
     ]
    }
   ],
   "source": [
    "# Step 1: Instantiate our model.\n",
    "logreg = LogisticRegression(solver = 'lbfgs')\n",
    "\n",
    "# Step 2: Fit our model.\n",
    "logreg.fit(X_train, y_train)\n",
    "\n",
    "print(f'Logistic Regression Intercept: {logreg.intercept_}')\n",
    "print(f'Logistic Regression Coefficient: {logreg.coef_}')"
   ]
  },
  {
   "cell_type": "code",
   "execution_count": 279,
   "metadata": {},
   "outputs": [
    {
     "name": "stdout",
     "output_type": "stream",
     "text": [
      "Logistic Regression Accuracy Score: 0.7249310027598896\n"
     ]
    }
   ],
   "source": [
    "print(f'Logistic Regression Accuracy Score: {logreg.score(X_test, y_test)}')"
   ]
  },
  {
   "cell_type": "code",
   "execution_count": 283,
   "metadata": {},
   "outputs": [],
   "source": [
    "# 1 >>> blueWin\n",
    "# 0 >>> blueLoss\n",
    "# Split the data into the training and testing sets >>>\n",
    "X_train, X_test, y_train, y_test = train_test_split(X,\n",
    "                                                    y,\n",
    "                                                    test_size=0.33,\n",
    "                                                    stratify=y)\n",
    "\n",
    "# pipe it >>>\n",
    "# 2. LogisticRegression (estimator)\n",
    "pipe = Pipeline([\n",
    "    ('lr', LogisticRegression(solver = 'lbfgs'))\n",
    "])"
   ]
  },
  {
   "cell_type": "code",
   "execution_count": 284,
   "metadata": {},
   "outputs": [
    {
     "name": "stdout",
     "output_type": "stream",
     "text": [
      "Logistic Regression Intercept: [-5.82650894e-09]\n",
      "Logistic Regression Coefficient: [[-9.01511296e-08 -4.19496004e-04 -2.66555195e-04  4.34340500e-04\n",
      "   2.53285396e-04]]\n"
     ]
    }
   ],
   "source": [
    "# Step 1: Instantiate our model.\n",
    "logreg = LogisticRegression(solver = 'lbfgs')\n",
    "\n",
    "# Step 2: Fit our model.\n",
    "logreg.fit(X_train, y_train)\n",
    "\n",
    "print(f'Logistic Regression Intercept: {logreg.intercept_}')\n",
    "print(f'Logistic Regression Coefficient: {logreg.coef_}')"
   ]
  }
 ],
 "metadata": {
  "kernelspec": {
   "display_name": "Python 3",
   "language": "python",
   "name": "python3"
  },
  "language_info": {
   "codemirror_mode": {
    "name": "ipython",
    "version": 3
   },
   "file_extension": ".py",
   "mimetype": "text/x-python",
   "name": "python",
   "nbconvert_exporter": "python",
   "pygments_lexer": "ipython3",
   "version": "3.7.6"
  }
 },
 "nbformat": 4,
 "nbformat_minor": 4
}
