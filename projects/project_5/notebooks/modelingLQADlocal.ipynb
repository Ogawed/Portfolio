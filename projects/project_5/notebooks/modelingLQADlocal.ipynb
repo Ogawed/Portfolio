{
 "cells": [
  {
   "cell_type": "code",
   "execution_count": 1980,
   "metadata": {},
   "outputs": [],
   "source": [
    "import pandas as pd\n",
    "import numpy as np"
   ]
  },
  {
   "cell_type": "code",
   "execution_count": 1981,
   "metadata": {},
   "outputs": [],
   "source": [
    "df=pd.read_csv('../datasets/no_wage_data.csv')"
   ]
  },
  {
   "cell_type": "code",
   "execution_count": 1982,
   "metadata": {},
   "outputs": [
    {
     "data": {
      "text/html": [
       "<div>\n",
       "<style scoped>\n",
       "    .dataframe tbody tr th:only-of-type {\n",
       "        vertical-align: middle;\n",
       "    }\n",
       "\n",
       "    .dataframe tbody tr th {\n",
       "        vertical-align: top;\n",
       "    }\n",
       "\n",
       "    .dataframe thead th {\n",
       "        text-align: right;\n",
       "    }\n",
       "</style>\n",
       "<table border=\"1\" class=\"dataframe\">\n",
       "  <thead>\n",
       "    <tr style=\"text-align: right;\">\n",
       "      <th></th>\n",
       "      <th>geoid</th>\n",
       "      <th>area_fips</th>\n",
       "      <th>county</th>\n",
       "      <th>qtrly_estabs_11_agriculture_forestry_fishing_and_hunting</th>\n",
       "      <th>avg_wkly_wage_11_agriculture_forestry_fishing_and_hunting</th>\n",
       "      <th>month3_emplvl_11_agriculture_forestry_fishing_and_hunting</th>\n",
       "      <th>lq_avg_wkly_wage_11_agriculture_forestry_fishing_and_hunting</th>\n",
       "      <th>lq_qtrly_estabs_11_agriculture_forestry_fishing_and_hunting</th>\n",
       "      <th>lq_month3_emplvl_11_agriculture_forestry_fishing_and_hunting</th>\n",
       "      <th>qtrly_estabs_1024_professional_and_business_services</th>\n",
       "      <th>...</th>\n",
       "      <th>lq_month3_emplvl_48_49_transportation_and_warehousing.3</th>\n",
       "      <th>quarter.3</th>\n",
       "      <th>rank</th>\n",
       "      <th>name</th>\n",
       "      <th>states</th>\n",
       "      <th>year</th>\n",
       "      <th>category</th>\n",
       "      <th>damage</th>\n",
       "      <th>adjusted_damage</th>\n",
       "      <th>damage_by_county</th>\n",
       "    </tr>\n",
       "  </thead>\n",
       "  <tbody>\n",
       "    <tr>\n",
       "      <th>0</th>\n",
       "      <td>Charlie</td>\n",
       "      <td>12095</td>\n",
       "      <td>Orange</td>\n",
       "      <td>227.0</td>\n",
       "      <td>0.0</td>\n",
       "      <td>0.0</td>\n",
       "      <td>0.00</td>\n",
       "      <td>0.65</td>\n",
       "      <td>0.00</td>\n",
       "      <td>6576.0</td>\n",
       "      <td>...</td>\n",
       "      <td>0.95</td>\n",
       "      <td>1.0</td>\n",
       "      <td>12</td>\n",
       "      <td>Charlie</td>\n",
       "      <td>FL</td>\n",
       "      <td>2004</td>\n",
       "      <td>4</td>\n",
       "      <td>16.0</td>\n",
       "      <td>21.1</td>\n",
       "      <td>2.813333</td>\n",
       "    </tr>\n",
       "    <tr>\n",
       "      <th>1</th>\n",
       "      <td>Charlie</td>\n",
       "      <td>12087</td>\n",
       "      <td>Monroe</td>\n",
       "      <td>26.0</td>\n",
       "      <td>0.0</td>\n",
       "      <td>0.0</td>\n",
       "      <td>0.00</td>\n",
       "      <td>0.55</td>\n",
       "      <td>0.00</td>\n",
       "      <td>648.0</td>\n",
       "      <td>...</td>\n",
       "      <td>0.72</td>\n",
       "      <td>1.0</td>\n",
       "      <td>12</td>\n",
       "      <td>Charlie</td>\n",
       "      <td>FL</td>\n",
       "      <td>2004</td>\n",
       "      <td>4</td>\n",
       "      <td>16.0</td>\n",
       "      <td>21.1</td>\n",
       "      <td>2.813333</td>\n",
       "    </tr>\n",
       "    <tr>\n",
       "      <th>2</th>\n",
       "      <td>Charlie</td>\n",
       "      <td>12049</td>\n",
       "      <td>Hardee</td>\n",
       "      <td>118.0</td>\n",
       "      <td>0.0</td>\n",
       "      <td>0.0</td>\n",
       "      <td>0.00</td>\n",
       "      <td>18.63</td>\n",
       "      <td>0.00</td>\n",
       "      <td>47.0</td>\n",
       "      <td>...</td>\n",
       "      <td>0.00</td>\n",
       "      <td>1.0</td>\n",
       "      <td>12</td>\n",
       "      <td>Charlie</td>\n",
       "      <td>FL</td>\n",
       "      <td>2004</td>\n",
       "      <td>4</td>\n",
       "      <td>16.0</td>\n",
       "      <td>21.1</td>\n",
       "      <td>2.813333</td>\n",
       "    </tr>\n",
       "    <tr>\n",
       "      <th>3</th>\n",
       "      <td>Charlie</td>\n",
       "      <td>12027</td>\n",
       "      <td>DeSoto</td>\n",
       "      <td>119.0</td>\n",
       "      <td>0.0</td>\n",
       "      <td>0.0</td>\n",
       "      <td>0.00</td>\n",
       "      <td>16.85</td>\n",
       "      <td>0.00</td>\n",
       "      <td>46.0</td>\n",
       "      <td>...</td>\n",
       "      <td>0.00</td>\n",
       "      <td>1.0</td>\n",
       "      <td>12</td>\n",
       "      <td>Charlie</td>\n",
       "      <td>FL</td>\n",
       "      <td>2004</td>\n",
       "      <td>4</td>\n",
       "      <td>16.0</td>\n",
       "      <td>21.1</td>\n",
       "      <td>2.813333</td>\n",
       "    </tr>\n",
       "    <tr>\n",
       "      <th>4</th>\n",
       "      <td>Charlie</td>\n",
       "      <td>12021</td>\n",
       "      <td>Collier</td>\n",
       "      <td>98.0</td>\n",
       "      <td>291.0</td>\n",
       "      <td>9653.0</td>\n",
       "      <td>0.85</td>\n",
       "      <td>0.80</td>\n",
       "      <td>9.29</td>\n",
       "      <td>2131.0</td>\n",
       "      <td>...</td>\n",
       "      <td>0.36</td>\n",
       "      <td>1.0</td>\n",
       "      <td>12</td>\n",
       "      <td>Charlie</td>\n",
       "      <td>FL</td>\n",
       "      <td>2004</td>\n",
       "      <td>4</td>\n",
       "      <td>16.0</td>\n",
       "      <td>21.1</td>\n",
       "      <td>2.813333</td>\n",
       "    </tr>\n",
       "  </tbody>\n",
       "</table>\n",
       "<p>5 rows × 789 columns</p>\n",
       "</div>"
      ],
      "text/plain": [
       "     geoid  area_fips   county  \\\n",
       "0  Charlie      12095   Orange   \n",
       "1  Charlie      12087   Monroe   \n",
       "2  Charlie      12049   Hardee   \n",
       "3  Charlie      12027   DeSoto   \n",
       "4  Charlie      12021  Collier   \n",
       "\n",
       "   qtrly_estabs_11_agriculture_forestry_fishing_and_hunting  \\\n",
       "0                                              227.0          \n",
       "1                                               26.0          \n",
       "2                                              118.0          \n",
       "3                                              119.0          \n",
       "4                                               98.0          \n",
       "\n",
       "   avg_wkly_wage_11_agriculture_forestry_fishing_and_hunting  \\\n",
       "0                                                0.0           \n",
       "1                                                0.0           \n",
       "2                                                0.0           \n",
       "3                                                0.0           \n",
       "4                                              291.0           \n",
       "\n",
       "   month3_emplvl_11_agriculture_forestry_fishing_and_hunting  \\\n",
       "0                                                0.0           \n",
       "1                                                0.0           \n",
       "2                                                0.0           \n",
       "3                                                0.0           \n",
       "4                                             9653.0           \n",
       "\n",
       "   lq_avg_wkly_wage_11_agriculture_forestry_fishing_and_hunting  \\\n",
       "0                                               0.00              \n",
       "1                                               0.00              \n",
       "2                                               0.00              \n",
       "3                                               0.00              \n",
       "4                                               0.85              \n",
       "\n",
       "   lq_qtrly_estabs_11_agriculture_forestry_fishing_and_hunting  \\\n",
       "0                                               0.65             \n",
       "1                                               0.55             \n",
       "2                                              18.63             \n",
       "3                                              16.85             \n",
       "4                                               0.80             \n",
       "\n",
       "   lq_month3_emplvl_11_agriculture_forestry_fishing_and_hunting  \\\n",
       "0                                               0.00              \n",
       "1                                               0.00              \n",
       "2                                               0.00              \n",
       "3                                               0.00              \n",
       "4                                               9.29              \n",
       "\n",
       "   qtrly_estabs_1024_professional_and_business_services  ...  \\\n",
       "0                                             6576.0     ...   \n",
       "1                                              648.0     ...   \n",
       "2                                               47.0     ...   \n",
       "3                                               46.0     ...   \n",
       "4                                             2131.0     ...   \n",
       "\n",
       "   lq_month3_emplvl_48_49_transportation_and_warehousing.3  quarter.3  rank  \\\n",
       "0                                               0.95              1.0    12   \n",
       "1                                               0.72              1.0    12   \n",
       "2                                               0.00              1.0    12   \n",
       "3                                               0.00              1.0    12   \n",
       "4                                               0.36              1.0    12   \n",
       "\n",
       "      name  states  year  category  damage  adjusted_damage  damage_by_county  \n",
       "0  Charlie      FL  2004         4    16.0             21.1          2.813333  \n",
       "1  Charlie      FL  2004         4    16.0             21.1          2.813333  \n",
       "2  Charlie      FL  2004         4    16.0             21.1          2.813333  \n",
       "3  Charlie      FL  2004         4    16.0             21.1          2.813333  \n",
       "4  Charlie      FL  2004         4    16.0             21.1          2.813333  \n",
       "\n",
       "[5 rows x 789 columns]"
      ]
     },
     "execution_count": 1982,
     "metadata": {},
     "output_type": "execute_result"
    }
   ],
   "source": [
    "df.head()"
   ]
  },
  {
   "cell_type": "code",
   "execution_count": 1983,
   "metadata": {},
   "outputs": [
    {
     "data": {
      "text/plain": [
       "['damage', 'adjusted_damage', 'damage_by_county']"
      ]
     },
     "execution_count": 1983,
     "metadata": {},
     "output_type": "execute_result"
    }
   ],
   "source": [
    "[c for c in df.columns if 'damage' in c]"
   ]
  },
  {
   "cell_type": "code",
   "execution_count": 1984,
   "metadata": {},
   "outputs": [],
   "source": [
    "#Null columns\n",
    "df=df.drop([10,117])"
   ]
  },
  {
   "cell_type": "code",
   "execution_count": 1985,
   "metadata": {},
   "outputs": [],
   "source": [
    "#Create estimates for hurricane damage by county\n",
    "for i in df['geoid'].unique():\n",
    "    count = df[df['geoid'] == i].shape[0]\n",
    "    df.loc[df['geoid'] == i,'damage_by_county'] = df.loc[df['geoid'] == i,'damage'] * .8/count"
   ]
  },
  {
   "cell_type": "code",
   "execution_count": 1986,
   "metadata": {},
   "outputs": [
    {
     "data": {
      "text/plain": [
       "0.675000     16\n",
       "3.076923     13\n",
       "1.233333     12\n",
       "1.490909     11\n",
       "0.784000     10\n",
       "11.111111     9\n",
       "2.868571      7\n",
       "1.142857      7\n",
       "16.666667     6\n",
       "2.533333      6\n",
       "2.133333      6\n",
       "8.666667      6\n",
       "14.400000     5\n",
       "6.000000      4\n",
       "Name: damage_by_county, dtype: int64"
      ]
     },
     "execution_count": 1986,
     "metadata": {},
     "output_type": "execute_result"
    }
   ],
   "source": [
    "df['damage_by_county'].value_counts()"
   ]
  },
  {
   "cell_type": "code",
   "execution_count": 1987,
   "metadata": {},
   "outputs": [
    {
     "data": {
      "text/plain": [
       "(118, 789)"
      ]
     },
     "execution_count": 1987,
     "metadata": {},
     "output_type": "execute_result"
    }
   ],
   "source": [
    "df.shape"
   ]
  },
  {
   "cell_type": "code",
   "execution_count": 1988,
   "metadata": {},
   "outputs": [
    {
     "data": {
      "text/plain": [
       "Index([], dtype='object')"
      ]
     },
     "execution_count": 1988,
     "metadata": {},
     "output_type": "execute_result"
    }
   ],
   "source": [
    "df.columns[800:]"
   ]
  },
  {
   "cell_type": "code",
   "execution_count": 1989,
   "metadata": {},
   "outputs": [
    {
     "data": {
      "text/plain": [
       "['quarter', 'quarter.1', 'quarter.2', 'quarter.3']"
      ]
     },
     "execution_count": 1989,
     "metadata": {},
     "output_type": "execute_result"
    }
   ],
   "source": [
    "[c for c in df.columns if 'quarter' in c]"
   ]
  },
  {
   "cell_type": "code",
   "execution_count": 1990,
   "metadata": {
    "scrolled": false
   },
   "outputs": [],
   "source": [
    "cols_lq=[c for c in df.columns if c[0:2]=='lq']\n",
    "cols_lq.append('geoid')\n",
    "cols_lq.append('area_fips')\n",
    "cols_lq.append('year')\n",
    "cols_lq.append('county')\n",
    "cols_lq\n",
    "df_lq=df[cols_lq]"
   ]
  },
  {
   "cell_type": "code",
   "execution_count": 1991,
   "metadata": {},
   "outputs": [],
   "source": [
    "#Create separate dataframes for only LQ columns\n",
    "cols=[c for c in df.columns if 'unclassified' not in c]\n",
    "colslq_cl=[c for c in df_lq.columns if 'unclassified' not in c]"
   ]
  },
  {
   "cell_type": "code",
   "execution_count": 1992,
   "metadata": {},
   "outputs": [],
   "source": [
    "dfc=df[cols]\n",
    "df_lq=df_lq[colslq_cl]"
   ]
  },
  {
   "cell_type": "code",
   "execution_count": 1993,
   "metadata": {},
   "outputs": [
    {
     "data": {
      "text/plain": [
       "(118, 364)"
      ]
     },
     "execution_count": 1993,
     "metadata": {},
     "output_type": "execute_result"
    }
   ],
   "source": [
    "df_lq.shape"
   ]
  },
  {
   "cell_type": "code",
   "execution_count": 1994,
   "metadata": {},
   "outputs": [
    {
     "data": {
      "text/plain": [
       "(118, 741)"
      ]
     },
     "execution_count": 1994,
     "metadata": {},
     "output_type": "execute_result"
    }
   ],
   "source": [
    "dfc.shape"
   ]
  },
  {
   "cell_type": "code",
   "execution_count": 1995,
   "metadata": {},
   "outputs": [
    {
     "data": {
      "text/plain": [
       "quarter.3                                                            13\n",
       "avg_wkly_wage_55_management_of_companies_and_enterprises             12\n",
       "month3_emplvl_55_management_of_companies_and_enterprises.2           12\n",
       "lq_month3_emplvl_55_management_of_companies_and_enterprises.3        12\n",
       "lq_month3_emplvl_55_management_of_companies_and_enterprises          12\n",
       "month3_emplvl_55_management_of_companies_and_enterprises.3           12\n",
       "avg_wkly_wage_55_management_of_companies_and_enterprises.3           12\n",
       "qtrly_estabs_55_management_of_companies_and_enterprises.3            12\n",
       "lq_qtrly_estabs_55_management_of_companies_and_enterprises           12\n",
       "lq_avg_wkly_wage_55_management_of_companies_and_enterprises          12\n",
       "month3_emplvl_55_management_of_companies_and_enterprises             12\n",
       "qtrly_estabs_55_management_of_companies_and_enterprises              12\n",
       "lq_month3_emplvl_55_management_of_companies_and_enterprises.2        12\n",
       "lq_avg_wkly_wage_55_management_of_companies_and_enterprises.3        12\n",
       "lq_avg_wkly_wage_55_management_of_companies_and_enterprises.2        12\n",
       "lq_qtrly_estabs_55_management_of_companies_and_enterprises.2         12\n",
       "avg_wkly_wage_55_management_of_companies_and_enterprises.2           12\n",
       "lq_avg_wkly_wage_55_management_of_companies_and_enterprises.1        12\n",
       "lq_month3_emplvl_55_management_of_companies_and_enterprises.1        12\n",
       "qtrly_estabs_55_management_of_companies_and_enterprises.2            12\n",
       "lq_qtrly_estabs_55_management_of_companies_and_enterprises.1         12\n",
       "lq_qtrly_estabs_55_management_of_companies_and_enterprises.3         12\n",
       "month3_emplvl_55_management_of_companies_and_enterprises.1           12\n",
       "avg_wkly_wage_55_management_of_companies_and_enterprises.1           12\n",
       "qtrly_estabs_55_management_of_companies_and_enterprises.1            12\n",
       "qtrly_estabs_21_mining_quarrying_and_oil_and_gas_extraction.3        10\n",
       "avg_wkly_wage_21_mining_quarrying_and_oil_and_gas_extraction.3       10\n",
       "lq_avg_wkly_wage_21_mining_quarrying_and_oil_and_gas_extraction.3    10\n",
       "lq_qtrly_estabs_21_mining_quarrying_and_oil_and_gas_extraction.3     10\n",
       "lq_month3_emplvl_21_mining_quarrying_and_oil_and_gas_extraction.3    10\n",
       "lq_month3_emplvl_21_mining_quarrying_and_oil_and_gas_extraction.2    10\n",
       "qtrly_estabs_21_mining_quarrying_and_oil_and_gas_extraction.2        10\n",
       "avg_wkly_wage_21_mining_quarrying_and_oil_and_gas_extraction.2       10\n",
       "month3_emplvl_21_mining_quarrying_and_oil_and_gas_extraction.2       10\n",
       "month3_emplvl_21_mining_quarrying_and_oil_and_gas_extraction.3       10\n",
       "avg_wkly_wage_21_mining_quarrying_and_oil_and_gas_extraction.1       10\n",
       "qtrly_estabs_21_mining_quarrying_and_oil_and_gas_extraction.1        10\n",
       "lq_qtrly_estabs_21_mining_quarrying_and_oil_and_gas_extraction.1     10\n",
       "qtrly_estabs_21_mining_quarrying_and_oil_and_gas_extraction          10\n",
       "avg_wkly_wage_21_mining_quarrying_and_oil_and_gas_extraction         10\n",
       "month3_emplvl_21_mining_quarrying_and_oil_and_gas_extraction         10\n",
       "lq_avg_wkly_wage_21_mining_quarrying_and_oil_and_gas_extraction      10\n",
       "lq_qtrly_estabs_21_mining_quarrying_and_oil_and_gas_extraction       10\n",
       "lq_month3_emplvl_21_mining_quarrying_and_oil_and_gas_extraction      10\n",
       "lq_qtrly_estabs_21_mining_quarrying_and_oil_and_gas_extraction.2     10\n",
       "lq_month3_emplvl_21_mining_quarrying_and_oil_and_gas_extraction.1    10\n",
       "lq_avg_wkly_wage_21_mining_quarrying_and_oil_and_gas_extraction.2    10\n",
       "lq_avg_wkly_wage_21_mining_quarrying_and_oil_and_gas_extraction.1    10\n",
       "month3_emplvl_21_mining_quarrying_and_oil_and_gas_extraction.1       10\n",
       "avg_wkly_wage_22_utilities.3                                          7\n",
       "dtype: int64"
      ]
     },
     "execution_count": 1995,
     "metadata": {},
     "output_type": "execute_result"
    }
   ],
   "source": [
    "dfc.isnull().sum().sort_values(ascending=False).head(50)"
   ]
  },
  {
   "cell_type": "code",
   "execution_count": 1996,
   "metadata": {},
   "outputs": [
    {
     "data": {
      "text/plain": [
       "(['month3_emplvl_11_agriculture_forestry_fishing_and_hunting',\n",
       "  'month3_emplvl_1024_professional_and_business_services',\n",
       "  'month3_emplvl_61_educational_services',\n",
       "  'month3_emplvl_53_real_estate_and_rental_and_leasing',\n",
       "  'month3_emplvl_1023_financial_activities',\n",
       "  'month3_emplvl_31_33_manufacturing',\n",
       "  'month3_emplvl_23_construction',\n",
       "  'month3_emplvl_71_arts_entertainment_and_recreation',\n",
       "  'month3_emplvl_1011_natural_resources_and_mining',\n",
       "  'month3_emplvl_54_professional_and_technical_services',\n",
       "  'month3_emplvl_1026_leisure_and_hospitality',\n",
       "  'month3_emplvl_1022_information',\n",
       "  'month3_emplvl_72_accommodation_and_food_services',\n",
       "  'month3_emplvl_22_utilities',\n",
       "  'month3_emplvl_42_wholesale_trade',\n",
       "  'month3_emplvl_10_total_all_industries',\n",
       "  'month3_emplvl_81_other_services_except_public_administration',\n",
       "  'month3_emplvl_52_finance_and_insurance',\n",
       "  'month3_emplvl_44_45_retail_trade',\n",
       "  'month3_emplvl_1013_manufacturing',\n",
       "  'month3_emplvl_1027_other_services',\n",
       "  'month3_emplvl_1025_education_and_health_services',\n",
       "  'month3_emplvl_51_information',\n",
       "  'month3_emplvl_62_health_care_and_social_assistance',\n",
       "  'month3_emplvl_21_mining_quarrying_and_oil_and_gas_extraction',\n",
       "  'month3_emplvl_55_management_of_companies_and_enterprises',\n",
       "  'month3_emplvl_1012_construction',\n",
       "  'month3_emplvl_56_administrative_and_waste_services',\n",
       "  'month3_emplvl_1021_trade_transportation_and_utilities',\n",
       "  'month3_emplvl_48_49_transportation_and_warehousing'],\n",
       " 30)"
      ]
     },
     "execution_count": 1996,
     "metadata": {},
     "output_type": "execute_result"
    }
   ],
   "source": [
    "#Display all 30 industries in order\n",
    "industries=[]\n",
    "col_inds=[]\n",
    "for i in range(5,185,6):\n",
    "    a=dfc.columns[i]\n",
    "    industries.append(a)\n",
    "    col_inds.append(i)\n",
    "industries,len(industries)"
   ]
  },
  {
   "cell_type": "code",
   "execution_count": 1997,
   "metadata": {
    "scrolled": false
   },
   "outputs": [
    {
     "data": {
      "text/html": [
       "<div>\n",
       "<style scoped>\n",
       "    .dataframe tbody tr th:only-of-type {\n",
       "        vertical-align: middle;\n",
       "    }\n",
       "\n",
       "    .dataframe tbody tr th {\n",
       "        vertical-align: top;\n",
       "    }\n",
       "\n",
       "    .dataframe thead th {\n",
       "        text-align: right;\n",
       "    }\n",
       "</style>\n",
       "<table border=\"1\" class=\"dataframe\">\n",
       "  <thead>\n",
       "    <tr style=\"text-align: right;\">\n",
       "      <th></th>\n",
       "      <th>count</th>\n",
       "      <th>mean</th>\n",
       "      <th>std</th>\n",
       "      <th>min</th>\n",
       "      <th>25%</th>\n",
       "      <th>50%</th>\n",
       "      <th>75%</th>\n",
       "      <th>max</th>\n",
       "    </tr>\n",
       "  </thead>\n",
       "  <tbody>\n",
       "    <tr>\n",
       "      <th>lq_avg_wkly_wage_22_utilities</th>\n",
       "      <td>111.0</td>\n",
       "      <td>0.579640</td>\n",
       "      <td>0.512963</td>\n",
       "      <td>0.00</td>\n",
       "      <td>0.0000</td>\n",
       "      <td>0.740</td>\n",
       "      <td>0.9400</td>\n",
       "      <td>1.97</td>\n",
       "    </tr>\n",
       "    <tr>\n",
       "      <th>lq_qtrly_estabs_22_utilities</th>\n",
       "      <td>111.0</td>\n",
       "      <td>1.521802</td>\n",
       "      <td>1.519062</td>\n",
       "      <td>0.07</td>\n",
       "      <td>0.4500</td>\n",
       "      <td>0.920</td>\n",
       "      <td>1.9700</td>\n",
       "      <td>6.69</td>\n",
       "    </tr>\n",
       "    <tr>\n",
       "      <th>lq_month3_emplvl_22_utilities</th>\n",
       "      <td>111.0</td>\n",
       "      <td>0.645676</td>\n",
       "      <td>0.901506</td>\n",
       "      <td>0.00</td>\n",
       "      <td>0.0000</td>\n",
       "      <td>0.470</td>\n",
       "      <td>1.0200</td>\n",
       "      <td>6.44</td>\n",
       "    </tr>\n",
       "    <tr>\n",
       "      <th>lq_avg_wkly_wage_1021_trade_transportation_and_utilities</th>\n",
       "      <td>118.0</td>\n",
       "      <td>1.034068</td>\n",
       "      <td>0.174568</td>\n",
       "      <td>0.58</td>\n",
       "      <td>0.9700</td>\n",
       "      <td>1.020</td>\n",
       "      <td>1.0975</td>\n",
       "      <td>2.10</td>\n",
       "    </tr>\n",
       "    <tr>\n",
       "      <th>lq_qtrly_estabs_1021_trade_transportation_and_utilities</th>\n",
       "      <td>118.0</td>\n",
       "      <td>1.109153</td>\n",
       "      <td>0.185940</td>\n",
       "      <td>0.64</td>\n",
       "      <td>0.9925</td>\n",
       "      <td>1.085</td>\n",
       "      <td>1.2000</td>\n",
       "      <td>1.64</td>\n",
       "    </tr>\n",
       "    <tr>\n",
       "      <th>lq_month3_emplvl_1021_trade_transportation_and_utilities</th>\n",
       "      <td>118.0</td>\n",
       "      <td>1.002288</td>\n",
       "      <td>0.226374</td>\n",
       "      <td>0.25</td>\n",
       "      <td>0.8850</td>\n",
       "      <td>0.995</td>\n",
       "      <td>1.1300</td>\n",
       "      <td>1.83</td>\n",
       "    </tr>\n",
       "    <tr>\n",
       "      <th>lq_avg_wkly_wage_22_utilities.1</th>\n",
       "      <td>111.0</td>\n",
       "      <td>0.632973</td>\n",
       "      <td>0.514100</td>\n",
       "      <td>0.00</td>\n",
       "      <td>0.0000</td>\n",
       "      <td>0.840</td>\n",
       "      <td>1.0600</td>\n",
       "      <td>1.60</td>\n",
       "    </tr>\n",
       "    <tr>\n",
       "      <th>lq_qtrly_estabs_22_utilities.1</th>\n",
       "      <td>111.0</td>\n",
       "      <td>1.541892</td>\n",
       "      <td>1.534896</td>\n",
       "      <td>0.06</td>\n",
       "      <td>0.4600</td>\n",
       "      <td>0.910</td>\n",
       "      <td>1.9900</td>\n",
       "      <td>6.63</td>\n",
       "    </tr>\n",
       "    <tr>\n",
       "      <th>lq_month3_emplvl_22_utilities.1</th>\n",
       "      <td>111.0</td>\n",
       "      <td>0.739640</td>\n",
       "      <td>1.138678</td>\n",
       "      <td>0.00</td>\n",
       "      <td>0.0000</td>\n",
       "      <td>0.580</td>\n",
       "      <td>1.0650</td>\n",
       "      <td>7.78</td>\n",
       "    </tr>\n",
       "    <tr>\n",
       "      <th>lq_avg_wkly_wage_1021_trade_transportation_and_utilities.1</th>\n",
       "      <td>118.0</td>\n",
       "      <td>1.011102</td>\n",
       "      <td>0.134118</td>\n",
       "      <td>0.64</td>\n",
       "      <td>0.9525</td>\n",
       "      <td>1.010</td>\n",
       "      <td>1.0600</td>\n",
       "      <td>1.80</td>\n",
       "    </tr>\n",
       "    <tr>\n",
       "      <th>lq_qtrly_estabs_1021_trade_transportation_and_utilities.1</th>\n",
       "      <td>118.0</td>\n",
       "      <td>1.110424</td>\n",
       "      <td>0.185852</td>\n",
       "      <td>0.67</td>\n",
       "      <td>0.9925</td>\n",
       "      <td>1.080</td>\n",
       "      <td>1.2000</td>\n",
       "      <td>1.62</td>\n",
       "    </tr>\n",
       "    <tr>\n",
       "      <th>lq_month3_emplvl_1021_trade_transportation_and_utilities.1</th>\n",
       "      <td>118.0</td>\n",
       "      <td>1.012373</td>\n",
       "      <td>0.226477</td>\n",
       "      <td>0.26</td>\n",
       "      <td>0.9125</td>\n",
       "      <td>0.995</td>\n",
       "      <td>1.1475</td>\n",
       "      <td>1.79</td>\n",
       "    </tr>\n",
       "    <tr>\n",
       "      <th>lq_avg_wkly_wage_22_utilities.2</th>\n",
       "      <td>111.0</td>\n",
       "      <td>0.710541</td>\n",
       "      <td>0.563019</td>\n",
       "      <td>0.00</td>\n",
       "      <td>0.0000</td>\n",
       "      <td>0.970</td>\n",
       "      <td>1.1700</td>\n",
       "      <td>2.03</td>\n",
       "    </tr>\n",
       "    <tr>\n",
       "      <th>lq_qtrly_estabs_22_utilities.2</th>\n",
       "      <td>111.0</td>\n",
       "      <td>1.528288</td>\n",
       "      <td>1.537797</td>\n",
       "      <td>0.06</td>\n",
       "      <td>0.4650</td>\n",
       "      <td>0.900</td>\n",
       "      <td>1.9250</td>\n",
       "      <td>6.85</td>\n",
       "    </tr>\n",
       "    <tr>\n",
       "      <th>lq_month3_emplvl_22_utilities.2</th>\n",
       "      <td>111.0</td>\n",
       "      <td>0.765225</td>\n",
       "      <td>1.168961</td>\n",
       "      <td>0.00</td>\n",
       "      <td>0.0000</td>\n",
       "      <td>0.550</td>\n",
       "      <td>1.1350</td>\n",
       "      <td>7.35</td>\n",
       "    </tr>\n",
       "    <tr>\n",
       "      <th>lq_avg_wkly_wage_1021_trade_transportation_and_utilities.2</th>\n",
       "      <td>118.0</td>\n",
       "      <td>1.020085</td>\n",
       "      <td>0.132372</td>\n",
       "      <td>0.68</td>\n",
       "      <td>0.9525</td>\n",
       "      <td>1.020</td>\n",
       "      <td>1.0600</td>\n",
       "      <td>1.67</td>\n",
       "    </tr>\n",
       "    <tr>\n",
       "      <th>lq_qtrly_estabs_1021_trade_transportation_and_utilities.2</th>\n",
       "      <td>118.0</td>\n",
       "      <td>1.113983</td>\n",
       "      <td>0.188798</td>\n",
       "      <td>0.68</td>\n",
       "      <td>0.9925</td>\n",
       "      <td>1.085</td>\n",
       "      <td>1.2000</td>\n",
       "      <td>1.64</td>\n",
       "    </tr>\n",
       "    <tr>\n",
       "      <th>lq_month3_emplvl_1021_trade_transportation_and_utilities.2</th>\n",
       "      <td>118.0</td>\n",
       "      <td>1.003220</td>\n",
       "      <td>0.230706</td>\n",
       "      <td>0.24</td>\n",
       "      <td>0.8900</td>\n",
       "      <td>0.990</td>\n",
       "      <td>1.1400</td>\n",
       "      <td>1.89</td>\n",
       "    </tr>\n",
       "    <tr>\n",
       "      <th>lq_avg_wkly_wage_22_utilities.3</th>\n",
       "      <td>111.0</td>\n",
       "      <td>0.616216</td>\n",
       "      <td>0.504015</td>\n",
       "      <td>0.00</td>\n",
       "      <td>0.0000</td>\n",
       "      <td>0.830</td>\n",
       "      <td>1.0100</td>\n",
       "      <td>1.69</td>\n",
       "    </tr>\n",
       "    <tr>\n",
       "      <th>lq_qtrly_estabs_22_utilities.3</th>\n",
       "      <td>111.0</td>\n",
       "      <td>1.517477</td>\n",
       "      <td>1.517312</td>\n",
       "      <td>0.05</td>\n",
       "      <td>0.4400</td>\n",
       "      <td>0.890</td>\n",
       "      <td>1.9300</td>\n",
       "      <td>6.86</td>\n",
       "    </tr>\n",
       "    <tr>\n",
       "      <th>lq_month3_emplvl_22_utilities.3</th>\n",
       "      <td>111.0</td>\n",
       "      <td>0.681892</td>\n",
       "      <td>0.977198</td>\n",
       "      <td>0.00</td>\n",
       "      <td>0.0000</td>\n",
       "      <td>0.370</td>\n",
       "      <td>1.1050</td>\n",
       "      <td>7.12</td>\n",
       "    </tr>\n",
       "    <tr>\n",
       "      <th>lq_avg_wkly_wage_1021_trade_transportation_and_utilities.3</th>\n",
       "      <td>118.0</td>\n",
       "      <td>1.034068</td>\n",
       "      <td>0.143850</td>\n",
       "      <td>0.65</td>\n",
       "      <td>0.9600</td>\n",
       "      <td>1.035</td>\n",
       "      <td>1.0900</td>\n",
       "      <td>1.76</td>\n",
       "    </tr>\n",
       "    <tr>\n",
       "      <th>lq_qtrly_estabs_1021_trade_transportation_and_utilities.3</th>\n",
       "      <td>118.0</td>\n",
       "      <td>1.111102</td>\n",
       "      <td>0.187748</td>\n",
       "      <td>0.71</td>\n",
       "      <td>0.9925</td>\n",
       "      <td>1.085</td>\n",
       "      <td>1.2000</td>\n",
       "      <td>1.65</td>\n",
       "    </tr>\n",
       "    <tr>\n",
       "      <th>lq_month3_emplvl_1021_trade_transportation_and_utilities.3</th>\n",
       "      <td>118.0</td>\n",
       "      <td>0.994407</td>\n",
       "      <td>0.222720</td>\n",
       "      <td>0.26</td>\n",
       "      <td>0.8925</td>\n",
       "      <td>0.990</td>\n",
       "      <td>1.1275</td>\n",
       "      <td>1.75</td>\n",
       "    </tr>\n",
       "  </tbody>\n",
       "</table>\n",
       "</div>"
      ],
      "text/plain": [
       "                                                    count      mean       std  \\\n",
       "lq_avg_wkly_wage_22_utilities                       111.0  0.579640  0.512963   \n",
       "lq_qtrly_estabs_22_utilities                        111.0  1.521802  1.519062   \n",
       "lq_month3_emplvl_22_utilities                       111.0  0.645676  0.901506   \n",
       "lq_avg_wkly_wage_1021_trade_transportation_and_...  118.0  1.034068  0.174568   \n",
       "lq_qtrly_estabs_1021_trade_transportation_and_u...  118.0  1.109153  0.185940   \n",
       "lq_month3_emplvl_1021_trade_transportation_and_...  118.0  1.002288  0.226374   \n",
       "lq_avg_wkly_wage_22_utilities.1                     111.0  0.632973  0.514100   \n",
       "lq_qtrly_estabs_22_utilities.1                      111.0  1.541892  1.534896   \n",
       "lq_month3_emplvl_22_utilities.1                     111.0  0.739640  1.138678   \n",
       "lq_avg_wkly_wage_1021_trade_transportation_and_...  118.0  1.011102  0.134118   \n",
       "lq_qtrly_estabs_1021_trade_transportation_and_u...  118.0  1.110424  0.185852   \n",
       "lq_month3_emplvl_1021_trade_transportation_and_...  118.0  1.012373  0.226477   \n",
       "lq_avg_wkly_wage_22_utilities.2                     111.0  0.710541  0.563019   \n",
       "lq_qtrly_estabs_22_utilities.2                      111.0  1.528288  1.537797   \n",
       "lq_month3_emplvl_22_utilities.2                     111.0  0.765225  1.168961   \n",
       "lq_avg_wkly_wage_1021_trade_transportation_and_...  118.0  1.020085  0.132372   \n",
       "lq_qtrly_estabs_1021_trade_transportation_and_u...  118.0  1.113983  0.188798   \n",
       "lq_month3_emplvl_1021_trade_transportation_and_...  118.0  1.003220  0.230706   \n",
       "lq_avg_wkly_wage_22_utilities.3                     111.0  0.616216  0.504015   \n",
       "lq_qtrly_estabs_22_utilities.3                      111.0  1.517477  1.517312   \n",
       "lq_month3_emplvl_22_utilities.3                     111.0  0.681892  0.977198   \n",
       "lq_avg_wkly_wage_1021_trade_transportation_and_...  118.0  1.034068  0.143850   \n",
       "lq_qtrly_estabs_1021_trade_transportation_and_u...  118.0  1.111102  0.187748   \n",
       "lq_month3_emplvl_1021_trade_transportation_and_...  118.0  0.994407  0.222720   \n",
       "\n",
       "                                                     min     25%    50%  \\\n",
       "lq_avg_wkly_wage_22_utilities                       0.00  0.0000  0.740   \n",
       "lq_qtrly_estabs_22_utilities                        0.07  0.4500  0.920   \n",
       "lq_month3_emplvl_22_utilities                       0.00  0.0000  0.470   \n",
       "lq_avg_wkly_wage_1021_trade_transportation_and_...  0.58  0.9700  1.020   \n",
       "lq_qtrly_estabs_1021_trade_transportation_and_u...  0.64  0.9925  1.085   \n",
       "lq_month3_emplvl_1021_trade_transportation_and_...  0.25  0.8850  0.995   \n",
       "lq_avg_wkly_wage_22_utilities.1                     0.00  0.0000  0.840   \n",
       "lq_qtrly_estabs_22_utilities.1                      0.06  0.4600  0.910   \n",
       "lq_month3_emplvl_22_utilities.1                     0.00  0.0000  0.580   \n",
       "lq_avg_wkly_wage_1021_trade_transportation_and_...  0.64  0.9525  1.010   \n",
       "lq_qtrly_estabs_1021_trade_transportation_and_u...  0.67  0.9925  1.080   \n",
       "lq_month3_emplvl_1021_trade_transportation_and_...  0.26  0.9125  0.995   \n",
       "lq_avg_wkly_wage_22_utilities.2                     0.00  0.0000  0.970   \n",
       "lq_qtrly_estabs_22_utilities.2                      0.06  0.4650  0.900   \n",
       "lq_month3_emplvl_22_utilities.2                     0.00  0.0000  0.550   \n",
       "lq_avg_wkly_wage_1021_trade_transportation_and_...  0.68  0.9525  1.020   \n",
       "lq_qtrly_estabs_1021_trade_transportation_and_u...  0.68  0.9925  1.085   \n",
       "lq_month3_emplvl_1021_trade_transportation_and_...  0.24  0.8900  0.990   \n",
       "lq_avg_wkly_wage_22_utilities.3                     0.00  0.0000  0.830   \n",
       "lq_qtrly_estabs_22_utilities.3                      0.05  0.4400  0.890   \n",
       "lq_month3_emplvl_22_utilities.3                     0.00  0.0000  0.370   \n",
       "lq_avg_wkly_wage_1021_trade_transportation_and_...  0.65  0.9600  1.035   \n",
       "lq_qtrly_estabs_1021_trade_transportation_and_u...  0.71  0.9925  1.085   \n",
       "lq_month3_emplvl_1021_trade_transportation_and_...  0.26  0.8925  0.990   \n",
       "\n",
       "                                                       75%   max  \n",
       "lq_avg_wkly_wage_22_utilities                       0.9400  1.97  \n",
       "lq_qtrly_estabs_22_utilities                        1.9700  6.69  \n",
       "lq_month3_emplvl_22_utilities                       1.0200  6.44  \n",
       "lq_avg_wkly_wage_1021_trade_transportation_and_...  1.0975  2.10  \n",
       "lq_qtrly_estabs_1021_trade_transportation_and_u...  1.2000  1.64  \n",
       "lq_month3_emplvl_1021_trade_transportation_and_...  1.1300  1.83  \n",
       "lq_avg_wkly_wage_22_utilities.1                     1.0600  1.60  \n",
       "lq_qtrly_estabs_22_utilities.1                      1.9900  6.63  \n",
       "lq_month3_emplvl_22_utilities.1                     1.0650  7.78  \n",
       "lq_avg_wkly_wage_1021_trade_transportation_and_...  1.0600  1.80  \n",
       "lq_qtrly_estabs_1021_trade_transportation_and_u...  1.2000  1.62  \n",
       "lq_month3_emplvl_1021_trade_transportation_and_...  1.1475  1.79  \n",
       "lq_avg_wkly_wage_22_utilities.2                     1.1700  2.03  \n",
       "lq_qtrly_estabs_22_utilities.2                      1.9250  6.85  \n",
       "lq_month3_emplvl_22_utilities.2                     1.1350  7.35  \n",
       "lq_avg_wkly_wage_1021_trade_transportation_and_...  1.0600  1.67  \n",
       "lq_qtrly_estabs_1021_trade_transportation_and_u...  1.2000  1.64  \n",
       "lq_month3_emplvl_1021_trade_transportation_and_...  1.1400  1.89  \n",
       "lq_avg_wkly_wage_22_utilities.3                     1.0100  1.69  \n",
       "lq_qtrly_estabs_22_utilities.3                      1.9300  6.86  \n",
       "lq_month3_emplvl_22_utilities.3                     1.1050  7.12  \n",
       "lq_avg_wkly_wage_1021_trade_transportation_and_...  1.0900  1.76  \n",
       "lq_qtrly_estabs_1021_trade_transportation_and_u...  1.2000  1.65  \n",
       "lq_month3_emplvl_1021_trade_transportation_and_...  1.1275  1.75  "
      ]
     },
     "execution_count": 1997,
     "metadata": {},
     "output_type": "execute_result"
    }
   ],
   "source": [
    "#snapshot of utilities industry\n",
    "colaglq=[c for c in df_lq.columns if 'utilities' in c]\n",
    "df_lq[colaglq].describe().T"
   ]
  },
  {
   "cell_type": "code",
   "execution_count": 1998,
   "metadata": {
    "scrolled": false
   },
   "outputs": [],
   "source": [
    "#check to see if each industry is in the same index in its quarter\n",
    "for i in range(0,90,1):\n",
    "    a=[df_lq.columns[i],df_lq.columns[90+i],df_lq.columns[180+i],df_lq.columns[270+i]]\n",
    "    if a[0][20:25]!=a[1][20:25]:\n",
    "        print(a)\n"
   ]
  },
  {
   "cell_type": "code",
   "execution_count": 1999,
   "metadata": {},
   "outputs": [],
   "source": [
    "df_lq.fillna(.9);"
   ]
  },
  {
   "cell_type": "code",
   "execution_count": 2000,
   "metadata": {
    "scrolled": false
   },
   "outputs": [],
   "source": [
    "#Create a quarters preceding the hurricane average LQ quotient for each industry\n",
    "#This helps to strip out seasonality\n",
    "for i in range(0,90,3):\n",
    "    df_lq['emp_'+str(i/3)+'_avg']=(df_lq[df_lq.columns[i]]+df_lq[df_lq.columns[i+90]])/2\n",
    "    df_lq['wage_'+str(i/3)+'_avg']=(df_lq[df_lq.columns[i+1]]+df_lq[df_lq.columns[i+91]])/2\n",
    "    df_lq['est_'+str(i/3)+'_avg']=(df_lq[df_lq.columns[i+2]]+df_lq[df_lq.columns[i+92]])/2"
   ]
  },
  {
   "cell_type": "code",
   "execution_count": 2001,
   "metadata": {},
   "outputs": [
    {
     "data": {
      "text/plain": [
       "Index(['county', 'emp_0.0_avg', 'wage_0.0_avg', 'est_0.0_avg', 'emp_1.0_avg'], dtype='object')"
      ]
     },
     "execution_count": 2001,
     "metadata": {},
     "output_type": "execute_result"
    }
   ],
   "source": [
    "df_lq.columns[363:368]"
   ]
  },
  {
   "cell_type": "code",
   "execution_count": 2002,
   "metadata": {},
   "outputs": [
    {
     "data": {
      "text/plain": [
       "Index(['emp_12.0_avg', 'wage_12.0_avg', 'est_12.0_avg', 'emp_13.0_avg',\n",
       "       'wage_13.0_avg', 'est_13.0_avg', 'emp_14.0_avg', 'wage_14.0_avg',\n",
       "       'est_14.0_avg', 'emp_15.0_avg', 'wage_15.0_avg', 'est_15.0_avg',\n",
       "       'emp_16.0_avg', 'wage_16.0_avg', 'est_16.0_avg'],\n",
       "      dtype='object')"
      ]
     },
     "execution_count": 2002,
     "metadata": {},
     "output_type": "execute_result"
    }
   ],
   "source": [
    "df_lq.columns[400:415]"
   ]
  },
  {
   "cell_type": "code",
   "execution_count": 2003,
   "metadata": {},
   "outputs": [
    {
     "data": {
      "text/plain": [
       "['qtrly_estabs_10_total_all_industries',\n",
       " 'avg_wkly_wage_10_total_all_industries',\n",
       " 'month3_emplvl_10_total_all_industries',\n",
       " 'qtrly_estabs_10_total_all_industries.1',\n",
       " 'avg_wkly_wage_10_total_all_industries.1',\n",
       " 'month3_emplvl_10_total_all_industries.1',\n",
       " 'qtrly_estabs_10_total_all_industries.2',\n",
       " 'avg_wkly_wage_10_total_all_industries.2',\n",
       " 'month3_emplvl_10_total_all_industries.2',\n",
       " 'qtrly_estabs_10_total_all_industries.3',\n",
       " 'avg_wkly_wage_10_total_all_industries.3',\n",
       " 'month3_emplvl_10_total_all_industries.3']"
      ]
     },
     "execution_count": 2003,
     "metadata": {},
     "output_type": "execute_result"
    }
   ],
   "source": [
    "[c for c in df.columns if 'total' in c and 'lq' not in c]"
   ]
  },
  {
   "cell_type": "code",
   "execution_count": 2004,
   "metadata": {},
   "outputs": [],
   "source": [
    "#Create average and %change numbers for the summation columns for each county\n",
    "df['emp_av']=(df['month3_emplvl_10_total_all_industries']+df['month3_emplvl_10_total_all_industries.1'])/2\n",
    "df['est_av']=(df['qtrly_estabs_10_total_all_industries']+df['qtrly_estabs_10_total_all_industries.1'])/2\n",
    "df['wage_av']=(df['avg_wkly_wage_10_total_all_industries']+df['avg_wkly_wage_10_total_all_industries.1'])/2\n",
    "df['emp_chg']=(df['month3_emplvl_10_total_all_industries.3']-df['emp_av'])/df['emp_av']\n",
    "df['est_chg']=(df['qtrly_estabs_10_total_all_industries.3']-df['est_av'])/df['est_av']\n",
    "df['wage_chg']=(df['avg_wkly_wage_10_total_all_industries.3']-df['wage_av'])/df['wage_av']"
   ]
  },
  {
   "cell_type": "code",
   "execution_count": 2005,
   "metadata": {},
   "outputs": [
    {
     "data": {
      "text/plain": [
       "(72    -0.663602\n",
       " 74    -0.411283\n",
       " 25    -0.237453\n",
       " 105   -0.231065\n",
       " 44    -0.203988\n",
       "          ...   \n",
       " 11     0.095684\n",
       " 118    0.123437\n",
       " 33     0.185520\n",
       " 116    0.206755\n",
       " 106    0.265140\n",
       " Name: emp_chg, Length: 118, dtype: float64,\n",
       " -0.0033817043547799473)"
      ]
     },
     "execution_count": 2005,
     "metadata": {},
     "output_type": "execute_result"
    }
   ],
   "source": [
    "df['emp_chg'].sort_values(),df['emp_chg'].mean()"
   ]
  },
  {
   "cell_type": "code",
   "execution_count": 2006,
   "metadata": {},
   "outputs": [
    {
     "data": {
      "text/plain": [
       "72    -0.663602\n",
       "74    -0.411283\n",
       "25    -0.237453\n",
       "105   -0.231065\n",
       "44    -0.203988\n",
       "         ...   \n",
       "11     0.095684\n",
       "118    0.123437\n",
       "33     0.185520\n",
       "116    0.206755\n",
       "106    0.265140\n",
       "Name: emp_chg, Length: 118, dtype: float64"
      ]
     },
     "execution_count": 2006,
     "metadata": {},
     "output_type": "execute_result"
    }
   ],
   "source": [
    "#Set X as our averaged q1/q2 LQ values, removing the total summation by county\n",
    "X=df_lq.iloc[:,364:].drop(axis=1,columns=['emp_16.0_avg','est_16.0_avg','wage_16.0_avg'])\n",
    "X=X.fillna(.9)\n",
    "X.isnull().sum()\n",
    "y=df['emp_chg']\n",
    "y.isnull().sum()\n",
    "y.sort_values()"
   ]
  },
  {
   "cell_type": "code",
   "execution_count": 2007,
   "metadata": {},
   "outputs": [
    {
     "data": {
      "text/plain": [
       "0      0.034409\n",
       "1     -0.009483\n",
       "2      0.003314\n",
       "3     -0.061788\n",
       "4      0.066630\n",
       "         ...   \n",
       "114    0.036259\n",
       "115    0.075437\n",
       "116    0.206755\n",
       "118    0.123437\n",
       "119    0.022891\n",
       "Name: emp_chg, Length: 118, dtype: float64"
      ]
     },
     "execution_count": 2007,
     "metadata": {},
     "output_type": "execute_result"
    }
   ],
   "source": [
    "y"
   ]
  },
  {
   "cell_type": "code",
   "execution_count": 2008,
   "metadata": {},
   "outputs": [],
   "source": [
    "from sklearn.model_selection import train_test_split, cross_val_score, GridSearchCV\n",
    "from sklearn.linear_model import LinearRegression, LassoCV\n",
    "from sklearn.preprocessing import StandardScaler, PolynomialFeatures"
   ]
  },
  {
   "cell_type": "code",
   "execution_count": 2009,
   "metadata": {},
   "outputs": [],
   "source": [
    "lr=LinearRegression()\n",
    "X_train,X_test,y_train,y_test=train_test_split(X,y,test_size=.1)"
   ]
  },
  {
   "cell_type": "code",
   "execution_count": 2010,
   "metadata": {},
   "outputs": [
    {
     "data": {
      "text/plain": [
       "LinearRegression(copy_X=True, fit_intercept=True, n_jobs=None, normalize=False)"
      ]
     },
     "execution_count": 2010,
     "metadata": {},
     "output_type": "execute_result"
    }
   ],
   "source": [
    "lr.fit(X_train,y_train)"
   ]
  },
  {
   "cell_type": "code",
   "execution_count": 2011,
   "metadata": {},
   "outputs": [
    {
     "data": {
      "text/plain": [
       "(0.9031741311929861, -2.5834555899984997)"
      ]
     },
     "execution_count": 2011,
     "metadata": {},
     "output_type": "execute_result"
    }
   ],
   "source": [
    "lr.score(X_train,y_train),lr.score(X_test,y_test) #yikes"
   ]
  },
  {
   "cell_type": "code",
   "execution_count": 2012,
   "metadata": {},
   "outputs": [
    {
     "data": {
      "text/plain": [
       "array([ 0.20826313, -0.09085077, -0.05543771, -0.11903306,  0.12243522,\n",
       "        0.1439302 , -0.12081618,  0.08365905, -0.28761583, -0.02012127,\n",
       "        0.13143976, -0.11334311])"
      ]
     },
     "execution_count": 2012,
     "metadata": {},
     "output_type": "execute_result"
    }
   ],
   "source": [
    "lr.predict(X_test)"
   ]
  },
  {
   "cell_type": "code",
   "execution_count": 2013,
   "metadata": {},
   "outputs": [
    {
     "data": {
      "text/plain": [
       "110    0.013141\n",
       "12     0.055289\n",
       "22     0.010758\n",
       "75    -0.180186\n",
       "91    -0.003490\n",
       "66     0.000205\n",
       "14     0.030682\n",
       "111   -0.006022\n",
       "53    -0.056863\n",
       "118    0.123437\n",
       "19    -0.025680\n",
       "73    -0.104860\n",
       "Name: emp_chg, dtype: float64"
      ]
     },
     "execution_count": 2013,
     "metadata": {},
     "output_type": "execute_result"
    }
   ],
   "source": [
    "y_test"
   ]
  },
  {
   "cell_type": "code",
   "execution_count": 2014,
   "metadata": {},
   "outputs": [],
   "source": [
    "ss=StandardScaler()\n",
    "X_trainsc=ss.fit_transform(X_train)\n",
    "X_testsc=ss.fit_transform(X_test)"
   ]
  },
  {
   "cell_type": "code",
   "execution_count": 2015,
   "metadata": {},
   "outputs": [
    {
     "name": "stderr",
     "output_type": "stream",
     "text": [
      "/Users/andrewdavis/opt/anaconda3/lib/python3.7/site-packages/sklearn/linear_model/_coordinate_descent.py:476: ConvergenceWarning: Objective did not converge. You might want to increase the number of iterations. Duality gap: 0.0008162590382116974, tolerance: 0.00010342822029221256\n",
      "  positive)\n",
      "/Users/andrewdavis/opt/anaconda3/lib/python3.7/site-packages/sklearn/linear_model/_coordinate_descent.py:476: ConvergenceWarning: Objective did not converge. You might want to increase the number of iterations. Duality gap: 0.0001516693305484429, tolerance: 9.907943942813702e-05\n",
      "  positive)\n"
     ]
    }
   ],
   "source": [
    "lasso_alphas = np.logspace(-3, 6, 100)\n",
    "lasso = LassoCV(alphas = lasso_alphas, cv = 5);\n",
    "lasso.fit(X_trainsc,y_train);"
   ]
  },
  {
   "cell_type": "code",
   "execution_count": 2016,
   "metadata": {},
   "outputs": [
    {
     "data": {
      "text/plain": [
       "((87,), (0,))"
      ]
     },
     "execution_count": 2016,
     "metadata": {},
     "output_type": "execute_result"
    }
   ],
   "source": [
    "beta_vals1=pd.Series(index=X.columns,data=lasso.coef_)\n",
    "beta_vals1[beta_vals1==0].shape,beta_vals1[beta_vals1!=0].shape"
   ]
  },
  {
   "cell_type": "code",
   "execution_count": 2017,
   "metadata": {},
   "outputs": [
    {
     "data": {
      "text/plain": [
       "Series([], dtype: float64)"
      ]
     },
     "execution_count": 2017,
     "metadata": {},
     "output_type": "execute_result"
    }
   ],
   "source": [
    "beta_vals1[abs(beta_vals1)>=.01] #Coefficients in a lasso model that weren't regularized out"
   ]
  },
  {
   "cell_type": "code",
   "execution_count": 2018,
   "metadata": {},
   "outputs": [
    {
     "data": {
      "text/plain": [
       "(0.0, -0.01680394535966978)"
      ]
     },
     "execution_count": 2018,
     "metadata": {},
     "output_type": "execute_result"
    }
   ],
   "source": [
    "lasso.score(X_trainsc,y_train),lasso.score(X_testsc,y_test)\n",
    "#double yikes"
   ]
  },
  {
   "cell_type": "code",
   "execution_count": 2019,
   "metadata": {},
   "outputs": [
    {
     "data": {
      "text/plain": [
       "(array([-0.00240992, -0.00240992, -0.00240992, -0.00240992, -0.00240992,\n",
       "        -0.00240992, -0.00240992, -0.00240992, -0.00240992, -0.00240992,\n",
       "        -0.00240992, -0.00240992]),\n",
       " 110    0.013141\n",
       " 12     0.055289\n",
       " 22     0.010758\n",
       " 75    -0.180186\n",
       " 91    -0.003490\n",
       " 66     0.000205\n",
       " 14     0.030682\n",
       " 111   -0.006022\n",
       " 53    -0.056863\n",
       " 118    0.123437\n",
       " 19    -0.025680\n",
       " 73    -0.104860\n",
       " Name: emp_chg, dtype: float64)"
      ]
     },
     "execution_count": 2019,
     "metadata": {},
     "output_type": "execute_result"
    }
   ],
   "source": [
    "lasso.predict(X_testsc),y_test"
   ]
  },
  {
   "cell_type": "code",
   "execution_count": 2020,
   "metadata": {},
   "outputs": [
    {
     "data": {
      "text/plain": [
       "'lq_avg_wkly_wage_11_agriculture_forestry_fishing_and_hunting'"
      ]
     },
     "execution_count": 2020,
     "metadata": {},
     "output_type": "execute_result"
    }
   ],
   "source": [
    "df_lq.columns[0]"
   ]
  },
  {
   "cell_type": "code",
   "execution_count": 2021,
   "metadata": {},
   "outputs": [
    {
     "data": {
      "image/png": "[encoded data removed]",
      "text/plain": [
       "<Figure size 432x288 with 1 Axes>"
      ]
     },
     "metadata": {
      "needs_background": "light"
     },
     "output_type": "display_data"
    }
   ],
   "source": [
    "#Plot of LQ quotients in agriculture by quarter for each county\n",
    "a=[df_lq[df_lq.columns[0]],\n",
    "   df_lq[df_lq.columns[90]],\n",
    "   df_lq[df_lq.columns[180]],\n",
    "   df_lq[df_lq.columns[270]]]\n",
    "import matplotlib.pyplot as plt\n",
    "plt.plot(a);\n",
    "plt.xticks([0,1,2,3])\n",
    "plt.title('Agriculture LQ During Hurricane Years')\n",
    "plt.xlabel('Quarter')\n",
    "plt.ylabel('LQ Quotient');"
   ]
  },
  {
   "cell_type": "code",
   "execution_count": 2022,
   "metadata": {},
   "outputs": [
    {
     "name": "stderr",
     "output_type": "stream",
     "text": [
      "/Users/andrewdavis/opt/anaconda3/lib/python3.7/site-packages/numpy/lib/histograms.py:839: RuntimeWarning: invalid value encountered in greater_equal\n",
      "  keep = (tmp_a >= first_edge)\n",
      "/Users/andrewdavis/opt/anaconda3/lib/python3.7/site-packages/numpy/lib/histograms.py:840: RuntimeWarning: invalid value encountered in less_equal\n",
      "  keep &= (tmp_a <= last_edge)\n"
     ]
    },
    {
     "data": {
      "image/png": "[encoded data removed]",
      "text/plain": [
       "<Figure size 432x288 with 1 Axes>"
      ]
     },
     "metadata": {
      "needs_background": "light"
     },
     "output_type": "display_data"
    }
   ],
   "source": [
    "#Distribution of agriculture LQ quotients\n",
    "plt.hist(df_lq[df_lq.columns[0]]);"
   ]
  },
  {
   "cell_type": "code",
   "execution_count": 2023,
   "metadata": {},
   "outputs": [
    {
     "data": {
      "text/plain": [
       "14"
      ]
     },
     "execution_count": 2023,
     "metadata": {},
     "output_type": "execute_result"
    }
   ],
   "source": [
    "df['geoid'].nunique()"
   ]
  },
  {
   "cell_type": "code",
   "execution_count": 2024,
   "metadata": {},
   "outputs": [
    {
     "data": {
      "image/png": "[encoded data removed]",
      "text/plain": [
       "<Figure size 432x288 with 1 Axes>"
      ]
     },
     "metadata": {
      "needs_background": "light"
     },
     "output_type": "display_data"
    }
   ],
   "source": [
    "#Dot plot of leisure employees by quarter by county, useless\n",
    "emp=[]\n",
    "for i in df['geoid'].unique():\n",
    "    a1=df['month3_emplvl_1026_leisure_and_hospitality'][df['geoid']==i].sum()\n",
    "    a2=df['month3_emplvl_1026_leisure_and_hospitality.1'][df['geoid']==i].sum()\n",
    "    a3=df['month3_emplvl_1026_leisure_and_hospitality.2'][df['geoid']==i].sum()\n",
    "    a4=df['month3_emplvl_1026_leisure_and_hospitality.3'][df['geoid']==i].sum()\n",
    "    plt.scatter(x=[1,2,3,4],y=[a1,a2,a3,a4]);"
   ]
  },
  {
   "cell_type": "code",
   "execution_count": 2025,
   "metadata": {},
   "outputs": [],
   "source": [
    "from sklearn.cluster import KMeans\n",
    "from sklearn.preprocessing import StandardScaler, PolynomialFeatures"
   ]
  },
  {
   "cell_type": "code",
   "execution_count": 2026,
   "metadata": {},
   "outputs": [
    {
     "data": {
      "text/plain": [
       "(118, 87)"
      ]
     },
     "execution_count": 2026,
     "metadata": {},
     "output_type": "execute_result"
    }
   ],
   "source": [
    "X.shape"
   ]
  },
  {
   "cell_type": "code",
   "execution_count": 2027,
   "metadata": {},
   "outputs": [],
   "source": [
    "ss=StandardScaler()\n",
    "Xsc=ss.fit_transform(X)"
   ]
  },
  {
   "cell_type": "code",
   "execution_count": 2028,
   "metadata": {
    "scrolled": true
   },
   "outputs": [
    {
     "data": {
      "image/png": "[encoded data removed]",
      "text/plain": [
       "<Figure size 432x288 with 1 Axes>"
      ]
     },
     "metadata": {
      "needs_background": "light"
     },
     "output_type": "display_data"
    }
   ],
   "source": [
    "#Elbow plot to determine clusters\n",
    "ns =[]\n",
    "ines = []\n",
    "for n in range(1, 9, 1):\n",
    "    ns.append(n)\n",
    "    kmeans = KMeans(n_clusters = n)\n",
    "    kmeans.fit(Xsc)\n",
    "    ines.append(kmeans.inertia_)\n",
    "plt.plot(ns, ines,marker='*')\n",
    "plt.xlabel('Number of clusters')\n",
    "plt.ylabel('KMeans Inertia')\n",
    "plt.title('Elbow Method Plot');"
   ]
  },
  {
   "cell_type": "code",
   "execution_count": 2029,
   "metadata": {},
   "outputs": [
    {
     "data": {
      "text/plain": [
       "KMeans(algorithm='auto', copy_x=True, init='k-means++', max_iter=300,\n",
       "       n_clusters=5, n_init=10, n_jobs=None, precompute_distances='auto',\n",
       "       random_state=2020, tol=0.0001, verbose=0)"
      ]
     },
     "execution_count": 2029,
     "metadata": {},
     "output_type": "execute_result"
    }
   ],
   "source": [
    "#With elbow plot not exactly descriptive, choose 5 clusters\n",
    "km=KMeans(n_clusters=5, random_state=2020)\n",
    "km.fit(Xsc)"
   ]
  },
  {
   "cell_type": "code",
   "execution_count": 2030,
   "metadata": {},
   "outputs": [
    {
     "data": {
      "text/plain": [
       "(118, 87)"
      ]
     },
     "execution_count": 2030,
     "metadata": {},
     "output_type": "execute_result"
    }
   ],
   "source": [
    "X.shape"
   ]
  },
  {
   "cell_type": "code",
   "execution_count": 2031,
   "metadata": {},
   "outputs": [
    {
     "data": {
      "text/plain": [
       "'est_29.0_avg'"
      ]
     },
     "execution_count": 2031,
     "metadata": {},
     "output_type": "execute_result"
    }
   ],
   "source": [
    "X.columns[-1]"
   ]
  },
  {
   "cell_type": "code",
   "execution_count": 2032,
   "metadata": {},
   "outputs": [
    {
     "data": {
      "text/plain": [
       "array([0, 4, 2, 2, 0, 0, 4, 0, 1, 1, 1, 0, 0, 0, 0, 0, 2, 2, 2, 2, 2, 0,\n",
       "       2, 2, 4, 2, 0, 2, 2, 1, 0, 1, 4, 0, 2, 0, 2, 4, 2, 0, 0, 0, 0, 4,\n",
       "       4, 0, 1, 1, 1, 1, 0, 0, 4, 0, 2, 2, 0, 0, 0, 2, 2, 3, 0, 0, 0, 2,\n",
       "       0, 2, 0, 0, 2, 2, 3, 0, 0, 0, 1, 1, 1, 1, 4, 0, 0, 0, 0, 0, 0, 2,\n",
       "       2, 2, 0, 4, 4, 0, 2, 0, 2, 0, 2, 2, 3, 2, 0, 2, 3, 2, 0, 0, 0, 0,\n",
       "       0, 1, 0, 4, 0, 2, 0, 0], dtype=int32)"
      ]
     },
     "execution_count": 2032,
     "metadata": {},
     "output_type": "execute_result"
    }
   ],
   "source": [
    "km.labels_"
   ]
  },
  {
   "cell_type": "code",
   "execution_count": 2033,
   "metadata": {},
   "outputs": [],
   "source": [
    "#Assign county clusters to the db\n",
    "df['lq_cluster']=km.labels_\n",
    "df_lq['lq_cluster']=km.labels_"
   ]
  },
  {
   "cell_type": "code",
   "execution_count": 2034,
   "metadata": {},
   "outputs": [],
   "source": [
    "cl_exp=df[['geoid','lq_cluster','area_fips','year','county','emp_chg']]"
   ]
  },
  {
   "cell_type": "code",
   "execution_count": 2035,
   "metadata": {},
   "outputs": [
    {
     "data": {
      "text/html": [
       "<div>\n",
       "<style scoped>\n",
       "    .dataframe tbody tr th:only-of-type {\n",
       "        vertical-align: middle;\n",
       "    }\n",
       "\n",
       "    .dataframe tbody tr th {\n",
       "        vertical-align: top;\n",
       "    }\n",
       "\n",
       "    .dataframe thead th {\n",
       "        text-align: right;\n",
       "    }\n",
       "</style>\n",
       "<table border=\"1\" class=\"dataframe\">\n",
       "  <thead>\n",
       "    <tr style=\"text-align: right;\">\n",
       "      <th></th>\n",
       "      <th>geoid</th>\n",
       "      <th>lq_cluster</th>\n",
       "      <th>area_fips</th>\n",
       "      <th>year</th>\n",
       "      <th>county</th>\n",
       "      <th>emp_chg</th>\n",
       "    </tr>\n",
       "  </thead>\n",
       "  <tbody>\n",
       "    <tr>\n",
       "      <th>8</th>\n",
       "      <td>Frances</td>\n",
       "      <td>1</td>\n",
       "      <td>72113</td>\n",
       "      <td>2004</td>\n",
       "      <td>Ponce</td>\n",
       "      <td>0.070335</td>\n",
       "    </tr>\n",
       "    <tr>\n",
       "      <th>9</th>\n",
       "      <td>Frances</td>\n",
       "      <td>1</td>\n",
       "      <td>72057</td>\n",
       "      <td>2004</td>\n",
       "      <td>Guayama</td>\n",
       "      <td>0.095100</td>\n",
       "    </tr>\n",
       "    <tr>\n",
       "      <th>11</th>\n",
       "      <td>Frances</td>\n",
       "      <td>1</td>\n",
       "      <td>72025</td>\n",
       "      <td>2004</td>\n",
       "      <td>Caguas</td>\n",
       "      <td>0.095684</td>\n",
       "    </tr>\n",
       "    <tr>\n",
       "      <th>30</th>\n",
       "      <td>Irene</td>\n",
       "      <td>1</td>\n",
       "      <td>72151</td>\n",
       "      <td>2011</td>\n",
       "      <td>Yabucao</td>\n",
       "      <td>0.016069</td>\n",
       "    </tr>\n",
       "    <tr>\n",
       "      <th>32</th>\n",
       "      <td>Irene</td>\n",
       "      <td>1</td>\n",
       "      <td>72063</td>\n",
       "      <td>2011</td>\n",
       "      <td>Gurabo</td>\n",
       "      <td>0.058637</td>\n",
       "    </tr>\n",
       "    <tr>\n",
       "      <th>47</th>\n",
       "      <td>Irma</td>\n",
       "      <td>1</td>\n",
       "      <td>72113</td>\n",
       "      <td>2017</td>\n",
       "      <td>Ponce</td>\n",
       "      <td>0.022784</td>\n",
       "    </tr>\n",
       "    <tr>\n",
       "      <th>48</th>\n",
       "      <td>Irma</td>\n",
       "      <td>1</td>\n",
       "      <td>72025</td>\n",
       "      <td>2017</td>\n",
       "      <td>Caguas</td>\n",
       "      <td>-0.003478</td>\n",
       "    </tr>\n",
       "    <tr>\n",
       "      <th>49</th>\n",
       "      <td>Irma</td>\n",
       "      <td>1</td>\n",
       "      <td>72021</td>\n",
       "      <td>2017</td>\n",
       "      <td>Bayamon</td>\n",
       "      <td>-0.010113</td>\n",
       "    </tr>\n",
       "    <tr>\n",
       "      <th>50</th>\n",
       "      <td>Irma</td>\n",
       "      <td>1</td>\n",
       "      <td>72013</td>\n",
       "      <td>2017</td>\n",
       "      <td>Arecibo</td>\n",
       "      <td>0.002989</td>\n",
       "    </tr>\n",
       "    <tr>\n",
       "      <th>77</th>\n",
       "      <td>Maria</td>\n",
       "      <td>1</td>\n",
       "      <td>72113</td>\n",
       "      <td>2017</td>\n",
       "      <td>Ponce</td>\n",
       "      <td>0.022784</td>\n",
       "    </tr>\n",
       "    <tr>\n",
       "      <th>78</th>\n",
       "      <td>Maria</td>\n",
       "      <td>1</td>\n",
       "      <td>72025</td>\n",
       "      <td>2017</td>\n",
       "      <td>Caguas</td>\n",
       "      <td>-0.003478</td>\n",
       "    </tr>\n",
       "    <tr>\n",
       "      <th>79</th>\n",
       "      <td>Maria</td>\n",
       "      <td>1</td>\n",
       "      <td>72021</td>\n",
       "      <td>2017</td>\n",
       "      <td>Bayamon</td>\n",
       "      <td>-0.010113</td>\n",
       "    </tr>\n",
       "    <tr>\n",
       "      <th>80</th>\n",
       "      <td>Maria</td>\n",
       "      <td>1</td>\n",
       "      <td>72013</td>\n",
       "      <td>2017</td>\n",
       "      <td>Arecibo</td>\n",
       "      <td>0.002989</td>\n",
       "    </tr>\n",
       "    <tr>\n",
       "      <th>112</th>\n",
       "      <td>Sandy</td>\n",
       "      <td>1</td>\n",
       "      <td>36005</td>\n",
       "      <td>2012</td>\n",
       "      <td>Bronx</td>\n",
       "      <td>0.027954</td>\n",
       "    </tr>\n",
       "  </tbody>\n",
       "</table>\n",
       "</div>"
      ],
      "text/plain": [
       "       geoid  lq_cluster  area_fips  year   county   emp_chg\n",
       "8    Frances           1      72113  2004    Ponce  0.070335\n",
       "9    Frances           1      72057  2004  Guayama  0.095100\n",
       "11   Frances           1      72025  2004   Caguas  0.095684\n",
       "30     Irene           1      72151  2011  Yabucao  0.016069\n",
       "32     Irene           1      72063  2011   Gurabo  0.058637\n",
       "47      Irma           1      72113  2017    Ponce  0.022784\n",
       "48      Irma           1      72025  2017   Caguas -0.003478\n",
       "49      Irma           1      72021  2017  Bayamon -0.010113\n",
       "50      Irma           1      72013  2017  Arecibo  0.002989\n",
       "77     Maria           1      72113  2017    Ponce  0.022784\n",
       "78     Maria           1      72025  2017   Caguas -0.003478\n",
       "79     Maria           1      72021  2017  Bayamon -0.010113\n",
       "80     Maria           1      72013  2017  Arecibo  0.002989\n",
       "112    Sandy           1      36005  2012    Bronx  0.027954"
      ]
     },
     "execution_count": 2035,
     "metadata": {},
     "output_type": "execute_result"
    }
   ],
   "source": [
    "#Cluster 1, mostly Puerto Rico \n",
    "cl_exp[cl_exp['lq_cluster']==1]"
   ]
  },
  {
   "cell_type": "code",
   "execution_count": 2036,
   "metadata": {},
   "outputs": [
    {
     "data": {
      "text/html": [
       "<div>\n",
       "<style scoped>\n",
       "    .dataframe tbody tr th:only-of-type {\n",
       "        vertical-align: middle;\n",
       "    }\n",
       "\n",
       "    .dataframe tbody tr th {\n",
       "        vertical-align: top;\n",
       "    }\n",
       "\n",
       "    .dataframe thead th {\n",
       "        text-align: right;\n",
       "    }\n",
       "</style>\n",
       "<table border=\"1\" class=\"dataframe\">\n",
       "  <thead>\n",
       "    <tr style=\"text-align: right;\">\n",
       "      <th></th>\n",
       "      <th>geoid</th>\n",
       "      <th>lq_cluster</th>\n",
       "      <th>area_fips</th>\n",
       "      <th>year</th>\n",
       "      <th>county</th>\n",
       "      <th>emp_chg</th>\n",
       "    </tr>\n",
       "  </thead>\n",
       "  <tbody>\n",
       "    <tr>\n",
       "      <th>8</th>\n",
       "      <td>Frances</td>\n",
       "      <td>1</td>\n",
       "      <td>72113</td>\n",
       "      <td>2004</td>\n",
       "      <td>Ponce</td>\n",
       "      <td>0.070335</td>\n",
       "    </tr>\n",
       "    <tr>\n",
       "      <th>9</th>\n",
       "      <td>Frances</td>\n",
       "      <td>1</td>\n",
       "      <td>72057</td>\n",
       "      <td>2004</td>\n",
       "      <td>Guayama</td>\n",
       "      <td>0.095100</td>\n",
       "    </tr>\n",
       "    <tr>\n",
       "      <th>11</th>\n",
       "      <td>Frances</td>\n",
       "      <td>1</td>\n",
       "      <td>72025</td>\n",
       "      <td>2004</td>\n",
       "      <td>Caguas</td>\n",
       "      <td>0.095684</td>\n",
       "    </tr>\n",
       "    <tr>\n",
       "      <th>30</th>\n",
       "      <td>Irene</td>\n",
       "      <td>1</td>\n",
       "      <td>72151</td>\n",
       "      <td>2011</td>\n",
       "      <td>Yabucao</td>\n",
       "      <td>0.016069</td>\n",
       "    </tr>\n",
       "    <tr>\n",
       "      <th>32</th>\n",
       "      <td>Irene</td>\n",
       "      <td>1</td>\n",
       "      <td>72063</td>\n",
       "      <td>2011</td>\n",
       "      <td>Gurabo</td>\n",
       "      <td>0.058637</td>\n",
       "    </tr>\n",
       "    <tr>\n",
       "      <th>47</th>\n",
       "      <td>Irma</td>\n",
       "      <td>1</td>\n",
       "      <td>72113</td>\n",
       "      <td>2017</td>\n",
       "      <td>Ponce</td>\n",
       "      <td>0.022784</td>\n",
       "    </tr>\n",
       "    <tr>\n",
       "      <th>48</th>\n",
       "      <td>Irma</td>\n",
       "      <td>1</td>\n",
       "      <td>72025</td>\n",
       "      <td>2017</td>\n",
       "      <td>Caguas</td>\n",
       "      <td>-0.003478</td>\n",
       "    </tr>\n",
       "    <tr>\n",
       "      <th>49</th>\n",
       "      <td>Irma</td>\n",
       "      <td>1</td>\n",
       "      <td>72021</td>\n",
       "      <td>2017</td>\n",
       "      <td>Bayamon</td>\n",
       "      <td>-0.010113</td>\n",
       "    </tr>\n",
       "    <tr>\n",
       "      <th>50</th>\n",
       "      <td>Irma</td>\n",
       "      <td>1</td>\n",
       "      <td>72013</td>\n",
       "      <td>2017</td>\n",
       "      <td>Arecibo</td>\n",
       "      <td>0.002989</td>\n",
       "    </tr>\n",
       "    <tr>\n",
       "      <th>77</th>\n",
       "      <td>Maria</td>\n",
       "      <td>1</td>\n",
       "      <td>72113</td>\n",
       "      <td>2017</td>\n",
       "      <td>Ponce</td>\n",
       "      <td>0.022784</td>\n",
       "    </tr>\n",
       "    <tr>\n",
       "      <th>78</th>\n",
       "      <td>Maria</td>\n",
       "      <td>1</td>\n",
       "      <td>72025</td>\n",
       "      <td>2017</td>\n",
       "      <td>Caguas</td>\n",
       "      <td>-0.003478</td>\n",
       "    </tr>\n",
       "    <tr>\n",
       "      <th>79</th>\n",
       "      <td>Maria</td>\n",
       "      <td>1</td>\n",
       "      <td>72021</td>\n",
       "      <td>2017</td>\n",
       "      <td>Bayamon</td>\n",
       "      <td>-0.010113</td>\n",
       "    </tr>\n",
       "    <tr>\n",
       "      <th>80</th>\n",
       "      <td>Maria</td>\n",
       "      <td>1</td>\n",
       "      <td>72013</td>\n",
       "      <td>2017</td>\n",
       "      <td>Arecibo</td>\n",
       "      <td>0.002989</td>\n",
       "    </tr>\n",
       "    <tr>\n",
       "      <th>112</th>\n",
       "      <td>Sandy</td>\n",
       "      <td>1</td>\n",
       "      <td>36005</td>\n",
       "      <td>2012</td>\n",
       "      <td>Bronx</td>\n",
       "      <td>0.027954</td>\n",
       "    </tr>\n",
       "  </tbody>\n",
       "</table>\n",
       "</div>"
      ],
      "text/plain": [
       "       geoid  lq_cluster  area_fips  year   county   emp_chg\n",
       "8    Frances           1      72113  2004    Ponce  0.070335\n",
       "9    Frances           1      72057  2004  Guayama  0.095100\n",
       "11   Frances           1      72025  2004   Caguas  0.095684\n",
       "30     Irene           1      72151  2011  Yabucao  0.016069\n",
       "32     Irene           1      72063  2011   Gurabo  0.058637\n",
       "47      Irma           1      72113  2017    Ponce  0.022784\n",
       "48      Irma           1      72025  2017   Caguas -0.003478\n",
       "49      Irma           1      72021  2017  Bayamon -0.010113\n",
       "50      Irma           1      72013  2017  Arecibo  0.002989\n",
       "77     Maria           1      72113  2017    Ponce  0.022784\n",
       "78     Maria           1      72025  2017   Caguas -0.003478\n",
       "79     Maria           1      72021  2017  Bayamon -0.010113\n",
       "80     Maria           1      72013  2017  Arecibo  0.002989\n",
       "112    Sandy           1      36005  2012    Bronx  0.027954"
      ]
     },
     "execution_count": 2036,
     "metadata": {},
     "output_type": "execute_result"
    }
   ],
   "source": [
    "#Cluster 3\n",
    "cl_exp[cl_exp['lq_cluster']==1]"
   ]
  },
  {
   "cell_type": "code",
   "execution_count": 2037,
   "metadata": {},
   "outputs": [
    {
     "data": {
      "image/png": "[encoded data removed]",
      "text/plain": [
       "<Figure size 432x288 with 1 Axes>"
      ]
     },
     "metadata": {
      "needs_background": "light"
     },
     "output_type": "display_data"
    }
   ],
   "source": [
    "#Histogram of clusters\n",
    "plt.hist(df_lq['lq_cluster']);\n",
    "plt.xticks([0,1,2,3,4]);\n",
    "plt.ylabel('Counties in Cluster')\n",
    "plt.xlabel('Economic Cluster')\n",
    "plt.title ('Distribution of Economic Clusters');"
   ]
  },
  {
   "cell_type": "code",
   "execution_count": 2038,
   "metadata": {},
   "outputs": [
    {
     "data": {
      "text/plain": [
       "'lq_avg_wkly_wage_11_agriculture_forestry_fishing_and_hunting.1'"
      ]
     },
     "execution_count": 2038,
     "metadata": {},
     "output_type": "execute_result"
    }
   ],
   "source": [
    "df_lq.columns[90]"
   ]
  },
  {
   "cell_type": "code",
   "execution_count": 2039,
   "metadata": {},
   "outputs": [
    {
     "data": {
      "text/plain": [
       "'lq_qtrly_estabs_11_agriculture_forestry_fishing_and_hunting.1'"
      ]
     },
     "execution_count": 2039,
     "metadata": {},
     "output_type": "execute_result"
    }
   ],
   "source": [
    "df_lq.columns[91]"
   ]
  },
  {
   "cell_type": "code",
   "execution_count": 2040,
   "metadata": {},
   "outputs": [],
   "source": [
    "#Dummify clusters\n",
    "dummy_cluster=pd.get_dummies(df['lq_cluster'],drop_first=True)\n",
    "dummy_cluster.columns=['cl_1','cl_2','cl_3','cl_4']"
   ]
  },
  {
   "cell_type": "code",
   "execution_count": 2041,
   "metadata": {},
   "outputs": [],
   "source": [
    "feats=['category','est_av','wage_av','emp_av']"
   ]
  },
  {
   "cell_type": "code",
   "execution_count": 2042,
   "metadata": {},
   "outputs": [],
   "source": [
    "#Create polynomial features for predicting damage by county\n",
    "X=df[feats]\n",
    "X=pd.concat([X,dummy_cluster],axis=1)\n",
    "y=df['damage_by_county']\n",
    "pf=PolynomialFeatures(degree=2,interaction_only=False)\n",
    "Xpf=pf.fit_transform(X)\n",
    "Xpf_train,Xpf_test,y_train,y_test=train_test_split(Xpf,y,test_size=.2,random_state=1024)"
   ]
  },
  {
   "cell_type": "code",
   "execution_count": 2043,
   "metadata": {},
   "outputs": [
    {
     "data": {
      "text/plain": [
       "0      2.133333\n",
       "1      2.133333\n",
       "2      2.133333\n",
       "3      2.133333\n",
       "4      2.133333\n",
       "         ...   \n",
       "114    2.533333\n",
       "115    2.533333\n",
       "116    2.533333\n",
       "118    2.533333\n",
       "119    2.533333\n",
       "Name: damage_by_county, Length: 118, dtype: float64"
      ]
     },
     "execution_count": 2043,
     "metadata": {},
     "output_type": "execute_result"
    }
   ],
   "source": [
    "y"
   ]
  },
  {
   "cell_type": "code",
   "execution_count": 2044,
   "metadata": {},
   "outputs": [
    {
     "data": {
      "text/plain": [
       "LinearRegression(copy_X=True, fit_intercept=True, n_jobs=None, normalize=False)"
      ]
     },
     "execution_count": 2044,
     "metadata": {},
     "output_type": "execute_result"
    }
   ],
   "source": [
    "lrs=LinearRegression()\n",
    "lrs.fit(Xpf_train,y_train)"
   ]
  },
  {
   "cell_type": "code",
   "execution_count": 2045,
   "metadata": {},
   "outputs": [
    {
     "data": {
      "text/plain": [
       "(0.21019070762457237, -1.3811292732658162)"
      ]
     },
     "execution_count": 2045,
     "metadata": {},
     "output_type": "execute_result"
    }
   ],
   "source": [
    "#Still gross\n",
    "lrs.score(Xpf_train,y_train),lrs.score(Xpf_test,y_test)"
   ]
  },
  {
   "cell_type": "code",
   "execution_count": 2046,
   "metadata": {},
   "outputs": [
    {
     "data": {
      "text/plain": [
       "1                   5.058449e+02\n",
       "category            4.104234e+00\n",
       "est_av             -4.328815e-04\n",
       "wage_av             1.518061e-02\n",
       "emp_av              1.832628e-05\n",
       "cl_1               -1.295293e+00\n",
       "cl_2               -7.645713e-01\n",
       "cl_3               -1.376078e-03\n",
       "cl_4                1.500598e+00\n",
       "category^2         -6.191462e-01\n",
       "category est_av    -1.584824e-04\n",
       "category wage_av    3.216468e-03\n",
       "category emp_av     7.185825e-06\n",
       "category cl_1       1.864674e+00\n",
       "category cl_2      -1.007432e+00\n",
       "category cl_3      -4.424681e-03\n",
       "category cl_4      -1.009822e+00\n",
       "est_av^2            8.393112e-09\n",
       "est_av wage_av      6.901212e-07\n",
       "est_av emp_av      -8.649382e-10\n",
       "est_av cl_1        -9.263516e-05\n",
       "est_av cl_2        -2.098318e-03\n",
       "est_av cl_3         3.710956e-01\n",
       "est_av cl_4         7.850016e-04\n",
       "wage_av^2          -6.997885e-06\n",
       "wage_av emp_av     -4.444172e-08\n",
       "wage_av cl_1       -5.465844e-03\n",
       "wage_av cl_2       -3.619236e-03\n",
       "wage_av cl_3       -5.349736e-02\n",
       "wage_av cl_4       -1.881706e-03\n",
       "emp_av^2            2.918501e-11\n",
       "emp_av cl_1         4.488729e-05\n",
       "emp_av cl_2         1.806983e-04\n",
       "emp_av cl_3        -2.149340e-02\n",
       "emp_av cl_4        -9.290095e-05\n",
       "cl_1^2             -1.295330e+00\n",
       "cl_1 cl_2           0.000000e+00\n",
       "cl_1 cl_3           0.000000e+00\n",
       "cl_1 cl_4           0.000000e+00\n",
       "cl_2^2             -7.646866e-01\n",
       "cl_2 cl_3           0.000000e+00\n",
       "cl_2 cl_4           0.000000e+00\n",
       "cl_3^2             -1.452888e-03\n",
       "cl_3 cl_4           0.000000e+00\n",
       "cl_4^2              1.500447e+00\n",
       "dtype: float64"
      ]
     },
     "execution_count": 2046,
     "metadata": {},
     "output_type": "execute_result"
    }
   ],
   "source": [
    "#Coefficients of model\n",
    "coefdf=pd.Series(index=pf.get_feature_names(X.columns),data=lrs.coef_)\n",
    "coefdf"
   ]
  },
  {
   "cell_type": "code",
   "execution_count": 2047,
   "metadata": {},
   "outputs": [],
   "source": [
    "Xpfs_train=ss.fit_transform(Xpf_train)\n",
    "Xpfs_test=ss.fit_transform(Xpf_test)"
   ]
  },
  {
   "cell_type": "code",
   "execution_count": 2048,
   "metadata": {},
   "outputs": [
    {
     "name": "stderr",
     "output_type": "stream",
     "text": [
      "/Users/andrewdavis/opt/anaconda3/lib/python3.7/site-packages/sklearn/linear_model/_coordinate_descent.py:472: ConvergenceWarning: Objective did not converge. You might want to increase the number of iterations. Duality gap: 0.25740831483471993, tolerance: 0.19308722235278022\n",
      "  tol, rng, random, positive)\n",
      "/Users/andrewdavis/opt/anaconda3/lib/python3.7/site-packages/sklearn/linear_model/_coordinate_descent.py:472: ConvergenceWarning: Objective did not converge. You might want to increase the number of iterations. Duality gap: 0.38376150971089373, tolerance: 0.19308722235278022\n",
      "  tol, rng, random, positive)\n",
      "/Users/andrewdavis/opt/anaconda3/lib/python3.7/site-packages/sklearn/linear_model/_coordinate_descent.py:472: ConvergenceWarning: Objective did not converge. You might want to increase the number of iterations. Duality gap: 0.5810808120256752, tolerance: 0.19308722235278022\n",
      "  tol, rng, random, positive)\n",
      "/Users/andrewdavis/opt/anaconda3/lib/python3.7/site-packages/sklearn/linear_model/_coordinate_descent.py:472: ConvergenceWarning: Objective did not converge. You might want to increase the number of iterations. Duality gap: 0.9048441704235302, tolerance: 0.19308722235278022\n",
      "  tol, rng, random, positive)\n",
      "/Users/andrewdavis/opt/anaconda3/lib/python3.7/site-packages/sklearn/linear_model/_coordinate_descent.py:472: ConvergenceWarning: Objective did not converge. You might want to increase the number of iterations. Duality gap: 2.028636187771326, tolerance: 0.19308722235278022\n",
      "  tol, rng, random, positive)\n",
      "/Users/andrewdavis/opt/anaconda3/lib/python3.7/site-packages/sklearn/linear_model/_coordinate_descent.py:472: ConvergenceWarning: Objective did not converge. You might want to increase the number of iterations. Duality gap: 2.4406462117453884, tolerance: 0.19308722235278022\n",
      "  tol, rng, random, positive)\n",
      "/Users/andrewdavis/opt/anaconda3/lib/python3.7/site-packages/sklearn/linear_model/_coordinate_descent.py:472: ConvergenceWarning: Objective did not converge. You might want to increase the number of iterations. Duality gap: 3.4228971731276943, tolerance: 0.19308722235278022\n",
      "  tol, rng, random, positive)\n",
      "/Users/andrewdavis/opt/anaconda3/lib/python3.7/site-packages/sklearn/linear_model/_coordinate_descent.py:472: ConvergenceWarning: Objective did not converge. You might want to increase the number of iterations. Duality gap: 1.572969006477706, tolerance: 0.19308722235278022\n",
      "  tol, rng, random, positive)\n",
      "/Users/andrewdavis/opt/anaconda3/lib/python3.7/site-packages/sklearn/linear_model/_coordinate_descent.py:472: ConvergenceWarning: Objective did not converge. You might want to increase the number of iterations. Duality gap: 8.965147804580738, tolerance: 0.19308722235278022\n",
      "  tol, rng, random, positive)\n",
      "/Users/andrewdavis/opt/anaconda3/lib/python3.7/site-packages/sklearn/linear_model/_coordinate_descent.py:472: ConvergenceWarning: Objective did not converge. You might want to increase the number of iterations. Duality gap: 32.11197247452344, tolerance: 0.19308722235278022\n",
      "  tol, rng, random, positive)\n",
      "/Users/andrewdavis/opt/anaconda3/lib/python3.7/site-packages/sklearn/linear_model/_coordinate_descent.py:472: ConvergenceWarning: Objective did not converge. You might want to increase the number of iterations. Duality gap: 49.039413197901695, tolerance: 0.19308722235278022\n",
      "  tol, rng, random, positive)\n",
      "/Users/andrewdavis/opt/anaconda3/lib/python3.7/site-packages/sklearn/linear_model/_coordinate_descent.py:472: ConvergenceWarning: Objective did not converge. You might want to increase the number of iterations. Duality gap: 46.45824623088674, tolerance: 0.19308722235278022\n",
      "  tol, rng, random, positive)\n",
      "/Users/andrewdavis/opt/anaconda3/lib/python3.7/site-packages/sklearn/linear_model/_coordinate_descent.py:472: ConvergenceWarning: Objective did not converge. You might want to increase the number of iterations. Duality gap: 44.794867448960076, tolerance: 0.19308722235278022\n",
      "  tol, rng, random, positive)\n",
      "/Users/andrewdavis/opt/anaconda3/lib/python3.7/site-packages/sklearn/linear_model/_coordinate_descent.py:472: ConvergenceWarning: Objective did not converge. You might want to increase the number of iterations. Duality gap: 47.39015469667652, tolerance: 0.19308722235278022\n",
      "  tol, rng, random, positive)\n",
      "/Users/andrewdavis/opt/anaconda3/lib/python3.7/site-packages/sklearn/linear_model/_coordinate_descent.py:472: ConvergenceWarning: Objective did not converge. You might want to increase the number of iterations. Duality gap: 46.298530427768014, tolerance: 0.19308722235278022\n",
      "  tol, rng, random, positive)\n",
      "/Users/andrewdavis/opt/anaconda3/lib/python3.7/site-packages/sklearn/linear_model/_coordinate_descent.py:472: ConvergenceWarning: Objective did not converge. You might want to increase the number of iterations. Duality gap: 51.70700990991838, tolerance: 0.19308722235278022\n",
      "  tol, rng, random, positive)\n",
      "/Users/andrewdavis/opt/anaconda3/lib/python3.7/site-packages/sklearn/linear_model/_coordinate_descent.py:472: ConvergenceWarning: Objective did not converge. You might want to increase the number of iterations. Duality gap: 65.11429336685421, tolerance: 0.19308722235278022\n",
      "  tol, rng, random, positive)\n",
      "/Users/andrewdavis/opt/anaconda3/lib/python3.7/site-packages/sklearn/linear_model/_coordinate_descent.py:472: ConvergenceWarning: Objective did not converge. You might want to increase the number of iterations. Duality gap: 1.0157601917890133, tolerance: 0.20005983428890534\n",
      "  tol, rng, random, positive)\n",
      "/Users/andrewdavis/opt/anaconda3/lib/python3.7/site-packages/sklearn/linear_model/_coordinate_descent.py:472: ConvergenceWarning: Objective did not converge. You might want to increase the number of iterations. Duality gap: 1.1476900551442668, tolerance: 0.20005983428890534\n",
      "  tol, rng, random, positive)\n",
      "/Users/andrewdavis/opt/anaconda3/lib/python3.7/site-packages/sklearn/linear_model/_coordinate_descent.py:472: ConvergenceWarning: Objective did not converge. You might want to increase the number of iterations. Duality gap: 23.12677054742244, tolerance: 0.20005983428890534\n",
      "  tol, rng, random, positive)\n",
      "/Users/andrewdavis/opt/anaconda3/lib/python3.7/site-packages/sklearn/linear_model/_coordinate_descent.py:472: ConvergenceWarning: Objective did not converge. You might want to increase the number of iterations. Duality gap: 37.98070408590161, tolerance: 0.20005983428890534\n",
      "  tol, rng, random, positive)\n",
      "/Users/andrewdavis/opt/anaconda3/lib/python3.7/site-packages/sklearn/linear_model/_coordinate_descent.py:472: ConvergenceWarning: Objective did not converge. You might want to increase the number of iterations. Duality gap: 73.88641555831896, tolerance: 0.20005983428890534\n",
      "  tol, rng, random, positive)\n",
      "/Users/andrewdavis/opt/anaconda3/lib/python3.7/site-packages/sklearn/linear_model/_coordinate_descent.py:472: ConvergenceWarning: Objective did not converge. You might want to increase the number of iterations. Duality gap: 95.01125639224608, tolerance: 0.20005983428890534\n",
      "  tol, rng, random, positive)\n",
      "/Users/andrewdavis/opt/anaconda3/lib/python3.7/site-packages/sklearn/linear_model/_coordinate_descent.py:472: ConvergenceWarning: Objective did not converge. You might want to increase the number of iterations. Duality gap: 111.3041355714455, tolerance: 0.20005983428890534\n",
      "  tol, rng, random, positive)\n",
      "/Users/andrewdavis/opt/anaconda3/lib/python3.7/site-packages/sklearn/linear_model/_coordinate_descent.py:472: ConvergenceWarning: Objective did not converge. You might want to increase the number of iterations. Duality gap: 123.2369287360716, tolerance: 0.20005983428890534\n",
      "  tol, rng, random, positive)\n",
      "/Users/andrewdavis/opt/anaconda3/lib/python3.7/site-packages/sklearn/linear_model/_coordinate_descent.py:472: ConvergenceWarning: Objective did not converge. You might want to increase the number of iterations. Duality gap: 131.8959233319573, tolerance: 0.20005983428890534\n",
      "  tol, rng, random, positive)\n",
      "/Users/andrewdavis/opt/anaconda3/lib/python3.7/site-packages/sklearn/linear_model/_coordinate_descent.py:472: ConvergenceWarning: Objective did not converge. You might want to increase the number of iterations. Duality gap: 138.17198098119002, tolerance: 0.20005983428890534\n",
      "  tol, rng, random, positive)\n",
      "/Users/andrewdavis/opt/anaconda3/lib/python3.7/site-packages/sklearn/linear_model/_coordinate_descent.py:472: ConvergenceWarning: Objective did not converge. You might want to increase the number of iterations. Duality gap: 142.7460799474013, tolerance: 0.20005983428890534\n",
      "  tol, rng, random, positive)\n",
      "/Users/andrewdavis/opt/anaconda3/lib/python3.7/site-packages/sklearn/linear_model/_coordinate_descent.py:472: ConvergenceWarning: Objective did not converge. You might want to increase the number of iterations. Duality gap: 145.69799777042863, tolerance: 0.20005983428890534\n",
      "  tol, rng, random, positive)\n",
      "/Users/andrewdavis/opt/anaconda3/lib/python3.7/site-packages/sklearn/linear_model/_coordinate_descent.py:472: ConvergenceWarning: Objective did not converge. You might want to increase the number of iterations. Duality gap: 147.5583434668273, tolerance: 0.20005983428890534\n",
      "  tol, rng, random, positive)\n",
      "/Users/andrewdavis/opt/anaconda3/lib/python3.7/site-packages/sklearn/linear_model/_coordinate_descent.py:472: ConvergenceWarning: Objective did not converge. You might want to increase the number of iterations. Duality gap: 2.4919182610065036, tolerance: 0.18649033519918498\n",
      "  tol, rng, random, positive)\n",
      "/Users/andrewdavis/opt/anaconda3/lib/python3.7/site-packages/sklearn/linear_model/_coordinate_descent.py:472: ConvergenceWarning: Objective did not converge. You might want to increase the number of iterations. Duality gap: 6.222066516164887, tolerance: 0.18649033519918498\n",
      "  tol, rng, random, positive)\n",
      "/Users/andrewdavis/opt/anaconda3/lib/python3.7/site-packages/sklearn/linear_model/_coordinate_descent.py:472: ConvergenceWarning: Objective did not converge. You might want to increase the number of iterations. Duality gap: 40.66741197810484, tolerance: 0.18649033519918498\n",
      "  tol, rng, random, positive)\n",
      "/Users/andrewdavis/opt/anaconda3/lib/python3.7/site-packages/sklearn/linear_model/_coordinate_descent.py:472: ConvergenceWarning: Objective did not converge. You might want to increase the number of iterations. Duality gap: 68.52667934045678, tolerance: 0.18649033519918498\n",
      "  tol, rng, random, positive)\n",
      "/Users/andrewdavis/opt/anaconda3/lib/python3.7/site-packages/sklearn/linear_model/_coordinate_descent.py:472: ConvergenceWarning: Objective did not converge. You might want to increase the number of iterations. Duality gap: 82.83646606529567, tolerance: 0.18649033519918498\n",
      "  tol, rng, random, positive)\n",
      "/Users/andrewdavis/opt/anaconda3/lib/python3.7/site-packages/sklearn/linear_model/_coordinate_descent.py:472: ConvergenceWarning: Objective did not converge. You might want to increase the number of iterations. Duality gap: 92.12900094624649, tolerance: 0.18649033519918498\n",
      "  tol, rng, random, positive)\n",
      "/Users/andrewdavis/opt/anaconda3/lib/python3.7/site-packages/sklearn/linear_model/_coordinate_descent.py:472: ConvergenceWarning: Objective did not converge. You might want to increase the number of iterations. Duality gap: 97.57449595235562, tolerance: 0.18649033519918498\n",
      "  tol, rng, random, positive)\n",
      "/Users/andrewdavis/opt/anaconda3/lib/python3.7/site-packages/sklearn/linear_model/_coordinate_descent.py:472: ConvergenceWarning: Objective did not converge. You might want to increase the number of iterations. Duality gap: 100.33635055909679, tolerance: 0.18649033519918498\n",
      "  tol, rng, random, positive)\n",
      "/Users/andrewdavis/opt/anaconda3/lib/python3.7/site-packages/sklearn/linear_model/_coordinate_descent.py:472: ConvergenceWarning: Objective did not converge. You might want to increase the number of iterations. Duality gap: 101.63552334861004, tolerance: 0.18649033519918498\n",
      "  tol, rng, random, positive)\n",
      "/Users/andrewdavis/opt/anaconda3/lib/python3.7/site-packages/sklearn/linear_model/_coordinate_descent.py:472: ConvergenceWarning: Objective did not converge. You might want to increase the number of iterations. Duality gap: 101.96195514373562, tolerance: 0.18649033519918498\n",
      "  tol, rng, random, positive)\n",
      "/Users/andrewdavis/opt/anaconda3/lib/python3.7/site-packages/sklearn/linear_model/_coordinate_descent.py:472: ConvergenceWarning: Objective did not converge. You might want to increase the number of iterations. Duality gap: 101.10156590998054, tolerance: 0.18649033519918498\n",
      "  tol, rng, random, positive)\n",
      "/Users/andrewdavis/opt/anaconda3/lib/python3.7/site-packages/sklearn/linear_model/_coordinate_descent.py:472: ConvergenceWarning: Objective did not converge. You might want to increase the number of iterations. Duality gap: 99.97041804207663, tolerance: 0.18649033519918498\n",
      "  tol, rng, random, positive)\n",
      "/Users/andrewdavis/opt/anaconda3/lib/python3.7/site-packages/sklearn/linear_model/_coordinate_descent.py:472: ConvergenceWarning: Objective did not converge. You might want to increase the number of iterations. Duality gap: 98.6850303542069, tolerance: 0.18649033519918498\n",
      "  tol, rng, random, positive)\n",
      "/Users/andrewdavis/opt/anaconda3/lib/python3.7/site-packages/sklearn/linear_model/_coordinate_descent.py:472: ConvergenceWarning: Objective did not converge. You might want to increase the number of iterations. Duality gap: 97.52337214144472, tolerance: 0.18649033519918498\n",
      "  tol, rng, random, positive)\n",
      "/Users/andrewdavis/opt/anaconda3/lib/python3.7/site-packages/sklearn/linear_model/_coordinate_descent.py:472: ConvergenceWarning: Objective did not converge. You might want to increase the number of iterations. Duality gap: 6.032367833048966, tolerance: 0.17674199848818048\n",
      "  tol, rng, random, positive)\n",
      "/Users/andrewdavis/opt/anaconda3/lib/python3.7/site-packages/sklearn/linear_model/_coordinate_descent.py:472: ConvergenceWarning: Objective did not converge. You might want to increase the number of iterations. Duality gap: 19.03291848965614, tolerance: 0.17674199848818048\n",
      "  tol, rng, random, positive)\n",
      "/Users/andrewdavis/opt/anaconda3/lib/python3.7/site-packages/sklearn/linear_model/_coordinate_descent.py:472: ConvergenceWarning: Objective did not converge. You might want to increase the number of iterations. Duality gap: 31.89726194835771, tolerance: 0.17674199848818048\n",
      "  tol, rng, random, positive)\n",
      "/Users/andrewdavis/opt/anaconda3/lib/python3.7/site-packages/sklearn/linear_model/_coordinate_descent.py:472: ConvergenceWarning: Objective did not converge. You might want to increase the number of iterations. Duality gap: 47.6991818239336, tolerance: 0.17674199848818048\n",
      "  tol, rng, random, positive)\n",
      "/Users/andrewdavis/opt/anaconda3/lib/python3.7/site-packages/sklearn/linear_model/_coordinate_descent.py:472: ConvergenceWarning: Objective did not converge. You might want to increase the number of iterations. Duality gap: 62.55542108424868, tolerance: 0.17674199848818048\n",
      "  tol, rng, random, positive)\n",
      "/Users/andrewdavis/opt/anaconda3/lib/python3.7/site-packages/sklearn/linear_model/_coordinate_descent.py:472: ConvergenceWarning: Objective did not converge. You might want to increase the number of iterations. Duality gap: 77.08494423815989, tolerance: 0.17674199848818048\n",
      "  tol, rng, random, positive)\n",
      "/Users/andrewdavis/opt/anaconda3/lib/python3.7/site-packages/sklearn/linear_model/_coordinate_descent.py:472: ConvergenceWarning: Objective did not converge. You might want to increase the number of iterations. Duality gap: 3.840094011899737, tolerance: 0.17674199848818048\n",
      "  tol, rng, random, positive)\n",
      "/Users/andrewdavis/opt/anaconda3/lib/python3.7/site-packages/sklearn/linear_model/_coordinate_descent.py:472: ConvergenceWarning: Objective did not converge. You might want to increase the number of iterations. Duality gap: 3.5923593465931845, tolerance: 0.17674199848818048\n",
      "  tol, rng, random, positive)\n",
      "/Users/andrewdavis/opt/anaconda3/lib/python3.7/site-packages/sklearn/linear_model/_coordinate_descent.py:472: ConvergenceWarning: Objective did not converge. You might want to increase the number of iterations. Duality gap: 3.1766399345870013, tolerance: 0.17674199848818048\n",
      "  tol, rng, random, positive)\n",
      "/Users/andrewdavis/opt/anaconda3/lib/python3.7/site-packages/sklearn/linear_model/_coordinate_descent.py:472: ConvergenceWarning: Objective did not converge. You might want to increase the number of iterations. Duality gap: 2.718636784903083, tolerance: 0.17674199848818048\n",
      "  tol, rng, random, positive)\n",
      "/Users/andrewdavis/opt/anaconda3/lib/python3.7/site-packages/sklearn/linear_model/_coordinate_descent.py:472: ConvergenceWarning: Objective did not converge. You might want to increase the number of iterations. Duality gap: 43.87463493898622, tolerance: 0.17674199848818048\n",
      "  tol, rng, random, positive)\n",
      "/Users/andrewdavis/opt/anaconda3/lib/python3.7/site-packages/sklearn/linear_model/_coordinate_descent.py:472: ConvergenceWarning: Objective did not converge. You might want to increase the number of iterations. Duality gap: 118.80745039891633, tolerance: 0.17674199848818048\n",
      "  tol, rng, random, positive)\n",
      "/Users/andrewdavis/opt/anaconda3/lib/python3.7/site-packages/sklearn/linear_model/_coordinate_descent.py:472: ConvergenceWarning: Objective did not converge. You might want to increase the number of iterations. Duality gap: 183.34828356585814, tolerance: 0.17674199848818048\n",
      "  tol, rng, random, positive)\n",
      "/Users/andrewdavis/opt/anaconda3/lib/python3.7/site-packages/sklearn/linear_model/_coordinate_descent.py:472: ConvergenceWarning: Objective did not converge. You might want to increase the number of iterations. Duality gap: 0.2842102065699237, tolerance: 0.19027854856941517\n",
      "  tol, rng, random, positive)\n",
      "/Users/andrewdavis/opt/anaconda3/lib/python3.7/site-packages/sklearn/linear_model/_coordinate_descent.py:472: ConvergenceWarning: Objective did not converge. You might want to increase the number of iterations. Duality gap: 0.19973148686926834, tolerance: 0.19027854856941517\n",
      "  tol, rng, random, positive)\n",
      "/Users/andrewdavis/opt/anaconda3/lib/python3.7/site-packages/sklearn/linear_model/_coordinate_descent.py:472: ConvergenceWarning: Objective did not converge. You might want to increase the number of iterations. Duality gap: 0.20989437061712124, tolerance: 0.19027854856941517\n",
      "  tol, rng, random, positive)\n",
      "/Users/andrewdavis/opt/anaconda3/lib/python3.7/site-packages/sklearn/linear_model/_coordinate_descent.py:472: ConvergenceWarning: Objective did not converge. You might want to increase the number of iterations. Duality gap: 0.6808368283832351, tolerance: 0.19027854856941517\n",
      "  tol, rng, random, positive)\n",
      "/Users/andrewdavis/opt/anaconda3/lib/python3.7/site-packages/sklearn/linear_model/_coordinate_descent.py:472: ConvergenceWarning: Objective did not converge. You might want to increase the number of iterations. Duality gap: 21.129050104258567, tolerance: 0.19027854856941517\n",
      "  tol, rng, random, positive)\n",
      "/Users/andrewdavis/opt/anaconda3/lib/python3.7/site-packages/sklearn/linear_model/_coordinate_descent.py:472: ConvergenceWarning: Objective did not converge. You might want to increase the number of iterations. Duality gap: 35.576353501342396, tolerance: 0.19027854856941517\n",
      "  tol, rng, random, positive)\n",
      "/Users/andrewdavis/opt/anaconda3/lib/python3.7/site-packages/sklearn/linear_model/_coordinate_descent.py:472: ConvergenceWarning: Objective did not converge. You might want to increase the number of iterations. Duality gap: 72.68255768392021, tolerance: 0.19027854856941517\n",
      "  tol, rng, random, positive)\n",
      "/Users/andrewdavis/opt/anaconda3/lib/python3.7/site-packages/sklearn/linear_model/_coordinate_descent.py:472: ConvergenceWarning: Objective did not converge. You might want to increase the number of iterations. Duality gap: 94.82746474333601, tolerance: 0.19027854856941517\n",
      "  tol, rng, random, positive)\n",
      "/Users/andrewdavis/opt/anaconda3/lib/python3.7/site-packages/sklearn/linear_model/_coordinate_descent.py:472: ConvergenceWarning: Objective did not converge. You might want to increase the number of iterations. Duality gap: 110.78331430641276, tolerance: 0.19027854856941517\n",
      "  tol, rng, random, positive)\n",
      "/Users/andrewdavis/opt/anaconda3/lib/python3.7/site-packages/sklearn/linear_model/_coordinate_descent.py:472: ConvergenceWarning: Objective did not converge. You might want to increase the number of iterations. Duality gap: 122.4757058262851, tolerance: 0.19027854856941517\n",
      "  tol, rng, random, positive)\n",
      "/Users/andrewdavis/opt/anaconda3/lib/python3.7/site-packages/sklearn/linear_model/_coordinate_descent.py:472: ConvergenceWarning: Objective did not converge. You might want to increase the number of iterations. Duality gap: 131.24091740654683, tolerance: 0.19027854856941517\n",
      "  tol, rng, random, positive)\n",
      "/Users/andrewdavis/opt/anaconda3/lib/python3.7/site-packages/sklearn/linear_model/_coordinate_descent.py:472: ConvergenceWarning: Objective did not converge. You might want to increase the number of iterations. Duality gap: 138.1836337717997, tolerance: 0.19027854856941517\n",
      "  tol, rng, random, positive)\n",
      "/Users/andrewdavis/opt/anaconda3/lib/python3.7/site-packages/sklearn/linear_model/_coordinate_descent.py:472: ConvergenceWarning: Objective did not converge. You might want to increase the number of iterations. Duality gap: 144.37775876886735, tolerance: 0.19027854856941517\n",
      "  tol, rng, random, positive)\n",
      "/Users/andrewdavis/opt/anaconda3/lib/python3.7/site-packages/sklearn/linear_model/_coordinate_descent.py:472: ConvergenceWarning: Objective did not converge. You might want to increase the number of iterations. Duality gap: 148.9714474905469, tolerance: 0.19027854856941517\n",
      "  tol, rng, random, positive)\n",
      "/Users/andrewdavis/opt/anaconda3/lib/python3.7/site-packages/sklearn/linear_model/_coordinate_descent.py:472: ConvergenceWarning: Objective did not converge. You might want to increase the number of iterations. Duality gap: 152.8495628495075, tolerance: 0.19027854856941517\n",
      "  tol, rng, random, positive)\n"
     ]
    },
    {
     "data": {
      "text/plain": [
       "LassoCV(alphas=array([1.00000000e-03, 1.23284674e-03, 1.51991108e-03, 1.87381742e-03,\n",
       "       2.31012970e-03, 2.84803587e-03, 3.51119173e-03, 4.32876128e-03,\n",
       "       5.33669923e-03, 6.57933225e-03, 8.11130831e-03, 1.00000000e-02,\n",
       "       1.23284674e-02, 1.51991108e-02, 1.87381742e-02, 2.31012970e-02,\n",
       "       2.84803587e-02, 3.51119173e-02, 4.32876128e-02, 5.33669923e-02,\n",
       "       6.57933225e-02, 8.11130831e-0...\n",
       "       1.00000000e+05, 1.23284674e+05, 1.51991108e+05, 1.87381742e+05,\n",
       "       2.31012970e+05, 2.84803587e+05, 3.51119173e+05, 4.32876128e+05,\n",
       "       5.33669923e+05, 6.57933225e+05, 8.11130831e+05, 1.00000000e+06]),\n",
       "        copy_X=True, cv=5, eps=0.001, fit_intercept=True, max_iter=1000,\n",
       "        n_alphas=100, n_jobs=None, normalize=False, positive=False,\n",
       "        precompute='auto', random_state=None, selection='cyclic', tol=0.0001,\n",
       "        verbose=False)"
      ]
     },
     "execution_count": 2048,
     "metadata": {},
     "output_type": "execute_result"
    }
   ],
   "source": [
    "lasso_alphas = np.logspace(-3, 6, 100)\n",
    "lasso_cluster = LassoCV(alphas = lasso_alphas, cv = 5)\n",
    "lasso_cluster.fit(Xpfs_train,y_train)"
   ]
  },
  {
   "cell_type": "code",
   "execution_count": 2049,
   "metadata": {},
   "outputs": [
    {
     "data": {
      "text/plain": [
       "((38,), (7,))"
      ]
     },
     "execution_count": 2049,
     "metadata": {},
     "output_type": "execute_result"
    }
   ],
   "source": [
    "#Compare zeroed out terms to terms kept\n",
    "beta_vals=pd.Series(index=pf.get_feature_names(X.columns),data=lasso_cluster.coef_)\n",
    "beta_vals[beta_vals==0].shape,beta_vals[beta_vals!=0].shape"
   ]
  },
  {
   "cell_type": "code",
   "execution_count": 2050,
   "metadata": {},
   "outputs": [
    {
     "data": {
      "text/plain": [
       "(0.17278837616545284, -0.24181592421200415)"
      ]
     },
     "execution_count": 2050,
     "metadata": {},
     "output_type": "execute_result"
    }
   ],
   "source": [
    "lasso_cluster.score(Xpfs_train,y_train),lasso_cluster.score(Xpfs_test,y_test)"
   ]
  },
  {
   "cell_type": "code",
   "execution_count": 2051,
   "metadata": {},
   "outputs": [],
   "source": [
    "from sklearn.ensemble import RandomForestRegressor,RandomForestClassifier\n",
    "rfr=RandomForestRegressor()\n",
    "X=df[feats]\n",
    "X=pd.concat([X,dummy_cluster],axis=1)\n",
    "y=df['damage_by_county']\n",
    "pf=PolynomialFeatures(degree=2,interaction_only=False)\n",
    "Xpfr=pf.fit_transform(X)\n",
    "Xpfr_train,Xpfr_test,y_train,y_test=train_test_split(Xpfr,y,test_size=.2, random_state=1024)"
   ]
  },
  {
   "cell_type": "code",
   "execution_count": 2052,
   "metadata": {},
   "outputs": [
    {
     "data": {
      "text/plain": [
       "RandomForestRegressor(bootstrap=True, ccp_alpha=0.0, criterion='mse',\n",
       "                      max_depth=None, max_features='auto', max_leaf_nodes=None,\n",
       "                      max_samples=None, min_impurity_decrease=0.0,\n",
       "                      min_impurity_split=None, min_samples_leaf=1,\n",
       "                      min_samples_split=2, min_weight_fraction_leaf=0.0,\n",
       "                      n_estimators=100, n_jobs=None, oob_score=False,\n",
       "                      random_state=None, verbose=0, warm_start=False)"
      ]
     },
     "execution_count": 2052,
     "metadata": {},
     "output_type": "execute_result"
    }
   ],
   "source": [
    "#Try a random forest regressor\n",
    "rfr.fit(Xpfr_train,y_train)"
   ]
  },
  {
   "cell_type": "code",
   "execution_count": 2053,
   "metadata": {},
   "outputs": [
    {
     "data": {
      "text/plain": [
       "(0.6380963251284274, 0.1626307220725971)"
      ]
     },
     "execution_count": 2053,
     "metadata": {},
     "output_type": "execute_result"
    }
   ],
   "source": [
    "rfr.score(Xpfr_train,y_train),rfr.score(Xpfr_test,y_test)"
   ]
  },
  {
   "cell_type": "code",
   "execution_count": 2054,
   "metadata": {},
   "outputs": [],
   "source": [
    "def bd(n):\n",
    "    return n<-.05"
   ]
  },
  {
   "cell_type": "code",
   "execution_count": 2055,
   "metadata": {},
   "outputs": [],
   "source": [
    "#Mark counties that saw an employment drop of >5%\n",
    "df['big_drop']=df['emp_chg'].map(bd).astype(int)"
   ]
  },
  {
   "cell_type": "code",
   "execution_count": 2056,
   "metadata": {},
   "outputs": [
    {
     "data": {
      "text/plain": [
       "0    100\n",
       "1     18\n",
       "Name: big_drop, dtype: int64"
      ]
     },
     "execution_count": 2056,
     "metadata": {},
     "output_type": "execute_result"
    }
   ],
   "source": [
    "df['big_drop'].value_counts()"
   ]
  },
  {
   "cell_type": "code",
   "execution_count": 2057,
   "metadata": {},
   "outputs": [],
   "source": [
    "#can we predict susceptible counties to large employment drops?\n",
    "from sklearn.ensemble import RandomForestRegressor,RandomForestClassifier\n",
    "rfc=RandomForestClassifier()\n",
    "Xc=df[feats]\n",
    "Xc=pd.concat([Xc,dummy_cluster],axis=1)\n",
    "y=df['big_drop']\n",
    "Xc_train,Xc_test,y_train,y_test=train_test_split(Xc,y,stratify=y,random_state=1047)"
   ]
  },
  {
   "cell_type": "code",
   "execution_count": 2059,
   "metadata": {},
   "outputs": [
    {
     "data": {
      "text/html": [
       "<div>\n",
       "<style scoped>\n",
       "    .dataframe tbody tr th:only-of-type {\n",
       "        vertical-align: middle;\n",
       "    }\n",
       "\n",
       "    .dataframe tbody tr th {\n",
       "        vertical-align: top;\n",
       "    }\n",
       "\n",
       "    .dataframe thead th {\n",
       "        text-align: right;\n",
       "    }\n",
       "</style>\n",
       "<table border=\"1\" class=\"dataframe\">\n",
       "  <thead>\n",
       "    <tr style=\"text-align: right;\">\n",
       "      <th></th>\n",
       "      <th>category</th>\n",
       "      <th>est_av</th>\n",
       "      <th>wage_av</th>\n",
       "      <th>emp_av</th>\n",
       "      <th>cl_1</th>\n",
       "      <th>cl_2</th>\n",
       "      <th>cl_3</th>\n",
       "      <th>cl_4</th>\n",
       "    </tr>\n",
       "  </thead>\n",
       "  <tbody>\n",
       "    <tr>\n",
       "      <th>0</th>\n",
       "      <td>4</td>\n",
       "      <td>29965.5</td>\n",
       "      <td>672.0</td>\n",
       "      <td>560154.5</td>\n",
       "      <td>0</td>\n",
       "      <td>0</td>\n",
       "      <td>0</td>\n",
       "      <td>0</td>\n",
       "    </tr>\n",
       "    <tr>\n",
       "      <th>1</th>\n",
       "      <td>4</td>\n",
       "      <td>3970.5</td>\n",
       "      <td>524.5</td>\n",
       "      <td>31054.5</td>\n",
       "      <td>0</td>\n",
       "      <td>0</td>\n",
       "      <td>0</td>\n",
       "      <td>1</td>\n",
       "    </tr>\n",
       "    <tr>\n",
       "      <th>2</th>\n",
       "      <td>4</td>\n",
       "      <td>496.5</td>\n",
       "      <td>415.0</td>\n",
       "      <td>5280.5</td>\n",
       "      <td>0</td>\n",
       "      <td>1</td>\n",
       "      <td>0</td>\n",
       "      <td>0</td>\n",
       "    </tr>\n",
       "    <tr>\n",
       "      <th>3</th>\n",
       "      <td>4</td>\n",
       "      <td>545.0</td>\n",
       "      <td>409.5</td>\n",
       "      <td>6368.5</td>\n",
       "      <td>0</td>\n",
       "      <td>1</td>\n",
       "      <td>0</td>\n",
       "      <td>0</td>\n",
       "    </tr>\n",
       "    <tr>\n",
       "      <th>4</th>\n",
       "      <td>4</td>\n",
       "      <td>10413.5</td>\n",
       "      <td>627.5</td>\n",
       "      <td>109380.0</td>\n",
       "      <td>0</td>\n",
       "      <td>0</td>\n",
       "      <td>0</td>\n",
       "      <td>0</td>\n",
       "    </tr>\n",
       "    <tr>\n",
       "      <th>...</th>\n",
       "      <td>...</td>\n",
       "      <td>...</td>\n",
       "      <td>...</td>\n",
       "      <td>...</td>\n",
       "      <td>...</td>\n",
       "      <td>...</td>\n",
       "      <td>...</td>\n",
       "      <td>...</td>\n",
       "    </tr>\n",
       "    <tr>\n",
       "      <th>114</th>\n",
       "      <td>3</td>\n",
       "      <td>4069.5</td>\n",
       "      <td>583.5</td>\n",
       "      <td>29648.0</td>\n",
       "      <td>0</td>\n",
       "      <td>0</td>\n",
       "      <td>0</td>\n",
       "      <td>1</td>\n",
       "    </tr>\n",
       "    <tr>\n",
       "      <th>115</th>\n",
       "      <td>3</td>\n",
       "      <td>17045.0</td>\n",
       "      <td>658.0</td>\n",
       "      <td>181933.5</td>\n",
       "      <td>0</td>\n",
       "      <td>0</td>\n",
       "      <td>0</td>\n",
       "      <td>0</td>\n",
       "    </tr>\n",
       "    <tr>\n",
       "      <th>116</th>\n",
       "      <td>3</td>\n",
       "      <td>683.0</td>\n",
       "      <td>510.0</td>\n",
       "      <td>9148.5</td>\n",
       "      <td>0</td>\n",
       "      <td>1</td>\n",
       "      <td>0</td>\n",
       "      <td>0</td>\n",
       "    </tr>\n",
       "    <tr>\n",
       "      <th>118</th>\n",
       "      <td>3</td>\n",
       "      <td>11519.5</td>\n",
       "      <td>701.0</td>\n",
       "      <td>113256.0</td>\n",
       "      <td>0</td>\n",
       "      <td>0</td>\n",
       "      <td>0</td>\n",
       "      <td>0</td>\n",
       "    </tr>\n",
       "    <tr>\n",
       "      <th>119</th>\n",
       "      <td>3</td>\n",
       "      <td>60591.0</td>\n",
       "      <td>719.5</td>\n",
       "      <td>633536.5</td>\n",
       "      <td>0</td>\n",
       "      <td>0</td>\n",
       "      <td>0</td>\n",
       "      <td>0</td>\n",
       "    </tr>\n",
       "  </tbody>\n",
       "</table>\n",
       "<p>118 rows × 8 columns</p>\n",
       "</div>"
      ],
      "text/plain": [
       "     category   est_av  wage_av    emp_av  cl_1  cl_2  cl_3  cl_4\n",
       "0           4  29965.5    672.0  560154.5     0     0     0     0\n",
       "1           4   3970.5    524.5   31054.5     0     0     0     1\n",
       "2           4    496.5    415.0    5280.5     0     1     0     0\n",
       "3           4    545.0    409.5    6368.5     0     1     0     0\n",
       "4           4  10413.5    627.5  109380.0     0     0     0     0\n",
       "..        ...      ...      ...       ...   ...   ...   ...   ...\n",
       "114         3   4069.5    583.5   29648.0     0     0     0     1\n",
       "115         3  17045.0    658.0  181933.5     0     0     0     0\n",
       "116         3    683.0    510.0    9148.5     0     1     0     0\n",
       "118         3  11519.5    701.0  113256.0     0     0     0     0\n",
       "119         3  60591.0    719.5  633536.5     0     0     0     0\n",
       "\n",
       "[118 rows x 8 columns]"
      ]
     },
     "execution_count": 2059,
     "metadata": {},
     "output_type": "execute_result"
    }
   ],
   "source": [
    "Xc"
   ]
  },
  {
   "cell_type": "code",
   "execution_count": null,
   "metadata": {},
   "outputs": [],
   "source": [
    "Xz_train,Xz_test,yz_train,yz_test=train_test_split(Xc,y,stratify=y,random_state=97)"
   ]
  },
  {
   "cell_type": "code",
   "execution_count": 2060,
   "metadata": {},
   "outputs": [
    {
     "data": {
      "text/plain": [
       "GridSearchCV(cv=5, error_score=nan,\n",
       "             estimator=RandomForestClassifier(bootstrap=True, ccp_alpha=0.0,\n",
       "                                              class_weight=None,\n",
       "                                              criterion='gini', max_depth=None,\n",
       "                                              max_features='auto',\n",
       "                                              max_leaf_nodes=None,\n",
       "                                              max_samples=None,\n",
       "                                              min_impurity_decrease=0.0,\n",
       "                                              min_impurity_split=None,\n",
       "                                              min_samples_leaf=1,\n",
       "                                              min_samples_split=2,\n",
       "                                              min_weight_fraction_leaf=0.0,\n",
       "                                              n_estimators=100, n_jobs=None,\n",
       "                                              oob_score=False,\n",
       "                                              random_state=None, verbose=0,\n",
       "                                              warm_start=False),\n",
       "             iid='deprecated', n_jobs=None,\n",
       "             param_grid={'max_depth': [None, 5, 10, 20],\n",
       "                         'max_features': [2, 3, 4, 5, 6, 7],\n",
       "                         'n_estimators': [5, 25, 50, 100, 500]},\n",
       "             pre_dispatch='2*n_jobs', refit=True, return_train_score=False,\n",
       "             scoring=None, verbose=0)"
      ]
     },
     "execution_count": 2060,
     "metadata": {},
     "output_type": "execute_result"
    }
   ],
   "source": [
    "#Find best classifier\n",
    "rfc = RandomForestClassifier()\n",
    "params = {\n",
    "    'n_estimators': [5,25,50,100],\n",
    "    'max_depth':[None,5,10],\n",
    "    'max_features':[2,3,4,5,6],\n",
    "}\n",
    "gs = GridSearchCV(rfc, param_grid=params, cv=5)\n",
    "gs.fit(Xc_train, y_train)"
   ]
  },
  {
   "cell_type": "code",
   "execution_count": null,
   "metadata": {},
   "outputs": [],
   "source": [
    "gs.best_params_"
   ]
  },
  {
   "cell_type": "code",
   "execution_count": 2061,
   "metadata": {},
   "outputs": [
    {
     "data": {
      "text/plain": [
       "(0.9772727272727273, 0.9333333333333333)"
      ]
     },
     "execution_count": 2061,
     "metadata": {},
     "output_type": "execute_result"
    }
   ],
   "source": [
    "gs.score(Xz_train,yz_train),gs.score(Xz_test,yz_test) "
   ]
  },
  {
   "cell_type": "code",
   "execution_count": 2063,
   "metadata": {},
   "outputs": [
    {
     "data": {
      "text/plain": [
       "0.847457627118644"
      ]
     },
     "execution_count": 2063,
     "metadata": {},
     "output_type": "execute_result"
    }
   ],
   "source": [
    "100/118# baseline score"
   ]
  },
  {
   "cell_type": "code",
   "execution_count": 2066,
   "metadata": {},
   "outputs": [
    {
     "data": {
      "text/plain": [
       "(43     0\n",
       " 94     1\n",
       " 89     1\n",
       " 18     0\n",
       " 118    0\n",
       " 81     0\n",
       " 107    0\n",
       " 116    0\n",
       " 99     0\n",
       " 65     0\n",
       " 106    0\n",
       " 31     0\n",
       " 25     1\n",
       " 101    1\n",
       " 58     0\n",
       " 110    0\n",
       " 32     0\n",
       " 96     0\n",
       " 104    0\n",
       " 16     0\n",
       " 46     0\n",
       " 5      0\n",
       " 56     0\n",
       " 38     0\n",
       " 87     0\n",
       " 77     0\n",
       " 79     0\n",
       " 22     0\n",
       " 109    0\n",
       " 93     1\n",
       " Name: big_drop, dtype: int64,\n",
       " 30)"
      ]
     },
     "execution_count": 2066,
     "metadata": {},
     "output_type": "execute_result"
    }
   ],
   "source": [
    "yz_test,len(yz_test) #with this few successes we have unbalanced classes"
   ]
  },
  {
   "cell_type": "code",
   "execution_count": 2067,
   "metadata": {},
   "outputs": [
    {
     "data": {
      "text/plain": [
       "array([0, 0, 0, 0, 0, 0, 0, 0, 0, 0, 0, 0, 1, 1, 0, 0, 0, 0, 0, 0, 0, 0,\n",
       "       0, 0, 0, 0, 0, 0, 0, 1])"
      ]
     },
     "execution_count": 2067,
     "metadata": {},
     "output_type": "execute_result"
    }
   ],
   "source": [
    "gs.predict(Xz_test)"
   ]
  },
  {
   "cell_type": "code",
   "execution_count": null,
   "metadata": {},
   "outputs": [],
   "source": []
  },
  {
   "cell_type": "code",
   "execution_count": null,
   "metadata": {},
   "outputs": [],
   "source": []
  }
 ],
 "metadata": {
  "kernelspec": {
   "display_name": "Python 3",
   "language": "python",
   "name": "python3"
  },
  "language_info": {
   "codemirror_mode": {
    "name": "ipython",
    "version": 3
   },
   "file_extension": ".py",
   "mimetype": "text/x-python",
   "name": "python",
   "nbconvert_exporter": "python",
   "pygments_lexer": "ipython3",
   "version": "3.7.6"
  }
 },
 "nbformat": 4,
 "nbformat_minor": 4
}
