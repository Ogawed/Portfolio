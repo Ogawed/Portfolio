{
 "cells": [
  {
   "cell_type": "code",
   "execution_count": 1,
   "metadata": {},
   "outputs": [],
   "source": [
    "import pandas as pd\n",
    "import numpy as np\n",
    "import seaborn as sns\n",
    "import matplotlib.pyplot as plt"
   ]
  },
  {
   "cell_type": "code",
   "execution_count": 2,
   "metadata": {},
   "outputs": [],
   "source": [
    "#read in hurricane data\n",
    "charlie = pd.read_csv('../datasets/charlie.csv')\n",
    "frances = pd.read_csv('../datasets/frances.csv')\n",
    "harvey = pd.read_csv('../datasets/harvey.csv')\n",
    "ike = pd.read_csv('../datasets/ike.csv')\n",
    "irene = pd.read_csv('../datasets/irene.csv')\n",
    "irma = pd.read_csv('../datasets/irma.csv')\n",
    "ivan = pd.read_csv('../datasets/ivan.csv')\n",
    "katrina = pd.read_csv('../datasets/katrina.csv')\n",
    "maria = pd.read_csv('../datasets/maria.csv')\n",
    "matthew = pd.read_csv('../datasets/matthew.csv')\n",
    "michael = pd.read_csv('../datasets/michael.csv')\n",
    "rita = pd.read_csv('../datasets/rita.csv')\n",
    "sandy = pd.read_csv('../datasets/sandy.csv')\n",
    "wilma = pd.read_csv('../datasets/wilma.csv')"
   ]
  },
  {
   "cell_type": "code",
   "execution_count": 3,
   "metadata": {},
   "outputs": [],
   "source": [
    "df_full = pd.concat([charlie, frances, harvey, ike, irene, irma, ivan, katrina, maria, matthew, michael, rita, sandy, wilma])"
   ]
  },
  {
   "cell_type": "code",
   "execution_count": 4,
   "metadata": {},
   "outputs": [
    {
     "data": {
      "text/html": [
       "<div>\n",
       "<style scoped>\n",
       "    .dataframe tbody tr th:only-of-type {\n",
       "        vertical-align: middle;\n",
       "    }\n",
       "\n",
       "    .dataframe tbody tr th {\n",
       "        vertical-align: top;\n",
       "    }\n",
       "\n",
       "    .dataframe thead th {\n",
       "        text-align: right;\n",
       "    }\n",
       "</style>\n",
       "<table border=\"1\" class=\"dataframe\">\n",
       "  <thead>\n",
       "    <tr style=\"text-align: right;\">\n",
       "      <th></th>\n",
       "      <th>geoid</th>\n",
       "      <th>area_fips</th>\n",
       "      <th>qtrly_estabs_11_agriculture_forestry_fishing_and_hunting</th>\n",
       "      <th>avg_wkly_wage_11_agriculture_forestry_fishing_and_hunting</th>\n",
       "      <th>month3_emplvl_11_agriculture_forestry_fishing_and_hunting</th>\n",
       "      <th>lq_avg_wkly_wage_11_agriculture_forestry_fishing_and_hunting</th>\n",
       "      <th>lq_qtrly_estabs_11_agriculture_forestry_fishing_and_hunting</th>\n",
       "      <th>lq_month3_emplvl_11_agriculture_forestry_fishing_and_hunting</th>\n",
       "      <th>qtrly_estabs_1024_professional_and_business_services</th>\n",
       "      <th>avg_wkly_wage_1024_professional_and_business_services</th>\n",
       "      <th>...</th>\n",
       "      <th>lq_avg_wkly_wage_99_unclassified.3</th>\n",
       "      <th>lq_qtrly_estabs_99_unclassified.3</th>\n",
       "      <th>lq_month3_emplvl_99_unclassified.3</th>\n",
       "      <th>qtrly_estabs_48_49_transportation_and_warehousing.3</th>\n",
       "      <th>avg_wkly_wage_48_49_transportation_and_warehousing.3</th>\n",
       "      <th>month3_emplvl_48_49_transportation_and_warehousing.3</th>\n",
       "      <th>lq_avg_wkly_wage_48_49_transportation_and_warehousing.3</th>\n",
       "      <th>lq_qtrly_estabs_48_49_transportation_and_warehousing.3</th>\n",
       "      <th>lq_month3_emplvl_48_49_transportation_and_warehousing.3</th>\n",
       "      <th>quarter.3</th>\n",
       "    </tr>\n",
       "  </thead>\n",
       "  <tbody>\n",
       "    <tr>\n",
       "      <th>0</th>\n",
       "      <td>Charlie</td>\n",
       "      <td>12095</td>\n",
       "      <td>227.0</td>\n",
       "      <td>0.0</td>\n",
       "      <td>0.0</td>\n",
       "      <td>0.00</td>\n",
       "      <td>0.65</td>\n",
       "      <td>0.00</td>\n",
       "      <td>6576.0</td>\n",
       "      <td>773.0</td>\n",
       "      <td>...</td>\n",
       "      <td>0.73</td>\n",
       "      <td>0.78</td>\n",
       "      <td>0.97</td>\n",
       "      <td>736.0</td>\n",
       "      <td>693.0</td>\n",
       "      <td>19219.0</td>\n",
       "      <td>0.93</td>\n",
       "      <td>0.97</td>\n",
       "      <td>0.95</td>\n",
       "      <td>1.0</td>\n",
       "    </tr>\n",
       "    <tr>\n",
       "      <th>1</th>\n",
       "      <td>Charlie</td>\n",
       "      <td>12087</td>\n",
       "      <td>26.0</td>\n",
       "      <td>0.0</td>\n",
       "      <td>0.0</td>\n",
       "      <td>0.00</td>\n",
       "      <td>0.55</td>\n",
       "      <td>0.00</td>\n",
       "      <td>648.0</td>\n",
       "      <td>649.0</td>\n",
       "      <td>...</td>\n",
       "      <td>0.95</td>\n",
       "      <td>0.48</td>\n",
       "      <td>0.84</td>\n",
       "      <td>137.0</td>\n",
       "      <td>608.0</td>\n",
       "      <td>838.0</td>\n",
       "      <td>0.95</td>\n",
       "      <td>1.35</td>\n",
       "      <td>0.72</td>\n",
       "      <td>1.0</td>\n",
       "    </tr>\n",
       "    <tr>\n",
       "      <th>2</th>\n",
       "      <td>Charlie</td>\n",
       "      <td>12049</td>\n",
       "      <td>118.0</td>\n",
       "      <td>0.0</td>\n",
       "      <td>0.0</td>\n",
       "      <td>0.00</td>\n",
       "      <td>18.63</td>\n",
       "      <td>0.00</td>\n",
       "      <td>47.0</td>\n",
       "      <td>431.0</td>\n",
       "      <td>...</td>\n",
       "      <td>0.52</td>\n",
       "      <td>0.33</td>\n",
       "      <td>0.49</td>\n",
       "      <td>17.0</td>\n",
       "      <td>0.0</td>\n",
       "      <td>0.0</td>\n",
       "      <td>0.00</td>\n",
       "      <td>1.26</td>\n",
       "      <td>0.00</td>\n",
       "      <td>1.0</td>\n",
       "    </tr>\n",
       "    <tr>\n",
       "      <th>3</th>\n",
       "      <td>Charlie</td>\n",
       "      <td>12027</td>\n",
       "      <td>119.0</td>\n",
       "      <td>0.0</td>\n",
       "      <td>0.0</td>\n",
       "      <td>0.00</td>\n",
       "      <td>16.85</td>\n",
       "      <td>0.00</td>\n",
       "      <td>46.0</td>\n",
       "      <td>576.0</td>\n",
       "      <td>...</td>\n",
       "      <td>0.57</td>\n",
       "      <td>0.98</td>\n",
       "      <td>3.10</td>\n",
       "      <td>18.0</td>\n",
       "      <td>0.0</td>\n",
       "      <td>0.0</td>\n",
       "      <td>0.00</td>\n",
       "      <td>1.23</td>\n",
       "      <td>0.00</td>\n",
       "      <td>1.0</td>\n",
       "    </tr>\n",
       "    <tr>\n",
       "      <th>4</th>\n",
       "      <td>Charlie</td>\n",
       "      <td>12021</td>\n",
       "      <td>98.0</td>\n",
       "      <td>291.0</td>\n",
       "      <td>9653.0</td>\n",
       "      <td>0.85</td>\n",
       "      <td>0.80</td>\n",
       "      <td>9.29</td>\n",
       "      <td>2131.0</td>\n",
       "      <td>679.0</td>\n",
       "      <td>...</td>\n",
       "      <td>0.98</td>\n",
       "      <td>0.73</td>\n",
       "      <td>0.99</td>\n",
       "      <td>195.0</td>\n",
       "      <td>787.0</td>\n",
       "      <td>1450.0</td>\n",
       "      <td>1.08</td>\n",
       "      <td>0.72</td>\n",
       "      <td>0.36</td>\n",
       "      <td>1.0</td>\n",
       "    </tr>\n",
       "  </tbody>\n",
       "</table>\n",
       "<p>5 rows × 780 columns</p>\n",
       "</div>"
      ],
      "text/plain": [
       "     geoid  area_fips  \\\n",
       "0  Charlie      12095   \n",
       "1  Charlie      12087   \n",
       "2  Charlie      12049   \n",
       "3  Charlie      12027   \n",
       "4  Charlie      12021   \n",
       "\n",
       "   qtrly_estabs_11_agriculture_forestry_fishing_and_hunting  \\\n",
       "0                                              227.0          \n",
       "1                                               26.0          \n",
       "2                                              118.0          \n",
       "3                                              119.0          \n",
       "4                                               98.0          \n",
       "\n",
       "   avg_wkly_wage_11_agriculture_forestry_fishing_and_hunting  \\\n",
       "0                                                0.0           \n",
       "1                                                0.0           \n",
       "2                                                0.0           \n",
       "3                                                0.0           \n",
       "4                                              291.0           \n",
       "\n",
       "   month3_emplvl_11_agriculture_forestry_fishing_and_hunting  \\\n",
       "0                                                0.0           \n",
       "1                                                0.0           \n",
       "2                                                0.0           \n",
       "3                                                0.0           \n",
       "4                                             9653.0           \n",
       "\n",
       "   lq_avg_wkly_wage_11_agriculture_forestry_fishing_and_hunting  \\\n",
       "0                                               0.00              \n",
       "1                                               0.00              \n",
       "2                                               0.00              \n",
       "3                                               0.00              \n",
       "4                                               0.85              \n",
       "\n",
       "   lq_qtrly_estabs_11_agriculture_forestry_fishing_and_hunting  \\\n",
       "0                                               0.65             \n",
       "1                                               0.55             \n",
       "2                                              18.63             \n",
       "3                                              16.85             \n",
       "4                                               0.80             \n",
       "\n",
       "   lq_month3_emplvl_11_agriculture_forestry_fishing_and_hunting  \\\n",
       "0                                               0.00              \n",
       "1                                               0.00              \n",
       "2                                               0.00              \n",
       "3                                               0.00              \n",
       "4                                               9.29              \n",
       "\n",
       "   qtrly_estabs_1024_professional_and_business_services  \\\n",
       "0                                             6576.0      \n",
       "1                                              648.0      \n",
       "2                                               47.0      \n",
       "3                                               46.0      \n",
       "4                                             2131.0      \n",
       "\n",
       "   avg_wkly_wage_1024_professional_and_business_services  ...  \\\n",
       "0                                              773.0      ...   \n",
       "1                                              649.0      ...   \n",
       "2                                              431.0      ...   \n",
       "3                                              576.0      ...   \n",
       "4                                              679.0      ...   \n",
       "\n",
       "   lq_avg_wkly_wage_99_unclassified.3  lq_qtrly_estabs_99_unclassified.3  \\\n",
       "0                                0.73                               0.78   \n",
       "1                                0.95                               0.48   \n",
       "2                                0.52                               0.33   \n",
       "3                                0.57                               0.98   \n",
       "4                                0.98                               0.73   \n",
       "\n",
       "   lq_month3_emplvl_99_unclassified.3  \\\n",
       "0                                0.97   \n",
       "1                                0.84   \n",
       "2                                0.49   \n",
       "3                                3.10   \n",
       "4                                0.99   \n",
       "\n",
       "   qtrly_estabs_48_49_transportation_and_warehousing.3  \\\n",
       "0                                              736.0     \n",
       "1                                              137.0     \n",
       "2                                               17.0     \n",
       "3                                               18.0     \n",
       "4                                              195.0     \n",
       "\n",
       "   avg_wkly_wage_48_49_transportation_and_warehousing.3  \\\n",
       "0                                              693.0      \n",
       "1                                              608.0      \n",
       "2                                                0.0      \n",
       "3                                                0.0      \n",
       "4                                              787.0      \n",
       "\n",
       "   month3_emplvl_48_49_transportation_and_warehousing.3  \\\n",
       "0                                            19219.0      \n",
       "1                                              838.0      \n",
       "2                                                0.0      \n",
       "3                                                0.0      \n",
       "4                                             1450.0      \n",
       "\n",
       "   lq_avg_wkly_wage_48_49_transportation_and_warehousing.3  \\\n",
       "0                                               0.93         \n",
       "1                                               0.95         \n",
       "2                                               0.00         \n",
       "3                                               0.00         \n",
       "4                                               1.08         \n",
       "\n",
       "   lq_qtrly_estabs_48_49_transportation_and_warehousing.3  \\\n",
       "0                                               0.97        \n",
       "1                                               1.35        \n",
       "2                                               1.26        \n",
       "3                                               1.23        \n",
       "4                                               0.72        \n",
       "\n",
       "   lq_month3_emplvl_48_49_transportation_and_warehousing.3  quarter.3  \n",
       "0                                               0.95              1.0  \n",
       "1                                               0.72              1.0  \n",
       "2                                               0.00              1.0  \n",
       "3                                               0.00              1.0  \n",
       "4                                               0.36              1.0  \n",
       "\n",
       "[5 rows x 780 columns]"
      ]
     },
     "execution_count": 4,
     "metadata": {},
     "output_type": "execute_result"
    }
   ],
   "source": [
    "df_full.head(5)"
   ]
  },
  {
   "cell_type": "code",
   "execution_count": 5,
   "metadata": {},
   "outputs": [
    {
     "data": {
      "text/plain": [
       "(120, 780)"
      ]
     },
     "execution_count": 5,
     "metadata": {},
     "output_type": "execute_result"
    }
   ],
   "source": [
    "df_full.shape"
   ]
  },
  {
   "cell_type": "code",
   "execution_count": 6,
   "metadata": {},
   "outputs": [
    {
     "ename": "FileNotFoundError",
     "evalue": "[Errno 2] File ../datasets/other/county-ests-employment-and-wages.csv does not exist: '../datasets/other/county-ests-employment-and-wages.csv'",
     "output_type": "error",
     "traceback": [
      "\u001b[1;31m---------------------------------------------------------------------------\u001b[0m",
      "\u001b[1;31mFileNotFoundError\u001b[0m                         Traceback (most recent call last)",
      "\u001b[1;32m<ipython-input-6-5da09bf453f9>\u001b[0m in \u001b[0;36m<module>\u001b[1;34m\u001b[0m\n\u001b[0;32m      1\u001b[0m \u001b[1;31m#read in wages data\u001b[0m\u001b[1;33m\u001b[0m\u001b[1;33m\u001b[0m\u001b[1;33m\u001b[0m\u001b[0m\n\u001b[1;32m----> 2\u001b[1;33m \u001b[0mwages\u001b[0m \u001b[1;33m=\u001b[0m \u001b[0mpd\u001b[0m\u001b[1;33m.\u001b[0m\u001b[0mread_csv\u001b[0m\u001b[1;33m(\u001b[0m\u001b[1;34m'../datasets/other/county-ests-employment-and-wages.csv'\u001b[0m\u001b[1;33m)\u001b[0m\u001b[1;33m\u001b[0m\u001b[1;33m\u001b[0m\u001b[0m\n\u001b[0m",
      "\u001b[1;32m~\\anaconda3\\lib\\site-packages\\pandas\\io\\parsers.py\u001b[0m in \u001b[0;36mparser_f\u001b[1;34m(filepath_or_buffer, sep, delimiter, header, names, index_col, usecols, squeeze, prefix, mangle_dupe_cols, dtype, engine, converters, true_values, false_values, skipinitialspace, skiprows, skipfooter, nrows, na_values, keep_default_na, na_filter, verbose, skip_blank_lines, parse_dates, infer_datetime_format, keep_date_col, date_parser, dayfirst, cache_dates, iterator, chunksize, compression, thousands, decimal, lineterminator, quotechar, quoting, doublequote, escapechar, comment, encoding, dialect, error_bad_lines, warn_bad_lines, delim_whitespace, low_memory, memory_map, float_precision)\u001b[0m\n\u001b[0;32m    674\u001b[0m         )\n\u001b[0;32m    675\u001b[0m \u001b[1;33m\u001b[0m\u001b[0m\n\u001b[1;32m--> 676\u001b[1;33m         \u001b[1;32mreturn\u001b[0m \u001b[0m_read\u001b[0m\u001b[1;33m(\u001b[0m\u001b[0mfilepath_or_buffer\u001b[0m\u001b[1;33m,\u001b[0m \u001b[0mkwds\u001b[0m\u001b[1;33m)\u001b[0m\u001b[1;33m\u001b[0m\u001b[1;33m\u001b[0m\u001b[0m\n\u001b[0m\u001b[0;32m    677\u001b[0m \u001b[1;33m\u001b[0m\u001b[0m\n\u001b[0;32m    678\u001b[0m     \u001b[0mparser_f\u001b[0m\u001b[1;33m.\u001b[0m\u001b[0m__name__\u001b[0m \u001b[1;33m=\u001b[0m \u001b[0mname\u001b[0m\u001b[1;33m\u001b[0m\u001b[1;33m\u001b[0m\u001b[0m\n",
      "\u001b[1;32m~\\anaconda3\\lib\\site-packages\\pandas\\io\\parsers.py\u001b[0m in \u001b[0;36m_read\u001b[1;34m(filepath_or_buffer, kwds)\u001b[0m\n\u001b[0;32m    446\u001b[0m \u001b[1;33m\u001b[0m\u001b[0m\n\u001b[0;32m    447\u001b[0m     \u001b[1;31m# Create the parser.\u001b[0m\u001b[1;33m\u001b[0m\u001b[1;33m\u001b[0m\u001b[1;33m\u001b[0m\u001b[0m\n\u001b[1;32m--> 448\u001b[1;33m     \u001b[0mparser\u001b[0m \u001b[1;33m=\u001b[0m \u001b[0mTextFileReader\u001b[0m\u001b[1;33m(\u001b[0m\u001b[0mfp_or_buf\u001b[0m\u001b[1;33m,\u001b[0m \u001b[1;33m**\u001b[0m\u001b[0mkwds\u001b[0m\u001b[1;33m)\u001b[0m\u001b[1;33m\u001b[0m\u001b[1;33m\u001b[0m\u001b[0m\n\u001b[0m\u001b[0;32m    449\u001b[0m \u001b[1;33m\u001b[0m\u001b[0m\n\u001b[0;32m    450\u001b[0m     \u001b[1;32mif\u001b[0m \u001b[0mchunksize\u001b[0m \u001b[1;32mor\u001b[0m \u001b[0miterator\u001b[0m\u001b[1;33m:\u001b[0m\u001b[1;33m\u001b[0m\u001b[1;33m\u001b[0m\u001b[0m\n",
      "\u001b[1;32m~\\anaconda3\\lib\\site-packages\\pandas\\io\\parsers.py\u001b[0m in \u001b[0;36m__init__\u001b[1;34m(self, f, engine, **kwds)\u001b[0m\n\u001b[0;32m    878\u001b[0m             \u001b[0mself\u001b[0m\u001b[1;33m.\u001b[0m\u001b[0moptions\u001b[0m\u001b[1;33m[\u001b[0m\u001b[1;34m\"has_index_names\"\u001b[0m\u001b[1;33m]\u001b[0m \u001b[1;33m=\u001b[0m \u001b[0mkwds\u001b[0m\u001b[1;33m[\u001b[0m\u001b[1;34m\"has_index_names\"\u001b[0m\u001b[1;33m]\u001b[0m\u001b[1;33m\u001b[0m\u001b[1;33m\u001b[0m\u001b[0m\n\u001b[0;32m    879\u001b[0m \u001b[1;33m\u001b[0m\u001b[0m\n\u001b[1;32m--> 880\u001b[1;33m         \u001b[0mself\u001b[0m\u001b[1;33m.\u001b[0m\u001b[0m_make_engine\u001b[0m\u001b[1;33m(\u001b[0m\u001b[0mself\u001b[0m\u001b[1;33m.\u001b[0m\u001b[0mengine\u001b[0m\u001b[1;33m)\u001b[0m\u001b[1;33m\u001b[0m\u001b[1;33m\u001b[0m\u001b[0m\n\u001b[0m\u001b[0;32m    881\u001b[0m \u001b[1;33m\u001b[0m\u001b[0m\n\u001b[0;32m    882\u001b[0m     \u001b[1;32mdef\u001b[0m \u001b[0mclose\u001b[0m\u001b[1;33m(\u001b[0m\u001b[0mself\u001b[0m\u001b[1;33m)\u001b[0m\u001b[1;33m:\u001b[0m\u001b[1;33m\u001b[0m\u001b[1;33m\u001b[0m\u001b[0m\n",
      "\u001b[1;32m~\\anaconda3\\lib\\site-packages\\pandas\\io\\parsers.py\u001b[0m in \u001b[0;36m_make_engine\u001b[1;34m(self, engine)\u001b[0m\n\u001b[0;32m   1112\u001b[0m     \u001b[1;32mdef\u001b[0m \u001b[0m_make_engine\u001b[0m\u001b[1;33m(\u001b[0m\u001b[0mself\u001b[0m\u001b[1;33m,\u001b[0m \u001b[0mengine\u001b[0m\u001b[1;33m=\u001b[0m\u001b[1;34m\"c\"\u001b[0m\u001b[1;33m)\u001b[0m\u001b[1;33m:\u001b[0m\u001b[1;33m\u001b[0m\u001b[1;33m\u001b[0m\u001b[0m\n\u001b[0;32m   1113\u001b[0m         \u001b[1;32mif\u001b[0m \u001b[0mengine\u001b[0m \u001b[1;33m==\u001b[0m \u001b[1;34m\"c\"\u001b[0m\u001b[1;33m:\u001b[0m\u001b[1;33m\u001b[0m\u001b[1;33m\u001b[0m\u001b[0m\n\u001b[1;32m-> 1114\u001b[1;33m             \u001b[0mself\u001b[0m\u001b[1;33m.\u001b[0m\u001b[0m_engine\u001b[0m \u001b[1;33m=\u001b[0m \u001b[0mCParserWrapper\u001b[0m\u001b[1;33m(\u001b[0m\u001b[0mself\u001b[0m\u001b[1;33m.\u001b[0m\u001b[0mf\u001b[0m\u001b[1;33m,\u001b[0m \u001b[1;33m**\u001b[0m\u001b[0mself\u001b[0m\u001b[1;33m.\u001b[0m\u001b[0moptions\u001b[0m\u001b[1;33m)\u001b[0m\u001b[1;33m\u001b[0m\u001b[1;33m\u001b[0m\u001b[0m\n\u001b[0m\u001b[0;32m   1115\u001b[0m         \u001b[1;32melse\u001b[0m\u001b[1;33m:\u001b[0m\u001b[1;33m\u001b[0m\u001b[1;33m\u001b[0m\u001b[0m\n\u001b[0;32m   1116\u001b[0m             \u001b[1;32mif\u001b[0m \u001b[0mengine\u001b[0m \u001b[1;33m==\u001b[0m \u001b[1;34m\"python\"\u001b[0m\u001b[1;33m:\u001b[0m\u001b[1;33m\u001b[0m\u001b[1;33m\u001b[0m\u001b[0m\n",
      "\u001b[1;32m~\\anaconda3\\lib\\site-packages\\pandas\\io\\parsers.py\u001b[0m in \u001b[0;36m__init__\u001b[1;34m(self, src, **kwds)\u001b[0m\n\u001b[0;32m   1889\u001b[0m         \u001b[0mkwds\u001b[0m\u001b[1;33m[\u001b[0m\u001b[1;34m\"usecols\"\u001b[0m\u001b[1;33m]\u001b[0m \u001b[1;33m=\u001b[0m \u001b[0mself\u001b[0m\u001b[1;33m.\u001b[0m\u001b[0musecols\u001b[0m\u001b[1;33m\u001b[0m\u001b[1;33m\u001b[0m\u001b[0m\n\u001b[0;32m   1890\u001b[0m \u001b[1;33m\u001b[0m\u001b[0m\n\u001b[1;32m-> 1891\u001b[1;33m         \u001b[0mself\u001b[0m\u001b[1;33m.\u001b[0m\u001b[0m_reader\u001b[0m \u001b[1;33m=\u001b[0m \u001b[0mparsers\u001b[0m\u001b[1;33m.\u001b[0m\u001b[0mTextReader\u001b[0m\u001b[1;33m(\u001b[0m\u001b[0msrc\u001b[0m\u001b[1;33m,\u001b[0m \u001b[1;33m**\u001b[0m\u001b[0mkwds\u001b[0m\u001b[1;33m)\u001b[0m\u001b[1;33m\u001b[0m\u001b[1;33m\u001b[0m\u001b[0m\n\u001b[0m\u001b[0;32m   1892\u001b[0m         \u001b[0mself\u001b[0m\u001b[1;33m.\u001b[0m\u001b[0munnamed_cols\u001b[0m \u001b[1;33m=\u001b[0m \u001b[0mself\u001b[0m\u001b[1;33m.\u001b[0m\u001b[0m_reader\u001b[0m\u001b[1;33m.\u001b[0m\u001b[0munnamed_cols\u001b[0m\u001b[1;33m\u001b[0m\u001b[1;33m\u001b[0m\u001b[0m\n\u001b[0;32m   1893\u001b[0m \u001b[1;33m\u001b[0m\u001b[0m\n",
      "\u001b[1;32mpandas\\_libs\\parsers.pyx\u001b[0m in \u001b[0;36mpandas._libs.parsers.TextReader.__cinit__\u001b[1;34m()\u001b[0m\n",
      "\u001b[1;32mpandas\\_libs\\parsers.pyx\u001b[0m in \u001b[0;36mpandas._libs.parsers.TextReader._setup_parser_source\u001b[1;34m()\u001b[0m\n",
      "\u001b[1;31mFileNotFoundError\u001b[0m: [Errno 2] File ../datasets/other/county-ests-employment-and-wages.csv does not exist: '../datasets/other/county-ests-employment-and-wages.csv'"
     ]
    }
   ],
   "source": [
    "#read in wages data\n",
    "wages = pd.read_csv('../datasets/other/county-ests-employment-and-wages.csv')"
   ]
  },
  {
   "cell_type": "code",
   "execution_count": 7,
   "metadata": {},
   "outputs": [
    {
     "ename": "NameError",
     "evalue": "name 'wages' is not defined",
     "output_type": "error",
     "traceback": [
      "\u001b[1;31m---------------------------------------------------------------------------\u001b[0m",
      "\u001b[1;31mNameError\u001b[0m                                 Traceback (most recent call last)",
      "\u001b[1;32m<ipython-input-7-5c30dcf4e635>\u001b[0m in \u001b[0;36m<module>\u001b[1;34m\u001b[0m\n\u001b[1;32m----> 1\u001b[1;33m \u001b[0mwages\u001b[0m\u001b[1;33m.\u001b[0m\u001b[0mshape\u001b[0m\u001b[1;33m\u001b[0m\u001b[1;33m\u001b[0m\u001b[0m\n\u001b[0m",
      "\u001b[1;31mNameError\u001b[0m: name 'wages' is not defined"
     ]
    }
   ],
   "source": [
    "wages.shape"
   ]
  },
  {
   "cell_type": "code",
   "execution_count": 9,
   "metadata": {},
   "outputs": [],
   "source": [
    "#Read in list of counties\n",
    "hurricanes=pd.read_csv('../datasets/fip_codes_years.csv')"
   ]
  },
  {
   "cell_type": "code",
   "execution_count": 10,
   "metadata": {},
   "outputs": [
    {
     "data": {
      "text/html": [
       "<div>\n",
       "<style scoped>\n",
       "    .dataframe tbody tr th:only-of-type {\n",
       "        vertical-align: middle;\n",
       "    }\n",
       "\n",
       "    .dataframe tbody tr th {\n",
       "        vertical-align: top;\n",
       "    }\n",
       "\n",
       "    .dataframe thead th {\n",
       "        text-align: right;\n",
       "    }\n",
       "</style>\n",
       "<table border=\"1\" class=\"dataframe\">\n",
       "  <thead>\n",
       "    <tr style=\"text-align: right;\">\n",
       "      <th></th>\n",
       "      <th>fip_code</th>\n",
       "      <th>county</th>\n",
       "      <th>Impact</th>\n",
       "      <th>state</th>\n",
       "      <th>hurricane</th>\n",
       "      <th>month</th>\n",
       "      <th>q_0</th>\n",
       "      <th>q_-2</th>\n",
       "      <th>q_-1</th>\n",
       "      <th>q_1</th>\n",
       "      <th>year</th>\n",
       "    </tr>\n",
       "  </thead>\n",
       "  <tbody>\n",
       "    <tr>\n",
       "      <th>0</th>\n",
       "      <td>48201</td>\n",
       "      <td>Harris</td>\n",
       "      <td>Major</td>\n",
       "      <td>TX</td>\n",
       "      <td>Harvey</td>\n",
       "      <td>Sept</td>\n",
       "      <td>3</td>\n",
       "      <td>1</td>\n",
       "      <td>2</td>\n",
       "      <td>4</td>\n",
       "      <td>2017</td>\n",
       "    </tr>\n",
       "    <tr>\n",
       "      <th>1</th>\n",
       "      <td>48245</td>\n",
       "      <td>Jefferson</td>\n",
       "      <td>Major</td>\n",
       "      <td>TX</td>\n",
       "      <td>Harvey</td>\n",
       "      <td>Sept</td>\n",
       "      <td>3</td>\n",
       "      <td>1</td>\n",
       "      <td>2</td>\n",
       "      <td>4</td>\n",
       "      <td>2017</td>\n",
       "    </tr>\n",
       "    <tr>\n",
       "      <th>2</th>\n",
       "      <td>48167</td>\n",
       "      <td>Galveston</td>\n",
       "      <td>Major</td>\n",
       "      <td>TX</td>\n",
       "      <td>Harvey</td>\n",
       "      <td>Sept</td>\n",
       "      <td>3</td>\n",
       "      <td>1</td>\n",
       "      <td>2</td>\n",
       "      <td>4</td>\n",
       "      <td>2017</td>\n",
       "    </tr>\n",
       "    <tr>\n",
       "      <th>3</th>\n",
       "      <td>48039</td>\n",
       "      <td>Brazoria</td>\n",
       "      <td>Major</td>\n",
       "      <td>TX</td>\n",
       "      <td>Harvey</td>\n",
       "      <td>Sept</td>\n",
       "      <td>3</td>\n",
       "      <td>1</td>\n",
       "      <td>2</td>\n",
       "      <td>4</td>\n",
       "      <td>2017</td>\n",
       "    </tr>\n",
       "    <tr>\n",
       "      <th>4</th>\n",
       "      <td>48321</td>\n",
       "      <td>Matagorda</td>\n",
       "      <td>Major</td>\n",
       "      <td>TX</td>\n",
       "      <td>Harvey</td>\n",
       "      <td>Sept</td>\n",
       "      <td>3</td>\n",
       "      <td>1</td>\n",
       "      <td>2</td>\n",
       "      <td>4</td>\n",
       "      <td>2017</td>\n",
       "    </tr>\n",
       "    <tr>\n",
       "      <th>5</th>\n",
       "      <td>48057</td>\n",
       "      <td>Calhoun</td>\n",
       "      <td>Major</td>\n",
       "      <td>TX</td>\n",
       "      <td>Harvey</td>\n",
       "      <td>Sept</td>\n",
       "      <td>3</td>\n",
       "      <td>1</td>\n",
       "      <td>2</td>\n",
       "      <td>4</td>\n",
       "      <td>2017</td>\n",
       "    </tr>\n",
       "    <tr>\n",
       "      <th>6</th>\n",
       "      <td>48007</td>\n",
       "      <td>Aransas</td>\n",
       "      <td>Major</td>\n",
       "      <td>TX</td>\n",
       "      <td>Harvey</td>\n",
       "      <td>Sept</td>\n",
       "      <td>3</td>\n",
       "      <td>1</td>\n",
       "      <td>2</td>\n",
       "      <td>4</td>\n",
       "      <td>2017</td>\n",
       "    </tr>\n",
       "    <tr>\n",
       "      <th>7</th>\n",
       "      <td>48409</td>\n",
       "      <td>San Patricio</td>\n",
       "      <td>Major</td>\n",
       "      <td>TX</td>\n",
       "      <td>Harvey</td>\n",
       "      <td>Sept</td>\n",
       "      <td>3</td>\n",
       "      <td>1</td>\n",
       "      <td>2</td>\n",
       "      <td>4</td>\n",
       "      <td>2017</td>\n",
       "    </tr>\n",
       "  </tbody>\n",
       "</table>\n",
       "</div>"
      ],
      "text/plain": [
       "   fip_code        county Impact state hurricane month  q_0  q_-2  q_-1  q_1  \\\n",
       "0     48201        Harris  Major    TX    Harvey  Sept    3     1     2    4   \n",
       "1     48245     Jefferson  Major    TX    Harvey  Sept    3     1     2    4   \n",
       "2     48167     Galveston  Major    TX    Harvey  Sept    3     1     2    4   \n",
       "3     48039      Brazoria  Major    TX    Harvey  Sept    3     1     2    4   \n",
       "4     48321     Matagorda  Major    TX    Harvey  Sept    3     1     2    4   \n",
       "5     48057       Calhoun  Major    TX    Harvey  Sept    3     1     2    4   \n",
       "6     48007       Aransas  Major    TX    Harvey  Sept    3     1     2    4   \n",
       "7     48409  San Patricio  Major    TX    Harvey  Sept    3     1     2    4   \n",
       "\n",
       "   year  \n",
       "0  2017  \n",
       "1  2017  \n",
       "2  2017  \n",
       "3  2017  \n",
       "4  2017  \n",
       "5  2017  \n",
       "6  2017  \n",
       "7  2017  "
      ]
     },
     "execution_count": 10,
     "metadata": {},
     "output_type": "execute_result"
    }
   ],
   "source": [
    "hurricanes.head(8)"
   ]
  },
  {
   "cell_type": "code",
   "execution_count": 11,
   "metadata": {},
   "outputs": [
    {
     "data": {
      "text/plain": [
       "(129, 11)"
      ]
     },
     "execution_count": 11,
     "metadata": {},
     "output_type": "execute_result"
    }
   ],
   "source": [
    "hurricanes.shape"
   ]
  },
  {
   "cell_type": "code",
   "execution_count": 12,
   "metadata": {},
   "outputs": [
    {
     "data": {
      "text/plain": [
       "dtype('int64')"
      ]
     },
     "execution_count": 12,
     "metadata": {},
     "output_type": "execute_result"
    }
   ],
   "source": [
    "hurricanes['fip_code'].dtypes"
   ]
  },
  {
   "cell_type": "code",
   "execution_count": 13,
   "metadata": {},
   "outputs": [],
   "source": [
    "#make sure fip codes datatype is consistent\n",
    "hurricanes['fip_code']=hurricanes['fip_code'].map(lambda x:str(x))"
   ]
  },
  {
   "cell_type": "code",
   "execution_count": 14,
   "metadata": {},
   "outputs": [
    {
     "ename": "NameError",
     "evalue": "name 'wages' is not defined",
     "output_type": "error",
     "traceback": [
      "\u001b[1;31m---------------------------------------------------------------------------\u001b[0m",
      "\u001b[1;31mNameError\u001b[0m                                 Traceback (most recent call last)",
      "\u001b[1;32m<ipython-input-14-3a2e3a2d48e8>\u001b[0m in \u001b[0;36m<module>\u001b[1;34m\u001b[0m\n\u001b[1;32m----> 1\u001b[1;33m \u001b[0mhurricanes\u001b[0m\u001b[1;33m[\u001b[0m\u001b[1;34m'fip_code'\u001b[0m\u001b[1;33m]\u001b[0m\u001b[1;33m[\u001b[0m\u001b[0mhurricanes\u001b[0m\u001b[1;33m[\u001b[0m\u001b[1;34m'fip_code'\u001b[0m\u001b[1;33m]\u001b[0m\u001b[1;33m.\u001b[0m\u001b[0misin\u001b[0m\u001b[1;33m(\u001b[0m\u001b[0mwages\u001b[0m\u001b[1;33m[\u001b[0m\u001b[1;34m'area_fips'\u001b[0m\u001b[1;33m]\u001b[0m\u001b[1;33m)\u001b[0m\u001b[1;33m]\u001b[0m\u001b[1;33m\u001b[0m\u001b[1;33m\u001b[0m\u001b[0m\n\u001b[0m",
      "\u001b[1;31mNameError\u001b[0m: name 'wages' is not defined"
     ]
    }
   ],
   "source": [
    "hurricanes['fip_code'][hurricanes['fip_code'].isin(wages['area_fips'])]"
   ]
  },
  {
   "cell_type": "code",
   "execution_count": 15,
   "metadata": {},
   "outputs": [],
   "source": [
    "#Following 3 cells make a list of all the years, quarters, and FIP codes we want to scrape from wages database\n",
    "year_list=[]\n",
    "for i in hurricanes['hurricane'].unique():\n",
    "    if i != 'Andrew':\n",
    "        yr=int(hurricanes[hurricanes['hurricane']==i]['year'].mean())\n",
    "        year_list.append(yr)"
   ]
  },
  {
   "cell_type": "code",
   "execution_count": 103,
   "metadata": {},
   "outputs": [],
   "source": [
    "FIPS_list=[]\n",
    "for i in hurricanes['hurricane'].unique():\n",
    "    if i != 'Andrew':\n",
    "        unq_fips=list(hurricanes[hurricanes['hurricane']==i]['fip_code'].unique())\n",
    "        FIPS_list.append(unq_fips)"
   ]
  },
  {
   "cell_type": "code",
   "execution_count": 104,
   "metadata": {},
   "outputs": [
    {
     "data": {
      "text/plain": [
       "[[1, 2, 3, 4],\n",
       " [1, 2, 3, 4],\n",
       " [1, 2, 3, 4],\n",
       " [2, 3, 4, 1],\n",
       " [1, 2, 3, 4],\n",
       " [1, 2, 3, 4],\n",
       " [2, 3, 4, 1],\n",
       " [1, 2, 3, 4],\n",
       " [2, 3, 4, 1],\n",
       " [1, 2, 3, 4],\n",
       " [2, 3, 4, 1],\n",
       " [1, 2, 3, 4],\n",
       " [1, 2, 3, 4],\n",
       " [1, 2, 3, 4]]"
      ]
     },
     "execution_count": 104,
     "metadata": {},
     "output_type": "execute_result"
    }
   ],
   "source": [
    "q_list=[]\n",
    "for i in hurricanes['hurricane'].unique():\n",
    "    if i != 'Andrew':\n",
    "        new_q=[0,0,0,0]\n",
    "        new_q[0]=int(hurricanes.loc[hurricanes['hurricane']==i,'q_-2'].mean())\n",
    "        new_q[1]=int(hurricanes.loc[hurricanes['hurricane']==i,'q_-1'].mean())\n",
    "        new_q[2]=int(hurricanes.loc[hurricanes['hurricane']==i,'q_0'].mean())\n",
    "        new_q[3]=int(hurricanes.loc[hurricanes['hurricane']==i,'q_1'].mean())\n",
    "        q_list.append(new_q)\n",
    "q_list"
   ]
  },
  {
   "cell_type": "code",
   "execution_count": 105,
   "metadata": {},
   "outputs": [
    {
     "data": {
      "text/plain": [
       "Index(['year', 'quarter', 'area_fips', 'area_title',\n",
       "       'quarterly_establishments', 'month_3_employment',\n",
       "       'month_3_employment_percent_change_oty', 'month_3_employment_rank',\n",
       "       'average_weekly_wages', 'average_weekly_wages_percent_change_oty',\n",
       "       'average_weekly_wages_rank'],\n",
       "      dtype='object')"
      ]
     },
     "execution_count": 105,
     "metadata": {},
     "output_type": "execute_result"
    }
   ],
   "source": [
    "wages.columns"
   ]
  },
  {
   "cell_type": "code",
   "execution_count": 106,
   "metadata": {},
   "outputs": [
    {
     "data": {
      "text/plain": [
       "(14, 14, 14)"
      ]
     },
     "execution_count": 106,
     "metadata": {},
     "output_type": "execute_result"
    }
   ],
   "source": [
    "len(year_list),len(FIPS_list),len(q_list)"
   ]
  },
  {
   "cell_type": "code",
   "execution_count": 107,
   "metadata": {},
   "outputs": [
    {
     "data": {
      "text/plain": [
       "year                                        int64\n",
       "quarter                                     int64\n",
       "area_fips                                  object\n",
       "area_title                                 object\n",
       "quarterly_establishments                   object\n",
       "month_3_employment                         object\n",
       "month_3_employment_percent_change_oty      object\n",
       "month_3_employment_rank                    object\n",
       "average_weekly_wages                       object\n",
       "average_weekly_wages_percent_change_oty    object\n",
       "average_weekly_wages_rank                  object\n",
       "dtype: object"
      ]
     },
     "execution_count": 107,
     "metadata": {},
     "output_type": "execute_result"
    }
   ],
   "source": [
    "wages.dtypes"
   ]
  },
  {
   "cell_type": "code",
   "execution_count": 108,
   "metadata": {},
   "outputs": [],
   "source": [
    "#Make an empty df and fill it with the rigth data\n",
    "cols=wages.columns\n",
    "wages_new1=pd.DataFrame(columns=cols)\n",
    "wages_new2=pd.DataFrame(columns=cols)\n",
    "wages_new3=pd.DataFrame(columns=cols)\n",
    "wages_new4=pd.DataFrame(columns=cols)\n",
    "for f in range(len(FIPS_list)):\n",
    "    for l in range(len(FIPS_list[f])):\n",
    "        if q_list[f][0]==1:\n",
    "            df1=wages[(wages['year']==year_list[f])&(wages['area_fips']==FIPS_list[f][l])&(wages['quarter']==1)]\n",
    "            df2=wages[(wages['year']==year_list[f])&(wages['area_fips']==FIPS_list[f][l])&(wages['quarter']==2)]\n",
    "            df3=wages[(wages['year']==year_list[f])&(wages['area_fips']==FIPS_list[f][l])&(wages['quarter']==3)]\n",
    "            df4=wages[(wages['year']==year_list[f])&(wages['area_fips']==FIPS_list[f][l])&(wages['quarter']==4)]\n",
    "            #df=pd.concat([df1,df2,df3,df4])\n",
    "        else:\n",
    "            df1=wages[(wages['year']==year_list[f])&(wages['area_fips']==FIPS_list[f][l])&(wages['quarter']==2)]\n",
    "            df2=wages[(wages['year']==year_list[f])&(wages['area_fips']==FIPS_list[f][l])&(wages['quarter']==3)]\n",
    "            df3=wages[(wages['year']==year_list[f])&(wages['area_fips']==FIPS_list[f][l])&(wages['quarter']==4)]\n",
    "            df4=wages[(wages['year']==(year_list[f]+1))&(wages['area_fips']==FIPS_list[f][l])&(wages['quarter']==1)]\n",
    "            #df=pd.concat([df1,df2,df3,df4])\n",
    "        wages_new1=pd.concat([wages_new1,df1])\n",
    "        wages_new2=pd.concat([wages_new2,df2])\n",
    "        wages_new3=pd.concat([wages_new3,df3])\n",
    "        wages_new4=pd.concat([wages_new4,df4])"
   ]
  },
  {
   "cell_type": "code",
   "execution_count": 109,
   "metadata": {},
   "outputs": [
    {
     "data": {
      "text/plain": [
       "((57, 11), (57, 11), (57, 11), (57, 11))"
      ]
     },
     "execution_count": 109,
     "metadata": {},
     "output_type": "execute_result"
    }
   ],
   "source": [
    "wages_new1.shape,wages_new3.shape,wages_new3.shape,wages_new4.shape,"
   ]
  },
  {
   "cell_type": "code",
   "execution_count": 110,
   "metadata": {},
   "outputs": [],
   "source": [
    "#rename columns\n",
    "for j in wages_new2.columns:\n",
    "    wages_new2.rename(columns={j:j+'_q-1'})\n",
    "for k in wages_new3.columns:\n",
    "    wages_new3.rename(columns={k:k+'_q0'})\n",
    "for l in wages_new4.columns:\n",
    "    wages_new4.rename(columns={l:l+'_q1'})"
   ]
  },
  {
   "cell_type": "code",
   "execution_count": 119,
   "metadata": {},
   "outputs": [],
   "source": [
    "w1=wages_new1.reset_index(drop=True)\n",
    "w2=wages_new2.reset_index(drop=True)\n",
    "w3=wages_new3.reset_index(drop=True)\n",
    "w4=wages_new4.reset_index(drop=True)"
   ]
  },
  {
   "cell_type": "code",
   "execution_count": 120,
   "metadata": {},
   "outputs": [],
   "source": [
    "#Convert 4 rows, each with 1 quarter into 1 row with 4 quarters\n",
    "wages_fin=pd.concat([w1,w2,w3,w4],axis=1)"
   ]
  },
  {
   "cell_type": "code",
   "execution_count": 121,
   "metadata": {},
   "outputs": [],
   "source": [
    "wages_fin.to_csv('../datasets/other/wages_final.csv', index=False)"
   ]
  }
 ],
 "metadata": {
  "kernelspec": {
   "display_name": "Python 3",
   "language": "python",
   "name": "python3"
  },
  "language_info": {
   "codemirror_mode": {
    "name": "ipython",
    "version": 3
   },
   "file_extension": ".py",
   "mimetype": "text/x-python",
   "name": "python",
   "nbconvert_exporter": "python",
   "pygments_lexer": "ipython3",
   "version": "3.7.6"
  }
 },
 "nbformat": 4,
 "nbformat_minor": 4
}
